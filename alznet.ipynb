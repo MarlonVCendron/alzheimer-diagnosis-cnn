{
 "cells": [
  {
   "cell_type": "code",
   "execution_count": 6,
   "metadata": {
    "id": "q3afmNxTFiBV"
   },
   "outputs": [],
   "source": [
    "import torch\n",
    "import torch.nn as nn\n",
    "import torch.nn.functional as F\n",
    "import torch.optim as optim\n",
    "import numpy as np\n",
    "\n",
    "device = torch.device(\"cuda:0\" if torch.cuda.is_available() else \"cpu\")\n",
    "# device = torch.device(\"cpu\")"
   ]
  },
  {
   "cell_type": "code",
   "execution_count": 7,
   "metadata": {},
   "outputs": [],
   "source": [
    "from sklearn.model_selection import train_test_split\n",
    "\n",
    "data = np.array([], dtype=np.float32)\n",
    "labels = np.array([], dtype=np.float32)\n",
    "\n",
    "with open('data.npy', 'rb') as f:\n",
    "    data = np.load(f)\n",
    "\n",
    "with open('labels.npy', 'rb') as f:\n",
    "    labels = np.load(f)\n",
    "\n",
    "torch.cuda.empty_cache()\n",
    "\n",
    "data = np.expand_dims(data, axis=1)\n",
    "data = torch.from_numpy(data).to(torch.float).to(device)\n",
    "\n",
    "labels = (labels == 'AD').astype(int)\n",
    "labels = np.expand_dims(labels, axis=1)\n",
    "labels = torch.from_numpy(labels).to(torch.float).to(device)\n",
    "\n",
    "x_train, x_test, y_train, y_test = train_test_split(data, labels, test_size=1/4, random_state=0)"
   ]
  },
  {
   "cell_type": "code",
   "execution_count": 8,
   "metadata": {
    "id": "jg-RZaeEM904"
   },
   "outputs": [],
   "source": [
    "class AlzNet(nn.Module):\n",
    "    def __init__(self, p=0.2):\n",
    "        super().__init__()\n",
    "        self.conv1 = nn.Conv2d(1, 128, 11)\n",
    "        self.pool1 = nn.MaxPool2d(2, 2)\n",
    "        self.conv2 = nn.Conv2d(128, 98, 9)\n",
    "        self.pool2 = nn.MaxPool2d(2, 2)\n",
    "        self.conv3 = nn.Conv2d(98, 40, 7)\n",
    "        self.pool3 = nn.MaxPool2d(2, 2)\n",
    "        self.conv4 = nn.Conv2d(40, 20, 5)\n",
    "        self.pool4 = nn.MaxPool2d(2, 2)\n",
    "        self.fc1 = nn.Linear(200, 97)\n",
    "        self.fc2 = nn.Linear(97, 30)\n",
    "        self.dropout = nn.Dropout(p)\n",
    "        self.fc3 = nn.Linear(30, 1)\n",
    "\n",
    "    def forward(self, x):\n",
    "        x = self.pool1(F.relu(self.conv1(x)))\n",
    "        x = self.pool2(F.relu(self.conv2(x)))\n",
    "        x = self.pool3(F.relu(self.conv3(x)))\n",
    "        x = self.pool4(F.relu(self.conv4(x)))\n",
    "        x = torch.flatten(x)\n",
    "        x = F.relu(self.fc1(x))\n",
    "        x = self.dropout(x)\n",
    "        x = F.relu(self.fc2(x))\n",
    "        x = self.dropout(x)\n",
    "        x = torch.sigmoid(self.fc3(x))\n",
    "        return x"
   ]
  },
  {
   "cell_type": "code",
   "execution_count": 9,
   "metadata": {},
   "outputs": [],
   "source": [
    "alznet = AlzNet().to(torch.float).to(device)\n",
    "\n",
    "criterion = nn.BCELoss().to(torch.float)\n",
    "optimizer = optim.SGD(alznet.parameters(), lr=0.001, momentum=0.9)\n"
   ]
  },
  {
   "cell_type": "code",
   "execution_count": 10,
   "metadata": {},
   "outputs": [
    {
     "name": "stdout",
     "output_type": "stream",
     "text": [
      "epoch 49\tloss : 0.6832414019107819\n",
      "epoch 99\tloss : 0.6388124680519104\n",
      "epoch 149\tloss : 0.6933472061157226\n",
      "epoch 199\tloss : 0.681906179189682\n",
      "epoch 249\tloss : 0.6424843168258667\n",
      "epoch 299\tloss : 0.6951129806041717\n",
      "epoch 349\tloss : 0.6379214107990265\n",
      "epoch 399\tloss : 0.6895878207683563\n",
      "epoch 449\tloss : 0.6663791191577911\n",
      "epoch 499\tloss : 0.6895023584365845\n",
      "epoch 549\tloss : 0.6339124882221222\n",
      "epoch 599\tloss : 0.5681325453519821\n",
      "epoch 649\tloss : 0.6870383471250534\n",
      "epoch 699\tloss : 0.697020155787468\n",
      "epoch 749\tloss : 0.5826418495178223\n",
      "epoch 799\tloss : 0.6991322249174118\n",
      "epoch 849\tloss : 0.6540512919425965\n",
      "epoch 899\tloss : 0.708467527627945\n",
      "epoch 949\tloss : 0.6838316851854325\n",
      "epoch 49\tloss : 0.6656794512271881\n",
      "epoch 99\tloss : 0.573463117480278\n",
      "epoch 149\tloss : 0.7102729320526123\n",
      "epoch 199\tloss : 0.6860671186447144\n",
      "epoch 249\tloss : 0.6236941295862198\n",
      "epoch 299\tloss : 0.7059419775009155\n",
      "epoch 349\tloss : 0.6248821014165878\n",
      "epoch 399\tloss : 0.6957513254880905\n",
      "epoch 449\tloss : 0.6652196359634399\n",
      "epoch 499\tloss : 0.693340665102005\n",
      "epoch 549\tloss : 0.6270260167121887\n",
      "epoch 599\tloss : 0.5551338571310044\n",
      "epoch 649\tloss : 0.6907489347457886\n",
      "epoch 699\tloss : 0.7002063244581223\n",
      "epoch 749\tloss : 0.576666961312294\n",
      "epoch 799\tloss : 0.7018791902065277\n",
      "epoch 849\tloss : 0.653967245221138\n",
      "epoch 899\tloss : 0.7105401080846786\n",
      "epoch 949\tloss : 0.6845454043149948\n",
      "epoch 49\tloss : 0.6657963383197785\n",
      "epoch 99\tloss : 0.5711313432455063\n",
      "epoch 149\tloss : 0.7115332186222076\n",
      "epoch 199\tloss : 0.6864266711473465\n",
      "epoch 249\tloss : 0.6229043418169021\n",
      "epoch 299\tloss : 0.7062527495622635\n",
      "epoch 349\tloss : 0.6241894173622131\n",
      "epoch 399\tloss : 0.6959593868255616\n",
      "epoch 449\tloss : 0.6650924479961395\n",
      "epoch 499\tloss : 0.6932798200845718\n",
      "epoch 549\tloss : 0.6267734241485595\n",
      "epoch 599\tloss : 0.5536184877157211\n",
      "epoch 649\tloss : 0.6913298654556275\n",
      "epoch 699\tloss : 0.700381144285202\n",
      "epoch 749\tloss : 0.5763968342542648\n",
      "epoch 799\tloss : 0.7019940322637558\n",
      "epoch 849\tloss : 0.6539490801095963\n",
      "epoch 899\tloss : 0.7103883057832718\n",
      "epoch 949\tloss : 0.6842391312122345\n",
      "epoch 49\tloss : 0.6658886587619781\n",
      "epoch 99\tloss : 0.5710677826404571\n",
      "epoch 149\tloss : 0.7116496109962464\n",
      "epoch 199\tloss : 0.6861661583185196\n",
      "epoch 249\tloss : 0.6226585382223129\n",
      "epoch 299\tloss : 0.7056675028800964\n",
      "epoch 349\tloss : 0.6238656347990036\n",
      "epoch 399\tloss : 0.6958170038461685\n",
      "epoch 449\tloss : 0.6649169880151748\n",
      "epoch 499\tloss : 0.6926810020208358\n",
      "epoch 549\tloss : 0.6268743067979813\n",
      "epoch 599\tloss : 0.5521810096502304\n",
      "epoch 649\tloss : 0.6922262090444565\n",
      "epoch 699\tloss : 0.7002257359027863\n",
      "epoch 749\tloss : 0.5765541750192642\n",
      "epoch 799\tloss : 0.7018778651952744\n",
      "epoch 849\tloss : 0.6539717817306518\n",
      "epoch 899\tloss : 0.7098283606767655\n",
      "epoch 949\tloss : 0.6837695908546447\n",
      "epoch 49\tloss : 0.6663260942697525\n",
      "epoch 99\tloss : 0.5712155950069427\n",
      "epoch 149\tloss : 0.7118462479114532\n",
      "epoch 199\tloss : 0.6858840268850327\n",
      "epoch 249\tloss : 0.6223692309856415\n",
      "epoch 299\tloss : 0.704669924378395\n",
      "epoch 349\tloss : 0.6234893238544464\n",
      "epoch 399\tloss : 0.6954946595430375\n",
      "epoch 449\tloss : 0.6646400809288024\n",
      "epoch 499\tloss : 0.6914173412322998\n",
      "epoch 549\tloss : 0.6271937441825867\n",
      "epoch 599\tloss : 0.54766064286232\n",
      "epoch 649\tloss : 0.6964654159545899\n",
      "epoch 699\tloss : 0.698462780714035\n",
      "epoch 749\tloss : 0.5787819713354111\n",
      "epoch 799\tloss : 0.7019792968034744\n",
      "epoch 849\tloss : 0.6543708348274231\n",
      "epoch 899\tloss : 0.7086188119649887\n",
      "epoch 949\tloss : 0.6825325512886047\n"
     ]
    }
   ],
   "source": [
    "epochs = 5\n",
    "\n",
    "data_batches = torch.chunk(x_train, 1038)\n",
    "labels_batches = torch.chunk(y_train, 1038)\n",
    "\n",
    "losses = []\n",
    "\n",
    "for epoch in range(epochs):\n",
    "    running_loss = 0.0\n",
    "    for i, (X, Y) in enumerate(zip(data_batches, labels_batches)):\n",
    "\n",
    "        outputs = alznet(X)\n",
    "        loss = criterion(outputs, Y[0])\n",
    "\n",
    "        optimizer.zero_grad()\n",
    "        loss.backward()\n",
    "        optimizer.step()\n",
    "\n",
    "        running_loss += loss.item()\n",
    "\n",
    "        if i % 50 == 49:\n",
    "            losses.append(running_loss / 50)\n",
    "            print(f'epoch {i}\\tloss : {running_loss / 50}')\n",
    "            running_loss = 0.0\n"
   ]
  },
  {
   "cell_type": "code",
   "execution_count": null,
   "metadata": {},
   "outputs": [
    {
     "data": {
      "text/plain": [
       "torch.Size([3240, 1])"
      ]
     },
     "execution_count": 6,
     "metadata": {},
     "output_type": "execute_result"
    }
   ],
   "source": [
    "# data_batches[0].shape\n",
    "x_train.shape\n",
    "y_train.shape\n",
    "# labels_batches[0].shape"
   ]
  },
  {
   "cell_type": "code",
   "execution_count": 15,
   "metadata": {},
   "outputs": [
    {
     "data": {
      "image/png": "[encoded data removed]",
      "text/plain": [
       "<Figure size 432x288 with 1 Axes>"
      ]
     },
     "metadata": {
      "needs_background": "light"
     },
     "output_type": "display_data"
    }
   ],
   "source": [
    "import matplotlib.pyplot as plt\n",
    "plt.plot(losses)\n",
    "plt.ylabel('loss')\n",
    "plt.show()"
   ]
  }
 ],
 "metadata": {
  "colab": {
   "provenance": []
  },
  "kernelspec": {
   "display_name": "Python 3 (ipykernel)",
   "language": "python",
   "name": "python3"
  },
  "language_info": {
   "codemirror_mode": {
    "name": "ipython",
    "version": 3
   },
   "file_extension": ".py",
   "mimetype": "text/x-python",
   "name": "python",
   "nbconvert_exporter": "python",
   "pygments_lexer": "ipython3",
   "version": "3.10.7"
  },
  "vscode": {
   "interpreter": {
    "hash": "e7370f93d1d0cde622a1f8e1c04877d8463912d04d973331ad4851f04de6915a"
   }
  }
 },
 "nbformat": 4,
 "nbformat_minor": 1
}
