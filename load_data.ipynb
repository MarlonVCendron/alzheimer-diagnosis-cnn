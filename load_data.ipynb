{
 "cells": [
  {
   "cell_type": "code",
   "execution_count": 1,
   "metadata": {},
   "outputs": [],
   "source": [
    "import SimpleITK as sitk\n",
    "import numpy as np\n",
    "import matplotlib.pyplot as plt\n",
    "import math"
   ]
  },
  {
   "cell_type": "code",
   "execution_count": 2,
   "metadata": {},
   "outputs": [],
   "source": [
    "import csv\n",
    "\n",
    "csv_files = ['./ADNI1_Annual_2_Yr_3T_12_05_2022.csv', 'ADNI1_Complete_1Yr_3T_12_12_2022.csv']\n",
    "\n",
    "# Ex: {'037_S_0303': 'CN'}\n",
    "patient_groups = {}\n",
    "for file_path in csv_files:\n",
    "    with open(file_path, 'r') as file:\n",
    "        csvreader = csv.reader(file)\n",
    "        next(csvreader)\n",
    "        for row in csvreader:\n",
    "            if(row[2] == 'MCI'): continue\n",
    "            patient_groups[row[1]] = row[2]"
   ]
  },
  {
   "cell_type": "code",
   "execution_count": 3,
   "metadata": {},
   "outputs": [],
   "source": [
    "IMG_SHAPE = (100, 128, 128)\n",
    "\n",
    "def resample_img(itk_image, out_spacing=[2.0, 2.0, 2.0]):\n",
    "    original_spacing = itk_image.GetSpacing()\n",
    "    original_size = itk_image.GetSize()\n",
    "\n",
    "    out_size = [\n",
    "        int(np.round(original_size[0] *\n",
    "            (original_spacing[0] / out_spacing[0]))),\n",
    "        int(np.round(original_size[1] *\n",
    "            (original_spacing[1] / out_spacing[1]))),\n",
    "        int(np.round(original_size[2] * (original_spacing[2] / out_spacing[2])))]\n",
    "\n",
    "    resample = sitk.ResampleImageFilter()\n",
    "    resample.SetOutputSpacing(out_spacing)\n",
    "    resample.SetSize((IMG_SHAPE[2], IMG_SHAPE[1], IMG_SHAPE[0]))\n",
    "    resample.SetOutputDirection(itk_image.GetDirection())\n",
    "    resample.SetOutputOrigin(itk_image.GetOrigin())\n",
    "    resample.SetTransform(sitk.Transform())\n",
    "    resample.SetDefaultPixelValue(itk_image.GetPixelIDValue())\n",
    "\n",
    "    resample.SetInterpolator(sitk.sitkBSpline)\n",
    "\n",
    "    return resample.Execute(itk_image)\n"
   ]
  },
  {
   "cell_type": "code",
   "execution_count": 4,
   "metadata": {},
   "outputs": [],
   "source": [
    "def slices_matrix_2D(img):\n",
    "    images = []\n",
    "\n",
    "    TOP = math.floor(IMG_SHAPE[1] * 0.7)\n",
    "    N_CUTS = 24\n",
    "    STEP = math.floor((TOP - IMG_SHAPE[1] * 0.4) / N_CUTS)\n",
    "\n",
    "    cut_it = TOP\n",
    "\n",
    "    for cutting_time in range(N_CUTS):\n",
    "        cut = img[:IMG_SHAPE[1], cut_it, :IMG_SHAPE[2]]\n",
    "        images.append(cut)\n",
    "\n",
    "        cut_it -= STEP\n",
    "\n",
    "    return np.array(images)"
   ]
  },
  {
   "cell_type": "code",
   "execution_count": 5,
   "metadata": {},
   "outputs": [],
   "source": [
    "import os\n",
    "\n",
    "SKULL_STRIPPED_DB = '/home/marlon/escola/faculdade/6/padroes/ADNI_SKULL_STRIPPED/'\n",
    "\n",
    "def skull_strip_nii(original_img, destination_img, frac=0.4):\n",
    "    cmd_robustfov = f'robustfov -i {original_img} -r {destination_img}.cropped'\n",
    "    cmd_bet = f'bet {destination_img}.cropped {destination_img} -f {frac} -A -B -R'\n",
    "\n",
    "    os.system(cmd_robustfov)\n",
    "    os.system(cmd_bet)\n"
   ]
  },
  {
   "cell_type": "code",
   "execution_count": 6,
   "metadata": {},
   "outputs": [
    {
     "name": "stdout",
     "output_type": "stream",
     "text": [
      "Final FOV is: \n",
      "34.000000 165.000000 0.000000 256.000000 0.000000 166.000000 \n",
      "\n"
     ]
    },
    {
     "name": "stderr",
     "output_type": "stream",
     "text": [
      "/bin/fslval: line 91: /fsl/bin/fslhd: No such file or directory\n",
      "/bin/fslval: line 91: /fsl/bin/fslhd: No such file or directory\n",
      "/bin/fslval: line 91: /fsl/bin/fslhd: No such file or directory\n",
      "/bin/fslval: line 91: /fsl/bin/fslhd: No such file or directory\n",
      "/bin/fslval: line 91: /fsl/bin/fslhd: No such file or directory\n",
      "/bin/fslval: line 91: /fsl/bin/fslhd: No such file or directory\n",
      "/bin/bet: line 145: /bin/fslstats: No such file or directory\n"
     ]
    },
    {
     "name": "stdout",
     "output_type": "stream",
     "text": [
      "1\n",
      "Final FOV is: \n",
      "30.000000 165.000000 0.000000 256.000000 0.000000 166.000000 \n",
      "\n"
     ]
    },
    {
     "name": "stderr",
     "output_type": "stream",
     "text": [
      "/bin/fslval: line 91: /fsl/bin/fslhd: No such file or directory\n",
      "/bin/fslval: line 91: /fsl/bin/fslhd: No such file or directory\n",
      "/bin/fslval: line 91: /fsl/bin/fslhd: No such file or directory\n",
      "/bin/fslval: line 91: /fsl/bin/fslhd: No such file or directory\n",
      "/bin/fslval: line 91: /fsl/bin/fslhd: No such file or directory\n",
      "/bin/fslval: line 91: /fsl/bin/fslhd: No such file or directory\n",
      "/bin/bet: line 145: /bin/fslstats: No such file or directory\n"
     ]
    },
    {
     "name": "stdout",
     "output_type": "stream",
     "text": [
      "2\n",
      "Final FOV is: \n",
      "1.000000 165.000000 0.000000 256.000000 0.000000 166.000000 \n",
      "\n"
     ]
    },
    {
     "name": "stderr",
     "output_type": "stream",
     "text": [
      "/bin/fslval: line 91: /fsl/bin/fslhd: No such file or directory\n",
      "/bin/fslval: line 91: /fsl/bin/fslhd: No such file or directory\n",
      "/bin/fslval: line 91: /fsl/bin/fslhd: No such file or directory\n",
      "/bin/fslval: line 91: /fsl/bin/fslhd: No such file or directory\n",
      "/bin/fslval: line 91: /fsl/bin/fslhd: No such file or directory\n",
      "/bin/fslval: line 91: /fsl/bin/fslhd: No such file or directory\n",
      "/bin/bet: line 145: /bin/fslstats: No such file or directory\n"
     ]
    },
    {
     "name": "stdout",
     "output_type": "stream",
     "text": [
      "3\n",
      "Final FOV is: \n",
      "25.000000 165.000000 0.000000 256.000000 0.000000 166.000000 \n",
      "\n"
     ]
    },
    {
     "name": "stderr",
     "output_type": "stream",
     "text": [
      "/bin/fslval: line 91: /fsl/bin/fslhd: No such file or directory\n",
      "/bin/fslval: line 91: /fsl/bin/fslhd: No such file or directory\n",
      "/bin/fslval: line 91: /fsl/bin/fslhd: No such file or directory\n",
      "/bin/fslval: line 91: /fsl/bin/fslhd: No such file or directory\n",
      "/bin/fslval: line 91: /fsl/bin/fslhd: No such file or directory\n",
      "/bin/fslval: line 91: /fsl/bin/fslhd: No such file or directory\n",
      "/bin/bet: line 145: /bin/fslstats: No such file or directory\n"
     ]
    },
    {
     "name": "stdout",
     "output_type": "stream",
     "text": [
      "4\n",
      "Final FOV is: \n",
      "11.000000 167.000000 0.000000 256.000000 0.000000 166.000000 \n",
      "\n"
     ]
    },
    {
     "name": "stderr",
     "output_type": "stream",
     "text": [
      "/bin/fslval: line 91: /fsl/bin/fslhd: No such file or directory\n",
      "/bin/fslval: line 91: /fsl/bin/fslhd: No such file or directory\n",
      "/bin/fslval: line 91: /fsl/bin/fslhd: No such file or directory\n",
      "/bin/fslval: line 91: /fsl/bin/fslhd: No such file or directory\n",
      "/bin/fslval: line 91: /fsl/bin/fslhd: No such file or directory\n",
      "/bin/fslval: line 91: /fsl/bin/fslhd: No such file or directory\n",
      "/bin/bet: line 145: /bin/fslstats: No such file or directory\n"
     ]
    },
    {
     "name": "stdout",
     "output_type": "stream",
     "text": [
      "5\n",
      "Final FOV is: \n",
      "27.000000 167.000000 0.000000 256.000000 0.000000 166.000000 \n",
      "\n"
     ]
    },
    {
     "name": "stderr",
     "output_type": "stream",
     "text": [
      "/bin/fslval: line 91: /fsl/bin/fslhd: No such file or directory\n",
      "/bin/fslval: line 91: /fsl/bin/fslhd: No such file or directory\n",
      "/bin/fslval: line 91: /fsl/bin/fslhd: No such file or directory\n",
      "/bin/fslval: line 91: /fsl/bin/fslhd: No such file or directory\n",
      "/bin/fslval: line 91: /fsl/bin/fslhd: No such file or directory\n",
      "/bin/fslval: line 91: /fsl/bin/fslhd: No such file or directory\n",
      "/bin/bet: line 145: /bin/fslstats: No such file or directory\n"
     ]
    },
    {
     "name": "stdout",
     "output_type": "stream",
     "text": [
      "6\n",
      "Final FOV is: \n",
      "25.000000 167.000000 0.000000 256.000000 0.000000 166.000000 \n",
      "\n"
     ]
    },
    {
     "name": "stderr",
     "output_type": "stream",
     "text": [
      "/bin/fslval: line 91: /fsl/bin/fslhd: No such file or directory\n",
      "/bin/fslval: line 91: /fsl/bin/fslhd: No such file or directory\n",
      "/bin/fslval: line 91: /fsl/bin/fslhd: No such file or directory\n",
      "/bin/fslval: line 91: /fsl/bin/fslhd: No such file or directory\n",
      "/bin/fslval: line 91: /fsl/bin/fslhd: No such file or directory\n",
      "/bin/fslval: line 91: /fsl/bin/fslhd: No such file or directory\n",
      "/bin/bet: line 145: /bin/fslstats: No such file or directory\n"
     ]
    },
    {
     "name": "stdout",
     "output_type": "stream",
     "text": [
      "7\n",
      "Final FOV is: \n",
      "26.000000 167.000000 0.000000 256.000000 0.000000 166.000000 \n",
      "\n"
     ]
    },
    {
     "name": "stderr",
     "output_type": "stream",
     "text": [
      "/bin/fslval: line 91: /fsl/bin/fslhd: No such file or directory\n",
      "/bin/fslval: line 91: /fsl/bin/fslhd: No such file or directory\n",
      "/bin/fslval: line 91: /fsl/bin/fslhd: No such file or directory\n",
      "/bin/fslval: line 91: /fsl/bin/fslhd: No such file or directory\n",
      "/bin/fslval: line 91: /fsl/bin/fslhd: No such file or directory\n",
      "/bin/fslval: line 91: /fsl/bin/fslhd: No such file or directory\n",
      "/bin/bet: line 145: /bin/fslstats: No such file or directory\n"
     ]
    },
    {
     "name": "stdout",
     "output_type": "stream",
     "text": [
      "8\n",
      "Final FOV is: \n",
      "1.000000 170.000000 0.000000 256.000000 0.000000 170.000000 \n",
      "\n"
     ]
    },
    {
     "name": "stderr",
     "output_type": "stream",
     "text": [
      "/bin/fslval: line 91: /fsl/bin/fslhd: No such file or directory\n",
      "/bin/fslval: line 91: /fsl/bin/fslhd: No such file or directory\n",
      "/bin/fslval: line 91: /fsl/bin/fslhd: No such file or directory\n",
      "/bin/fslval: line 91: /fsl/bin/fslhd: No such file or directory\n",
      "/bin/fslval: line 91: /fsl/bin/fslhd: No such file or directory\n",
      "/bin/fslval: line 91: /fsl/bin/fslhd: No such file or directory\n",
      "/bin/bet: line 145: /bin/fslstats: No such file or directory\n"
     ]
    },
    {
     "name": "stdout",
     "output_type": "stream",
     "text": [
      "9\n",
      "Final FOV is: \n",
      "43.000000 169.000000 0.000000 256.000000 0.000000 170.000000 \n",
      "\n"
     ]
    },
    {
     "name": "stderr",
     "output_type": "stream",
     "text": [
      "/bin/fslval: line 91: /fsl/bin/fslhd: No such file or directory\n",
      "/bin/fslval: line 91: /fsl/bin/fslhd: No such file or directory\n",
      "/bin/fslval: line 91: /fsl/bin/fslhd: No such file or directory\n",
      "/bin/fslval: line 91: /fsl/bin/fslhd: No such file or directory\n",
      "/bin/fslval: line 91: /fsl/bin/fslhd: No such file or directory\n",
      "/bin/fslval: line 91: /fsl/bin/fslhd: No such file or directory\n",
      "/bin/bet: line 145: /bin/fslstats: No such file or directory\n"
     ]
    },
    {
     "name": "stdout",
     "output_type": "stream",
     "text": [
      "10\n",
      "Final FOV is: \n",
      "1.000000 170.000000 0.000000 256.000000 0.000000 170.000000 \n",
      "\n"
     ]
    },
    {
     "name": "stderr",
     "output_type": "stream",
     "text": [
      "/bin/fslval: line 91: /fsl/bin/fslhd: No such file or directory\n",
      "/bin/fslval: line 91: /fsl/bin/fslhd: No such file or directory\n",
      "/bin/fslval: line 91: /fsl/bin/fslhd: No such file or directory\n",
      "/bin/fslval: line 91: /fsl/bin/fslhd: No such file or directory\n",
      "/bin/fslval: line 91: /fsl/bin/fslhd: No such file or directory\n",
      "/bin/fslval: line 91: /fsl/bin/fslhd: No such file or directory\n",
      "/bin/bet: line 145: /bin/fslstats: No such file or directory\n"
     ]
    },
    {
     "name": "stdout",
     "output_type": "stream",
     "text": [
      "11\n",
      "Final FOV is: \n",
      "1.000000 169.000000 0.000000 256.000000 0.000000 170.000000 \n",
      "\n"
     ]
    },
    {
     "name": "stderr",
     "output_type": "stream",
     "text": [
      "/bin/fslval: line 91: /fsl/bin/fslhd: No such file or directory\n",
      "/bin/fslval: line 91: /fsl/bin/fslhd: No such file or directory\n",
      "/bin/fslval: line 91: /fsl/bin/fslhd: No such file or directory\n",
      "/bin/fslval: line 91: /fsl/bin/fslhd: No such file or directory\n",
      "/bin/fslval: line 91: /fsl/bin/fslhd: No such file or directory\n",
      "/bin/fslval: line 91: /fsl/bin/fslhd: No such file or directory\n",
      "/bin/bet: line 145: /bin/fslstats: No such file or directory\n"
     ]
    },
    {
     "name": "stdout",
     "output_type": "stream",
     "text": [
      "12\n",
      "Final FOV is: \n",
      "36.000000 169.000000 0.000000 256.000000 0.000000 170.000000 \n",
      "\n"
     ]
    },
    {
     "name": "stderr",
     "output_type": "stream",
     "text": [
      "/bin/fslval: line 91: /fsl/bin/fslhd: No such file or directory\n",
      "/bin/fslval: line 91: /fsl/bin/fslhd: No such file or directory\n",
      "/bin/fslval: line 91: /fsl/bin/fslhd: No such file or directory\n",
      "/bin/fslval: line 91: /fsl/bin/fslhd: No such file or directory\n",
      "/bin/fslval: line 91: /fsl/bin/fslhd: No such file or directory\n",
      "/bin/fslval: line 91: /fsl/bin/fslhd: No such file or directory\n",
      "/bin/bet: line 145: /bin/fslstats: No such file or directory\n"
     ]
    },
    {
     "name": "stdout",
     "output_type": "stream",
     "text": [
      "13\n",
      "Final FOV is: \n",
      "22.000000 170.000000 0.000000 256.000000 0.000000 160.000000 \n",
      "\n"
     ]
    },
    {
     "name": "stderr",
     "output_type": "stream",
     "text": [
      "/bin/fslval: line 91: /fsl/bin/fslhd: No such file or directory\n",
      "/bin/fslval: line 91: /fsl/bin/fslhd: No such file or directory\n",
      "/bin/fslval: line 91: /fsl/bin/fslhd: No such file or directory\n",
      "/bin/fslval: line 91: /fsl/bin/fslhd: No such file or directory\n",
      "/bin/fslval: line 91: /fsl/bin/fslhd: No such file or directory\n",
      "/bin/fslval: line 91: /fsl/bin/fslhd: No such file or directory\n",
      "/bin/bet: line 145: /bin/fslstats: No such file or directory\n"
     ]
    },
    {
     "name": "stdout",
     "output_type": "stream",
     "text": [
      "14\n",
      "Final FOV is: \n",
      "41.000000 169.000000 0.000000 256.000000 0.000000 160.000000 \n",
      "\n"
     ]
    },
    {
     "name": "stderr",
     "output_type": "stream",
     "text": [
      "/bin/fslval: line 91: /fsl/bin/fslhd: No such file or directory\n",
      "/bin/fslval: line 91: /fsl/bin/fslhd: No such file or directory\n",
      "/bin/fslval: line 91: /fsl/bin/fslhd: No such file or directory\n",
      "/bin/fslval: line 91: /fsl/bin/fslhd: No such file or directory\n",
      "/bin/fslval: line 91: /fsl/bin/fslhd: No such file or directory\n",
      "/bin/fslval: line 91: /fsl/bin/fslhd: No such file or directory\n",
      "/bin/bet: line 145: /bin/fslstats: No such file or directory\n"
     ]
    },
    {
     "name": "stdout",
     "output_type": "stream",
     "text": [
      "15\n",
      "Final FOV is: \n",
      "20.000000 170.000000 0.000000 256.000000 0.000000 160.000000 \n",
      "\n"
     ]
    },
    {
     "name": "stderr",
     "output_type": "stream",
     "text": [
      "/bin/fslval: line 91: /fsl/bin/fslhd: No such file or directory\n",
      "/bin/fslval: line 91: /fsl/bin/fslhd: No such file or directory\n",
      "/bin/fslval: line 91: /fsl/bin/fslhd: No such file or directory\n",
      "/bin/fslval: line 91: /fsl/bin/fslhd: No such file or directory\n",
      "/bin/fslval: line 91: /fsl/bin/fslhd: No such file or directory\n",
      "/bin/fslval: line 91: /fsl/bin/fslhd: No such file or directory\n",
      "/bin/bet: line 145: /bin/fslstats: No such file or directory\n"
     ]
    },
    {
     "name": "stdout",
     "output_type": "stream",
     "text": [
      "16\n",
      "Final FOV is: \n",
      "25.000000 169.000000 0.000000 256.000000 0.000000 160.000000 \n",
      "\n"
     ]
    },
    {
     "name": "stderr",
     "output_type": "stream",
     "text": [
      "/bin/fslval: line 91: /fsl/bin/fslhd: No such file or directory\n",
      "/bin/fslval: line 91: /fsl/bin/fslhd: No such file or directory\n",
      "/bin/fslval: line 91: /fsl/bin/fslhd: No such file or directory\n",
      "/bin/fslval: line 91: /fsl/bin/fslhd: No such file or directory\n",
      "/bin/fslval: line 91: /fsl/bin/fslhd: No such file or directory\n",
      "/bin/fslval: line 91: /fsl/bin/fslhd: No such file or directory\n",
      "/bin/bet: line 145: /bin/fslstats: No such file or directory\n"
     ]
    },
    {
     "name": "stdout",
     "output_type": "stream",
     "text": [
      "17\n",
      "Final FOV is: \n",
      "1.000000 166.000000 0.000000 256.000000 0.000000 166.000000 \n",
      "\n"
     ]
    },
    {
     "name": "stderr",
     "output_type": "stream",
     "text": [
      "/bin/fslval: line 91: /fsl/bin/fslhd: No such file or directory\n",
      "/bin/fslval: line 91: /fsl/bin/fslhd: No such file or directory\n",
      "/bin/fslval: line 91: /fsl/bin/fslhd: No such file or directory\n",
      "/bin/fslval: line 91: /fsl/bin/fslhd: No such file or directory\n",
      "/bin/fslval: line 91: /fsl/bin/fslhd: No such file or directory\n",
      "/bin/fslval: line 91: /fsl/bin/fslhd: No such file or directory\n",
      "/bin/bet: line 145: /bin/fslstats: No such file or directory\n"
     ]
    },
    {
     "name": "stdout",
     "output_type": "stream",
     "text": [
      "18\n",
      "Final FOV is: \n",
      "37.000000 166.000000 0.000000 256.000000 0.000000 166.000000 \n",
      "\n"
     ]
    },
    {
     "name": "stderr",
     "output_type": "stream",
     "text": [
      "/bin/fslval: line 91: /fsl/bin/fslhd: No such file or directory\n",
      "/bin/fslval: line 91: /fsl/bin/fslhd: No such file or directory\n",
      "/bin/fslval: line 91: /fsl/bin/fslhd: No such file or directory\n",
      "/bin/fslval: line 91: /fsl/bin/fslhd: No such file or directory\n",
      "/bin/fslval: line 91: /fsl/bin/fslhd: No such file or directory\n",
      "/bin/fslval: line 91: /fsl/bin/fslhd: No such file or directory\n",
      "/bin/bet: line 145: /bin/fslstats: No such file or directory\n"
     ]
    },
    {
     "name": "stdout",
     "output_type": "stream",
     "text": [
      "19\n",
      "Final FOV is: \n",
      "44.000000 167.000000 0.000000 256.000000 0.000000 166.000000 \n",
      "\n"
     ]
    },
    {
     "name": "stderr",
     "output_type": "stream",
     "text": [
      "/bin/fslval: line 91: /fsl/bin/fslhd: No such file or directory\n",
      "/bin/fslval: line 91: /fsl/bin/fslhd: No such file or directory\n",
      "/bin/fslval: line 91: /fsl/bin/fslhd: No such file or directory\n",
      "/bin/fslval: line 91: /fsl/bin/fslhd: No such file or directory\n",
      "/bin/fslval: line 91: /fsl/bin/fslhd: No such file or directory\n",
      "/bin/fslval: line 91: /fsl/bin/fslhd: No such file or directory\n",
      "/bin/bet: line 145: /bin/fslstats: No such file or directory\n"
     ]
    },
    {
     "name": "stdout",
     "output_type": "stream",
     "text": [
      "20\n",
      "Final FOV is: \n",
      "53.000000 165.000000 0.000000 256.000000 0.000000 166.000000 \n",
      "\n"
     ]
    },
    {
     "name": "stderr",
     "output_type": "stream",
     "text": [
      "/bin/fslval: line 91: /fsl/bin/fslhd: No such file or directory\n",
      "/bin/fslval: line 91: /fsl/bin/fslhd: No such file or directory\n",
      "/bin/fslval: line 91: /fsl/bin/fslhd: No such file or directory\n",
      "/bin/fslval: line 91: /fsl/bin/fslhd: No such file or directory\n",
      "/bin/fslval: line 91: /fsl/bin/fslhd: No such file or directory\n",
      "/bin/fslval: line 91: /fsl/bin/fslhd: No such file or directory\n",
      "/bin/bet: line 145: /bin/fslstats: No such file or directory\n"
     ]
    },
    {
     "name": "stdout",
     "output_type": "stream",
     "text": [
      "21\n",
      "Final FOV is: \n",
      "54.000000 165.000000 0.000000 256.000000 0.000000 166.000000 \n",
      "\n"
     ]
    },
    {
     "name": "stderr",
     "output_type": "stream",
     "text": [
      "/bin/fslval: line 91: /fsl/bin/fslhd: No such file or directory\n",
      "/bin/fslval: line 91: /fsl/bin/fslhd: No such file or directory\n",
      "/bin/fslval: line 91: /fsl/bin/fslhd: No such file or directory\n",
      "/bin/fslval: line 91: /fsl/bin/fslhd: No such file or directory\n",
      "/bin/fslval: line 91: /fsl/bin/fslhd: No such file or directory\n",
      "/bin/fslval: line 91: /fsl/bin/fslhd: No such file or directory\n",
      "/bin/bet: line 145: /bin/fslstats: No such file or directory\n"
     ]
    },
    {
     "name": "stdout",
     "output_type": "stream",
     "text": [
      "22\n",
      "Final FOV is: \n",
      "54.000000 167.000000 0.000000 256.000000 0.000000 166.000000 \n",
      "\n"
     ]
    },
    {
     "name": "stderr",
     "output_type": "stream",
     "text": [
      "/bin/fslval: line 91: /fsl/bin/fslhd: No such file or directory\n",
      "/bin/fslval: line 91: /fsl/bin/fslhd: No such file or directory\n",
      "/bin/fslval: line 91: /fsl/bin/fslhd: No such file or directory\n",
      "/bin/fslval: line 91: /fsl/bin/fslhd: No such file or directory\n",
      "/bin/fslval: line 91: /fsl/bin/fslhd: No such file or directory\n",
      "/bin/fslval: line 91: /fsl/bin/fslhd: No such file or directory\n",
      "/bin/bet: line 145: /bin/fslstats: No such file or directory\n"
     ]
    },
    {
     "name": "stdout",
     "output_type": "stream",
     "text": [
      "23\n",
      "Final FOV is: \n",
      "54.000000 165.000000 0.000000 256.000000 0.000000 166.000000 \n",
      "\n"
     ]
    },
    {
     "name": "stderr",
     "output_type": "stream",
     "text": [
      "/bin/fslval: line 91: /fsl/bin/fslhd: No such file or directory\n",
      "/bin/fslval: line 91: /fsl/bin/fslhd: No such file or directory\n",
      "/bin/fslval: line 91: /fsl/bin/fslhd: No such file or directory\n",
      "/bin/fslval: line 91: /fsl/bin/fslhd: No such file or directory\n",
      "/bin/fslval: line 91: /fsl/bin/fslhd: No such file or directory\n",
      "/bin/fslval: line 91: /fsl/bin/fslhd: No such file or directory\n",
      "/bin/bet: line 145: /bin/fslstats: No such file or directory\n"
     ]
    },
    {
     "name": "stdout",
     "output_type": "stream",
     "text": [
      "24\n",
      "Final FOV is: \n",
      "51.000000 169.000000 0.000000 256.000000 0.000000 170.000000 \n",
      "\n"
     ]
    },
    {
     "name": "stderr",
     "output_type": "stream",
     "text": [
      "/bin/fslval: line 91: /fsl/bin/fslhd: No such file or directory\n",
      "/bin/fslval: line 91: /fsl/bin/fslhd: No such file or directory\n",
      "/bin/fslval: line 91: /fsl/bin/fslhd: No such file or directory\n",
      "/bin/fslval: line 91: /fsl/bin/fslhd: No such file or directory\n",
      "/bin/fslval: line 91: /fsl/bin/fslhd: No such file or directory\n",
      "/bin/fslval: line 91: /fsl/bin/fslhd: No such file or directory\n",
      "/bin/bet: line 145: /bin/fslstats: No such file or directory\n"
     ]
    },
    {
     "name": "stdout",
     "output_type": "stream",
     "text": [
      "25\n",
      "Final FOV is: \n",
      "1.000000 168.000000 0.000000 256.000000 0.000000 170.000000 \n",
      "\n"
     ]
    },
    {
     "name": "stderr",
     "output_type": "stream",
     "text": [
      "/bin/fslval: line 91: /fsl/bin/fslhd: No such file or directory\n",
      "/bin/fslval: line 91: /fsl/bin/fslhd: No such file or directory\n",
      "/bin/fslval: line 91: /fsl/bin/fslhd: No such file or directory\n",
      "/bin/fslval: line 91: /fsl/bin/fslhd: No such file or directory\n",
      "/bin/fslval: line 91: /fsl/bin/fslhd: No such file or directory\n",
      "/bin/fslval: line 91: /fsl/bin/fslhd: No such file or directory\n",
      "/bin/bet: line 145: /bin/fslstats: No such file or directory\n"
     ]
    },
    {
     "name": "stdout",
     "output_type": "stream",
     "text": [
      "26\n",
      "Final FOV is: \n",
      "1.000000 169.000000 0.000000 256.000000 0.000000 170.000000 \n",
      "\n"
     ]
    },
    {
     "name": "stderr",
     "output_type": "stream",
     "text": [
      "/bin/fslval: line 91: /fsl/bin/fslhd: No such file or directory\n",
      "/bin/fslval: line 91: /fsl/bin/fslhd: No such file or directory\n",
      "/bin/fslval: line 91: /fsl/bin/fslhd: No such file or directory\n",
      "/bin/fslval: line 91: /fsl/bin/fslhd: No such file or directory\n",
      "/bin/fslval: line 91: /fsl/bin/fslhd: No such file or directory\n",
      "/bin/fslval: line 91: /fsl/bin/fslhd: No such file or directory\n",
      "/bin/bet: line 145: /bin/fslstats: No such file or directory\n"
     ]
    },
    {
     "name": "stdout",
     "output_type": "stream",
     "text": [
      "27\n",
      "Final FOV is: \n",
      "42.000000 168.000000 0.000000 256.000000 0.000000 170.000000 \n",
      "\n"
     ]
    },
    {
     "name": "stderr",
     "output_type": "stream",
     "text": [
      "/bin/fslval: line 91: /fsl/bin/fslhd: No such file or directory\n",
      "/bin/fslval: line 91: /fsl/bin/fslhd: No such file or directory\n",
      "/bin/fslval: line 91: /fsl/bin/fslhd: No such file or directory\n",
      "/bin/fslval: line 91: /fsl/bin/fslhd: No such file or directory\n",
      "/bin/fslval: line 91: /fsl/bin/fslhd: No such file or directory\n",
      "/bin/fslval: line 91: /fsl/bin/fslhd: No such file or directory\n",
      "/bin/bet: line 145: /bin/fslstats: No such file or directory\n"
     ]
    },
    {
     "name": "stdout",
     "output_type": "stream",
     "text": [
      "28\n",
      "Final FOV is: \n",
      "44.000000 169.000000 0.000000 256.000000 0.000000 160.000000 \n",
      "\n"
     ]
    },
    {
     "name": "stderr",
     "output_type": "stream",
     "text": [
      "/bin/fslval: line 91: /fsl/bin/fslhd: No such file or directory\n",
      "/bin/fslval: line 91: /fsl/bin/fslhd: No such file or directory\n",
      "/bin/fslval: line 91: /fsl/bin/fslhd: No such file or directory\n",
      "/bin/fslval: line 91: /fsl/bin/fslhd: No such file or directory\n",
      "/bin/fslval: line 91: /fsl/bin/fslhd: No such file or directory\n",
      "/bin/fslval: line 91: /fsl/bin/fslhd: No such file or directory\n",
      "/bin/bet: line 145: /bin/fslstats: No such file or directory\n"
     ]
    },
    {
     "name": "stdout",
     "output_type": "stream",
     "text": [
      "29\n",
      "Final FOV is: \n",
      "30.000000 170.000000 0.000000 256.000000 0.000000 160.000000 \n",
      "\n"
     ]
    },
    {
     "name": "stderr",
     "output_type": "stream",
     "text": [
      "/bin/fslval: line 91: /fsl/bin/fslhd: No such file or directory\n",
      "/bin/fslval: line 91: /fsl/bin/fslhd: No such file or directory\n",
      "/bin/fslval: line 91: /fsl/bin/fslhd: No such file or directory\n",
      "/bin/fslval: line 91: /fsl/bin/fslhd: No such file or directory\n",
      "/bin/fslval: line 91: /fsl/bin/fslhd: No such file or directory\n",
      "/bin/fslval: line 91: /fsl/bin/fslhd: No such file or directory\n",
      "/bin/bet: line 145: /bin/fslstats: No such file or directory\n"
     ]
    },
    {
     "name": "stdout",
     "output_type": "stream",
     "text": [
      "30\n",
      "Final FOV is: \n",
      "68.000000 170.000000 0.000000 256.000000 0.000000 160.000000 \n",
      "\n"
     ]
    },
    {
     "name": "stderr",
     "output_type": "stream",
     "text": [
      "/bin/fslval: line 91: /fsl/bin/fslhd: No such file or directory\n",
      "/bin/fslval: line 91: /fsl/bin/fslhd: No such file or directory\n",
      "/bin/fslval: line 91: /fsl/bin/fslhd: No such file or directory\n",
      "/bin/fslval: line 91: /fsl/bin/fslhd: No such file or directory\n",
      "/bin/fslval: line 91: /fsl/bin/fslhd: No such file or directory\n",
      "/bin/fslval: line 91: /fsl/bin/fslhd: No such file or directory\n",
      "/bin/bet: line 145: /bin/fslstats: No such file or directory\n"
     ]
    },
    {
     "name": "stdout",
     "output_type": "stream",
     "text": [
      "31\n",
      "Final FOV is: \n",
      "48.000000 168.000000 0.000000 256.000000 0.000000 170.000000 \n",
      "\n"
     ]
    },
    {
     "name": "stderr",
     "output_type": "stream",
     "text": [
      "/bin/fslval: line 91: /fsl/bin/fslhd: No such file or directory\n",
      "/bin/fslval: line 91: /fsl/bin/fslhd: No such file or directory\n",
      "/bin/fslval: line 91: /fsl/bin/fslhd: No such file or directory\n",
      "/bin/fslval: line 91: /fsl/bin/fslhd: No such file or directory\n",
      "/bin/fslval: line 91: /fsl/bin/fslhd: No such file or directory\n",
      "/bin/fslval: line 91: /fsl/bin/fslhd: No such file or directory\n",
      "/bin/bet: line 145: /bin/fslstats: No such file or directory\n"
     ]
    },
    {
     "name": "stdout",
     "output_type": "stream",
     "text": [
      "32\n",
      "Final FOV is: \n",
      "47.000000 168.000000 0.000000 256.000000 0.000000 170.000000 \n",
      "\n"
     ]
    },
    {
     "name": "stderr",
     "output_type": "stream",
     "text": [
      "/bin/fslval: line 91: /fsl/bin/fslhd: No such file or directory\n",
      "/bin/fslval: line 91: /fsl/bin/fslhd: No such file or directory\n",
      "/bin/fslval: line 91: /fsl/bin/fslhd: No such file or directory\n",
      "/bin/fslval: line 91: /fsl/bin/fslhd: No such file or directory\n",
      "/bin/fslval: line 91: /fsl/bin/fslhd: No such file or directory\n",
      "/bin/fslval: line 91: /fsl/bin/fslhd: No such file or directory\n",
      "/bin/bet: line 145: /bin/fslstats: No such file or directory\n"
     ]
    },
    {
     "name": "stdout",
     "output_type": "stream",
     "text": [
      "33\n",
      "Final FOV is: \n",
      "48.000000 168.000000 0.000000 256.000000 0.000000 170.000000 \n",
      "\n"
     ]
    },
    {
     "name": "stderr",
     "output_type": "stream",
     "text": [
      "/bin/fslval: line 91: /fsl/bin/fslhd: No such file or directory\n",
      "/bin/fslval: line 91: /fsl/bin/fslhd: No such file or directory\n",
      "/bin/fslval: line 91: /fsl/bin/fslhd: No such file or directory\n",
      "/bin/fslval: line 91: /fsl/bin/fslhd: No such file or directory\n",
      "/bin/fslval: line 91: /fsl/bin/fslhd: No such file or directory\n",
      "/bin/fslval: line 91: /fsl/bin/fslhd: No such file or directory\n",
      "/bin/bet: line 145: /bin/fslstats: No such file or directory\n"
     ]
    },
    {
     "name": "stdout",
     "output_type": "stream",
     "text": [
      "34\n",
      "Final FOV is: \n",
      "53.000000 169.000000 0.000000 256.000000 0.000000 170.000000 \n",
      "\n"
     ]
    },
    {
     "name": "stderr",
     "output_type": "stream",
     "text": [
      "/bin/fslval: line 91: /fsl/bin/fslhd: No such file or directory\n",
      "/bin/fslval: line 91: /fsl/bin/fslhd: No such file or directory\n",
      "/bin/fslval: line 91: /fsl/bin/fslhd: No such file or directory\n",
      "/bin/fslval: line 91: /fsl/bin/fslhd: No such file or directory\n",
      "/bin/fslval: line 91: /fsl/bin/fslhd: No such file or directory\n",
      "/bin/fslval: line 91: /fsl/bin/fslhd: No such file or directory\n",
      "/bin/bet: line 145: /bin/fslstats: No such file or directory\n"
     ]
    },
    {
     "name": "stdout",
     "output_type": "stream",
     "text": [
      "35\n",
      "Final FOV is: \n",
      "54.000000 169.000000 0.000000 256.000000 0.000000 170.000000 \n",
      "\n"
     ]
    },
    {
     "name": "stderr",
     "output_type": "stream",
     "text": [
      "/bin/fslval: line 91: /fsl/bin/fslhd: No such file or directory\n",
      "/bin/fslval: line 91: /fsl/bin/fslhd: No such file or directory\n",
      "/bin/fslval: line 91: /fsl/bin/fslhd: No such file or directory\n",
      "/bin/fslval: line 91: /fsl/bin/fslhd: No such file or directory\n",
      "/bin/fslval: line 91: /fsl/bin/fslhd: No such file or directory\n",
      "/bin/fslval: line 91: /fsl/bin/fslhd: No such file or directory\n",
      "/bin/bet: line 145: /bin/fslstats: No such file or directory\n"
     ]
    },
    {
     "name": "stdout",
     "output_type": "stream",
     "text": [
      "36\n",
      "Final FOV is: \n",
      "28.000000 170.000000 0.000000 256.000000 0.000000 170.000000 \n",
      "\n"
     ]
    },
    {
     "name": "stderr",
     "output_type": "stream",
     "text": [
      "/bin/fslval: line 91: /fsl/bin/fslhd: No such file or directory\n",
      "/bin/fslval: line 91: /fsl/bin/fslhd: No such file or directory\n",
      "/bin/fslval: line 91: /fsl/bin/fslhd: No such file or directory\n",
      "/bin/fslval: line 91: /fsl/bin/fslhd: No such file or directory\n",
      "/bin/fslval: line 91: /fsl/bin/fslhd: No such file or directory\n",
      "/bin/fslval: line 91: /fsl/bin/fslhd: No such file or directory\n",
      "/bin/bet: line 145: /bin/fslstats: No such file or directory\n"
     ]
    },
    {
     "name": "stdout",
     "output_type": "stream",
     "text": [
      "37\n",
      "Final FOV is: \n",
      "24.000000 169.000000 0.000000 256.000000 0.000000 170.000000 \n",
      "\n"
     ]
    },
    {
     "name": "stderr",
     "output_type": "stream",
     "text": [
      "/bin/fslval: line 91: /fsl/bin/fslhd: No such file or directory\n",
      "/bin/fslval: line 91: /fsl/bin/fslhd: No such file or directory\n",
      "/bin/fslval: line 91: /fsl/bin/fslhd: No such file or directory\n",
      "/bin/fslval: line 91: /fsl/bin/fslhd: No such file or directory\n",
      "/bin/fslval: line 91: /fsl/bin/fslhd: No such file or directory\n",
      "/bin/fslval: line 91: /fsl/bin/fslhd: No such file or directory\n",
      "/bin/bet: line 145: /bin/fslstats: No such file or directory\n"
     ]
    },
    {
     "name": "stdout",
     "output_type": "stream",
     "text": [
      "38\n",
      "Final FOV is: \n",
      "28.000000 170.000000 0.000000 256.000000 0.000000 170.000000 \n",
      "\n"
     ]
    },
    {
     "name": "stderr",
     "output_type": "stream",
     "text": [
      "/bin/fslval: line 91: /fsl/bin/fslhd: No such file or directory\n",
      "/bin/fslval: line 91: /fsl/bin/fslhd: No such file or directory\n",
      "/bin/fslval: line 91: /fsl/bin/fslhd: No such file or directory\n",
      "/bin/fslval: line 91: /fsl/bin/fslhd: No such file or directory\n",
      "/bin/fslval: line 91: /fsl/bin/fslhd: No such file or directory\n",
      "/bin/fslval: line 91: /fsl/bin/fslhd: No such file or directory\n",
      "/bin/bet: line 145: /bin/fslstats: No such file or directory\n"
     ]
    },
    {
     "name": "stdout",
     "output_type": "stream",
     "text": [
      "39\n",
      "Final FOV is: \n",
      "1.000000 169.000000 0.000000 256.000000 0.000000 170.000000 \n",
      "\n"
     ]
    },
    {
     "name": "stderr",
     "output_type": "stream",
     "text": [
      "/bin/fslval: line 91: /fsl/bin/fslhd: No such file or directory\n",
      "/bin/fslval: line 91: /fsl/bin/fslhd: No such file or directory\n",
      "/bin/fslval: line 91: /fsl/bin/fslhd: No such file or directory\n",
      "/bin/fslval: line 91: /fsl/bin/fslhd: No such file or directory\n",
      "/bin/fslval: line 91: /fsl/bin/fslhd: No such file or directory\n",
      "/bin/fslval: line 91: /fsl/bin/fslhd: No such file or directory\n",
      "/bin/bet: line 145: /bin/fslstats: No such file or directory\n"
     ]
    },
    {
     "name": "stdout",
     "output_type": "stream",
     "text": [
      "40\n",
      "Final FOV is: \n",
      "32.000000 169.000000 0.000000 256.000000 0.000000 170.000000 \n",
      "\n"
     ]
    },
    {
     "name": "stderr",
     "output_type": "stream",
     "text": [
      "/bin/fslval: line 91: /fsl/bin/fslhd: No such file or directory\n",
      "/bin/fslval: line 91: /fsl/bin/fslhd: No such file or directory\n",
      "/bin/fslval: line 91: /fsl/bin/fslhd: No such file or directory\n",
      "/bin/fslval: line 91: /fsl/bin/fslhd: No such file or directory\n",
      "/bin/fslval: line 91: /fsl/bin/fslhd: No such file or directory\n",
      "/bin/fslval: line 91: /fsl/bin/fslhd: No such file or directory\n",
      "/bin/bet: line 145: /bin/fslstats: No such file or directory\n"
     ]
    },
    {
     "name": "stdout",
     "output_type": "stream",
     "text": [
      "41\n",
      "Final FOV is: \n",
      "42.000000 169.000000 0.000000 256.000000 0.000000 170.000000 \n",
      "\n"
     ]
    },
    {
     "name": "stderr",
     "output_type": "stream",
     "text": [
      "/bin/fslval: line 91: /fsl/bin/fslhd: No such file or directory\n",
      "/bin/fslval: line 91: /fsl/bin/fslhd: No such file or directory\n",
      "/bin/fslval: line 91: /fsl/bin/fslhd: No such file or directory\n",
      "/bin/fslval: line 91: /fsl/bin/fslhd: No such file or directory\n",
      "/bin/fslval: line 91: /fsl/bin/fslhd: No such file or directory\n",
      "/bin/fslval: line 91: /fsl/bin/fslhd: No such file or directory\n",
      "/bin/bet: line 145: /bin/fslstats: No such file or directory\n"
     ]
    },
    {
     "name": "stdout",
     "output_type": "stream",
     "text": [
      "42\n",
      "Final FOV is: \n",
      "1.000000 169.000000 0.000000 256.000000 0.000000 170.000000 \n",
      "\n"
     ]
    },
    {
     "name": "stderr",
     "output_type": "stream",
     "text": [
      "/bin/fslval: line 91: /fsl/bin/fslhd: No such file or directory\n",
      "/bin/fslval: line 91: /fsl/bin/fslhd: No such file or directory\n",
      "/bin/fslval: line 91: /fsl/bin/fslhd: No such file or directory\n",
      "/bin/fslval: line 91: /fsl/bin/fslhd: No such file or directory\n",
      "/bin/fslval: line 91: /fsl/bin/fslhd: No such file or directory\n",
      "/bin/fslval: line 91: /fsl/bin/fslhd: No such file or directory\n",
      "/bin/bet: line 145: /bin/fslstats: No such file or directory\n"
     ]
    },
    {
     "name": "stdout",
     "output_type": "stream",
     "text": [
      "43\n",
      "Final FOV is: \n",
      "1.000000 169.000000 0.000000 256.000000 0.000000 170.000000 \n",
      "\n"
     ]
    },
    {
     "name": "stderr",
     "output_type": "stream",
     "text": [
      "/bin/fslval: line 91: /fsl/bin/fslhd: No such file or directory\n",
      "/bin/fslval: line 91: /fsl/bin/fslhd: No such file or directory\n",
      "/bin/fslval: line 91: /fsl/bin/fslhd: No such file or directory\n",
      "/bin/fslval: line 91: /fsl/bin/fslhd: No such file or directory\n",
      "/bin/fslval: line 91: /fsl/bin/fslhd: No such file or directory\n",
      "/bin/fslval: line 91: /fsl/bin/fslhd: No such file or directory\n",
      "/bin/bet: line 145: /bin/fslstats: No such file or directory\n"
     ]
    },
    {
     "name": "stdout",
     "output_type": "stream",
     "text": [
      "44\n",
      "Final FOV is: \n",
      "41.000000 169.000000 0.000000 256.000000 0.000000 170.000000 \n",
      "\n"
     ]
    },
    {
     "name": "stderr",
     "output_type": "stream",
     "text": [
      "/bin/fslval: line 91: /fsl/bin/fslhd: No such file or directory\n",
      "/bin/fslval: line 91: /fsl/bin/fslhd: No such file or directory\n",
      "/bin/fslval: line 91: /fsl/bin/fslhd: No such file or directory\n",
      "/bin/fslval: line 91: /fsl/bin/fslhd: No such file or directory\n",
      "/bin/fslval: line 91: /fsl/bin/fslhd: No such file or directory\n",
      "/bin/fslval: line 91: /fsl/bin/fslhd: No such file or directory\n",
      "/bin/bet: line 145: /bin/fslstats: No such file or directory\n"
     ]
    },
    {
     "name": "stdout",
     "output_type": "stream",
     "text": [
      "45\n",
      "Final FOV is: \n",
      "34.000000 170.000000 0.000000 256.000000 0.000000 160.000000 \n",
      "\n"
     ]
    },
    {
     "name": "stderr",
     "output_type": "stream",
     "text": [
      "/bin/fslval: line 91: /fsl/bin/fslhd: No such file or directory\n",
      "/bin/fslval: line 91: /fsl/bin/fslhd: No such file or directory\n",
      "/bin/fslval: line 91: /fsl/bin/fslhd: No such file or directory\n",
      "/bin/fslval: line 91: /fsl/bin/fslhd: No such file or directory\n",
      "/bin/fslval: line 91: /fsl/bin/fslhd: No such file or directory\n",
      "/bin/fslval: line 91: /fsl/bin/fslhd: No such file or directory\n",
      "/bin/bet: line 145: /bin/fslstats: No such file or directory\n"
     ]
    },
    {
     "name": "stdout",
     "output_type": "stream",
     "text": [
      "46\n",
      "Final FOV is: \n",
      "50.000000 170.000000 0.000000 256.000000 0.000000 160.000000 \n",
      "\n"
     ]
    },
    {
     "name": "stderr",
     "output_type": "stream",
     "text": [
      "/bin/fslval: line 91: /fsl/bin/fslhd: No such file or directory\n",
      "/bin/fslval: line 91: /fsl/bin/fslhd: No such file or directory\n",
      "/bin/fslval: line 91: /fsl/bin/fslhd: No such file or directory\n",
      "/bin/fslval: line 91: /fsl/bin/fslhd: No such file or directory\n",
      "/bin/fslval: line 91: /fsl/bin/fslhd: No such file or directory\n",
      "/bin/fslval: line 91: /fsl/bin/fslhd: No such file or directory\n",
      "/bin/bet: line 145: /bin/fslstats: No such file or directory\n"
     ]
    },
    {
     "name": "stdout",
     "output_type": "stream",
     "text": [
      "47\n",
      "Final FOV is: \n",
      "39.000000 169.000000 0.000000 256.000000 0.000000 160.000000 \n",
      "\n"
     ]
    },
    {
     "name": "stderr",
     "output_type": "stream",
     "text": [
      "/bin/fslval: line 91: /fsl/bin/fslhd: No such file or directory\n",
      "/bin/fslval: line 91: /fsl/bin/fslhd: No such file or directory\n",
      "/bin/fslval: line 91: /fsl/bin/fslhd: No such file or directory\n",
      "/bin/fslval: line 91: /fsl/bin/fslhd: No such file or directory\n",
      "/bin/fslval: line 91: /fsl/bin/fslhd: No such file or directory\n",
      "/bin/fslval: line 91: /fsl/bin/fslhd: No such file or directory\n",
      "/bin/bet: line 145: /bin/fslstats: No such file or directory\n"
     ]
    },
    {
     "name": "stdout",
     "output_type": "stream",
     "text": [
      "48\n",
      "Final FOV is: \n",
      "34.000000 170.000000 0.000000 256.000000 0.000000 160.000000 \n",
      "\n"
     ]
    },
    {
     "name": "stderr",
     "output_type": "stream",
     "text": [
      "/bin/fslval: line 91: /fsl/bin/fslhd: No such file or directory\n",
      "/bin/fslval: line 91: /fsl/bin/fslhd: No such file or directory\n",
      "/bin/fslval: line 91: /fsl/bin/fslhd: No such file or directory\n",
      "/bin/fslval: line 91: /fsl/bin/fslhd: No such file or directory\n",
      "/bin/fslval: line 91: /fsl/bin/fslhd: No such file or directory\n",
      "/bin/fslval: line 91: /fsl/bin/fslhd: No such file or directory\n",
      "/bin/bet: line 145: /bin/fslstats: No such file or directory\n"
     ]
    },
    {
     "name": "stdout",
     "output_type": "stream",
     "text": [
      "49\n",
      "Final FOV is: \n",
      "1.000000 166.000000 0.000000 256.000000 0.000000 166.000000 \n",
      "\n"
     ]
    },
    {
     "name": "stderr",
     "output_type": "stream",
     "text": [
      "/bin/fslval: line 91: /fsl/bin/fslhd: No such file or directory\n",
      "/bin/fslval: line 91: /fsl/bin/fslhd: No such file or directory\n",
      "/bin/fslval: line 91: /fsl/bin/fslhd: No such file or directory\n",
      "/bin/fslval: line 91: /fsl/bin/fslhd: No such file or directory\n",
      "/bin/fslval: line 91: /fsl/bin/fslhd: No such file or directory\n",
      "/bin/fslval: line 91: /fsl/bin/fslhd: No such file or directory\n",
      "/bin/bet: line 145: /bin/fslstats: No such file or directory\n"
     ]
    },
    {
     "name": "stdout",
     "output_type": "stream",
     "text": [
      "50\n",
      "Final FOV is: \n",
      "67.000000 166.000000 0.000000 256.000000 0.000000 166.000000 \n",
      "\n"
     ]
    },
    {
     "name": "stderr",
     "output_type": "stream",
     "text": [
      "/bin/fslval: line 91: /fsl/bin/fslhd: No such file or directory\n",
      "/bin/fslval: line 91: /fsl/bin/fslhd: No such file or directory\n",
      "/bin/fslval: line 91: /fsl/bin/fslhd: No such file or directory\n",
      "/bin/fslval: line 91: /fsl/bin/fslhd: No such file or directory\n",
      "/bin/fslval: line 91: /fsl/bin/fslhd: No such file or directory\n",
      "/bin/fslval: line 91: /fsl/bin/fslhd: No such file or directory\n",
      "/bin/bet: line 145: /bin/fslstats: No such file or directory\n"
     ]
    },
    {
     "name": "stdout",
     "output_type": "stream",
     "text": [
      "51\n",
      "Final FOV is: \n",
      "43.000000 166.000000 0.000000 256.000000 0.000000 166.000000 \n",
      "\n"
     ]
    },
    {
     "name": "stderr",
     "output_type": "stream",
     "text": [
      "/bin/fslval: line 91: /fsl/bin/fslhd: No such file or directory\n",
      "/bin/fslval: line 91: /fsl/bin/fslhd: No such file or directory\n",
      "/bin/fslval: line 91: /fsl/bin/fslhd: No such file or directory\n",
      "/bin/fslval: line 91: /fsl/bin/fslhd: No such file or directory\n",
      "/bin/fslval: line 91: /fsl/bin/fslhd: No such file or directory\n",
      "/bin/fslval: line 91: /fsl/bin/fslhd: No such file or directory\n",
      "/bin/bet: line 145: /bin/fslstats: No such file or directory\n"
     ]
    },
    {
     "name": "stdout",
     "output_type": "stream",
     "text": [
      "52\n",
      "Final FOV is: \n",
      "19.000000 170.000000 0.000000 256.000000 0.000000 170.000000 \n",
      "\n"
     ]
    },
    {
     "name": "stderr",
     "output_type": "stream",
     "text": [
      "/bin/fslval: line 91: /fsl/bin/fslhd: No such file or directory\n",
      "/bin/fslval: line 91: /fsl/bin/fslhd: No such file or directory\n",
      "/bin/fslval: line 91: /fsl/bin/fslhd: No such file or directory\n",
      "/bin/fslval: line 91: /fsl/bin/fslhd: No such file or directory\n",
      "/bin/fslval: line 91: /fsl/bin/fslhd: No such file or directory\n",
      "/bin/fslval: line 91: /fsl/bin/fslhd: No such file or directory\n",
      "/bin/bet: line 145: /bin/fslstats: No such file or directory\n"
     ]
    },
    {
     "name": "stdout",
     "output_type": "stream",
     "text": [
      "53\n",
      "Final FOV is: \n",
      "52.000000 169.000000 0.000000 256.000000 0.000000 170.000000 \n",
      "\n"
     ]
    },
    {
     "name": "stderr",
     "output_type": "stream",
     "text": [
      "/bin/fslval: line 91: /fsl/bin/fslhd: No such file or directory\n",
      "/bin/fslval: line 91: /fsl/bin/fslhd: No such file or directory\n",
      "/bin/fslval: line 91: /fsl/bin/fslhd: No such file or directory\n",
      "/bin/fslval: line 91: /fsl/bin/fslhd: No such file or directory\n",
      "/bin/fslval: line 91: /fsl/bin/fslhd: No such file or directory\n",
      "/bin/fslval: line 91: /fsl/bin/fslhd: No such file or directory\n",
      "/bin/bet: line 145: /bin/fslstats: No such file or directory\n"
     ]
    },
    {
     "name": "stdout",
     "output_type": "stream",
     "text": [
      "54\n",
      "Final FOV is: \n",
      "1.000000 169.000000 0.000000 256.000000 0.000000 170.000000 \n",
      "\n"
     ]
    },
    {
     "name": "stderr",
     "output_type": "stream",
     "text": [
      "/bin/fslval: line 91: /fsl/bin/fslhd: No such file or directory\n",
      "/bin/fslval: line 91: /fsl/bin/fslhd: No such file or directory\n",
      "/bin/fslval: line 91: /fsl/bin/fslhd: No such file or directory\n",
      "/bin/fslval: line 91: /fsl/bin/fslhd: No such file or directory\n",
      "/bin/fslval: line 91: /fsl/bin/fslhd: No such file or directory\n",
      "/bin/fslval: line 91: /fsl/bin/fslhd: No such file or directory\n",
      "/bin/bet: line 145: /bin/fslstats: No such file or directory\n"
     ]
    },
    {
     "name": "stdout",
     "output_type": "stream",
     "text": [
      "55\n",
      "Final FOV is: \n",
      "1.000000 169.000000 0.000000 256.000000 0.000000 170.000000 \n",
      "\n"
     ]
    },
    {
     "name": "stderr",
     "output_type": "stream",
     "text": [
      "/bin/fslval: line 91: /fsl/bin/fslhd: No such file or directory\n",
      "/bin/fslval: line 91: /fsl/bin/fslhd: No such file or directory\n",
      "/bin/fslval: line 91: /fsl/bin/fslhd: No such file or directory\n",
      "/bin/fslval: line 91: /fsl/bin/fslhd: No such file or directory\n",
      "/bin/fslval: line 91: /fsl/bin/fslhd: No such file or directory\n",
      "/bin/fslval: line 91: /fsl/bin/fslhd: No such file or directory\n",
      "/bin/bet: line 145: /bin/fslstats: No such file or directory\n"
     ]
    },
    {
     "name": "stdout",
     "output_type": "stream",
     "text": [
      "56\n",
      "Final FOV is: \n",
      "28.000000 165.000000 0.000000 256.000000 0.000000 166.000000 \n",
      "\n"
     ]
    },
    {
     "name": "stderr",
     "output_type": "stream",
     "text": [
      "/bin/fslval: line 91: /fsl/bin/fslhd: No such file or directory\n",
      "/bin/fslval: line 91: /fsl/bin/fslhd: No such file or directory\n",
      "/bin/fslval: line 91: /fsl/bin/fslhd: No such file or directory\n",
      "/bin/fslval: line 91: /fsl/bin/fslhd: No such file or directory\n",
      "/bin/fslval: line 91: /fsl/bin/fslhd: No such file or directory\n",
      "/bin/fslval: line 91: /fsl/bin/fslhd: No such file or directory\n",
      "/bin/bet: line 145: /bin/fslstats: No such file or directory\n"
     ]
    },
    {
     "name": "stdout",
     "output_type": "stream",
     "text": [
      "57\n",
      "Final FOV is: \n",
      "24.000000 165.000000 0.000000 256.000000 0.000000 166.000000 \n",
      "\n"
     ]
    },
    {
     "name": "stderr",
     "output_type": "stream",
     "text": [
      "/bin/fslval: line 91: /fsl/bin/fslhd: No such file or directory\n",
      "/bin/fslval: line 91: /fsl/bin/fslhd: No such file or directory\n",
      "/bin/fslval: line 91: /fsl/bin/fslhd: No such file or directory\n",
      "/bin/fslval: line 91: /fsl/bin/fslhd: No such file or directory\n",
      "/bin/fslval: line 91: /fsl/bin/fslhd: No such file or directory\n",
      "/bin/fslval: line 91: /fsl/bin/fslhd: No such file or directory\n",
      "/bin/bet: line 145: /bin/fslstats: No such file or directory\n"
     ]
    },
    {
     "name": "stdout",
     "output_type": "stream",
     "text": [
      "58\n",
      "Final FOV is: \n",
      "38.000000 166.000000 0.000000 256.000000 0.000000 166.000000 \n",
      "\n"
     ]
    },
    {
     "name": "stderr",
     "output_type": "stream",
     "text": [
      "/bin/fslval: line 91: /fsl/bin/fslhd: No such file or directory\n",
      "/bin/fslval: line 91: /fsl/bin/fslhd: No such file or directory\n",
      "/bin/fslval: line 91: /fsl/bin/fslhd: No such file or directory\n",
      "/bin/fslval: line 91: /fsl/bin/fslhd: No such file or directory\n",
      "/bin/fslval: line 91: /fsl/bin/fslhd: No such file or directory\n",
      "/bin/fslval: line 91: /fsl/bin/fslhd: No such file or directory\n",
      "/bin/bet: line 145: /bin/fslstats: No such file or directory\n"
     ]
    },
    {
     "name": "stdout",
     "output_type": "stream",
     "text": [
      "59\n",
      "Final FOV is: \n",
      "42.000000 165.000000 0.000000 256.000000 0.000000 166.000000 \n",
      "\n"
     ]
    },
    {
     "name": "stderr",
     "output_type": "stream",
     "text": [
      "/bin/fslval: line 91: /fsl/bin/fslhd: No such file or directory\n",
      "/bin/fslval: line 91: /fsl/bin/fslhd: No such file or directory\n",
      "/bin/fslval: line 91: /fsl/bin/fslhd: No such file or directory\n",
      "/bin/fslval: line 91: /fsl/bin/fslhd: No such file or directory\n",
      "/bin/fslval: line 91: /fsl/bin/fslhd: No such file or directory\n",
      "/bin/fslval: line 91: /fsl/bin/fslhd: No such file or directory\n",
      "/bin/bet: line 145: /bin/fslstats: No such file or directory\n"
     ]
    },
    {
     "name": "stdout",
     "output_type": "stream",
     "text": [
      "60\n",
      "Final FOV is: \n",
      "57.000000 170.000000 0.000000 256.000000 0.000000 160.000000 \n",
      "\n"
     ]
    },
    {
     "name": "stderr",
     "output_type": "stream",
     "text": [
      "/bin/fslval: line 91: /fsl/bin/fslhd: No such file or directory\n",
      "/bin/fslval: line 91: /fsl/bin/fslhd: No such file or directory\n",
      "/bin/fslval: line 91: /fsl/bin/fslhd: No such file or directory\n",
      "/bin/fslval: line 91: /fsl/bin/fslhd: No such file or directory\n",
      "/bin/fslval: line 91: /fsl/bin/fslhd: No such file or directory\n",
      "/bin/fslval: line 91: /fsl/bin/fslhd: No such file or directory\n",
      "/bin/bet: line 145: /bin/fslstats: No such file or directory\n"
     ]
    },
    {
     "name": "stdout",
     "output_type": "stream",
     "text": [
      "61\n",
      "Final FOV is: \n",
      "70.000000 170.000000 0.000000 256.000000 0.000000 160.000000 \n",
      "\n"
     ]
    },
    {
     "name": "stderr",
     "output_type": "stream",
     "text": [
      "/bin/fslval: line 91: /fsl/bin/fslhd: No such file or directory\n",
      "/bin/fslval: line 91: /fsl/bin/fslhd: No such file or directory\n",
      "/bin/fslval: line 91: /fsl/bin/fslhd: No such file or directory\n",
      "/bin/fslval: line 91: /fsl/bin/fslhd: No such file or directory\n",
      "/bin/fslval: line 91: /fsl/bin/fslhd: No such file or directory\n",
      "/bin/fslval: line 91: /fsl/bin/fslhd: No such file or directory\n",
      "/bin/bet: line 145: /bin/fslstats: No such file or directory\n"
     ]
    },
    {
     "name": "stdout",
     "output_type": "stream",
     "text": [
      "62\n",
      "Final FOV is: \n",
      "58.000000 170.000000 0.000000 256.000000 0.000000 160.000000 \n",
      "\n"
     ]
    },
    {
     "name": "stderr",
     "output_type": "stream",
     "text": [
      "/bin/fslval: line 91: /fsl/bin/fslhd: No such file or directory\n",
      "/bin/fslval: line 91: /fsl/bin/fslhd: No such file or directory\n",
      "/bin/fslval: line 91: /fsl/bin/fslhd: No such file or directory\n",
      "/bin/fslval: line 91: /fsl/bin/fslhd: No such file or directory\n",
      "/bin/fslval: line 91: /fsl/bin/fslhd: No such file or directory\n",
      "/bin/fslval: line 91: /fsl/bin/fslhd: No such file or directory\n",
      "/bin/bet: line 145: /bin/fslstats: No such file or directory\n"
     ]
    },
    {
     "name": "stdout",
     "output_type": "stream",
     "text": [
      "63\n",
      "Final FOV is: \n",
      "51.000000 168.000000 0.000000 256.000000 0.000000 170.000000 \n",
      "\n"
     ]
    },
    {
     "name": "stderr",
     "output_type": "stream",
     "text": [
      "/bin/fslval: line 91: /fsl/bin/fslhd: No such file or directory\n",
      "/bin/fslval: line 91: /fsl/bin/fslhd: No such file or directory\n",
      "/bin/fslval: line 91: /fsl/bin/fslhd: No such file or directory\n",
      "/bin/fslval: line 91: /fsl/bin/fslhd: No such file or directory\n",
      "/bin/fslval: line 91: /fsl/bin/fslhd: No such file or directory\n",
      "/bin/fslval: line 91: /fsl/bin/fslhd: No such file or directory\n",
      "/bin/bet: line 145: /bin/fslstats: No such file or directory\n"
     ]
    },
    {
     "name": "stdout",
     "output_type": "stream",
     "text": [
      "64\n",
      "Final FOV is: \n",
      "52.000000 169.000000 0.000000 256.000000 0.000000 170.000000 \n",
      "\n"
     ]
    },
    {
     "name": "stderr",
     "output_type": "stream",
     "text": [
      "/bin/fslval: line 91: /fsl/bin/fslhd: No such file or directory\n",
      "/bin/fslval: line 91: /fsl/bin/fslhd: No such file or directory\n",
      "/bin/fslval: line 91: /fsl/bin/fslhd: No such file or directory\n",
      "/bin/fslval: line 91: /fsl/bin/fslhd: No such file or directory\n",
      "/bin/fslval: line 91: /fsl/bin/fslhd: No such file or directory\n",
      "/bin/fslval: line 91: /fsl/bin/fslhd: No such file or directory\n",
      "/bin/bet: line 145: /bin/fslstats: No such file or directory\n"
     ]
    },
    {
     "name": "stdout",
     "output_type": "stream",
     "text": [
      "65\n",
      "Final FOV is: \n",
      "1.000000 168.000000 0.000000 256.000000 0.000000 170.000000 \n",
      "\n"
     ]
    },
    {
     "name": "stderr",
     "output_type": "stream",
     "text": [
      "/bin/fslval: line 91: /fsl/bin/fslhd: No such file or directory\n",
      "/bin/fslval: line 91: /fsl/bin/fslhd: No such file or directory\n",
      "/bin/fslval: line 91: /fsl/bin/fslhd: No such file or directory\n",
      "/bin/fslval: line 91: /fsl/bin/fslhd: No such file or directory\n",
      "/bin/fslval: line 91: /fsl/bin/fslhd: No such file or directory\n",
      "/bin/fslval: line 91: /fsl/bin/fslhd: No such file or directory\n",
      "/bin/bet: line 145: /bin/fslstats: No such file or directory\n"
     ]
    },
    {
     "name": "stdout",
     "output_type": "stream",
     "text": [
      "66\n",
      "Final FOV is: \n",
      "45.000000 169.000000 0.000000 256.000000 0.000000 170.000000 \n",
      "\n"
     ]
    },
    {
     "name": "stderr",
     "output_type": "stream",
     "text": [
      "/bin/fslval: line 91: /fsl/bin/fslhd: No such file or directory\n",
      "/bin/fslval: line 91: /fsl/bin/fslhd: No such file or directory\n",
      "/bin/fslval: line 91: /fsl/bin/fslhd: No such file or directory\n",
      "/bin/fslval: line 91: /fsl/bin/fslhd: No such file or directory\n",
      "/bin/fslval: line 91: /fsl/bin/fslhd: No such file or directory\n",
      "/bin/fslval: line 91: /fsl/bin/fslhd: No such file or directory\n",
      "/bin/bet: line 145: /bin/fslstats: No such file or directory\n"
     ]
    },
    {
     "name": "stdout",
     "output_type": "stream",
     "text": [
      "67\n",
      "Final FOV is: \n",
      "30.000000 170.000000 0.000000 256.000000 0.000000 160.000000 \n",
      "\n"
     ]
    },
    {
     "name": "stderr",
     "output_type": "stream",
     "text": [
      "/bin/fslval: line 91: /fsl/bin/fslhd: No such file or directory\n",
      "/bin/fslval: line 91: /fsl/bin/fslhd: No such file or directory\n",
      "/bin/fslval: line 91: /fsl/bin/fslhd: No such file or directory\n",
      "/bin/fslval: line 91: /fsl/bin/fslhd: No such file or directory\n",
      "/bin/fslval: line 91: /fsl/bin/fslhd: No such file or directory\n",
      "/bin/fslval: line 91: /fsl/bin/fslhd: No such file or directory\n",
      "/bin/bet: line 145: /bin/fslstats: No such file or directory\n"
     ]
    },
    {
     "name": "stdout",
     "output_type": "stream",
     "text": [
      "68\n",
      "Final FOV is: \n",
      "39.000000 170.000000 0.000000 256.000000 0.000000 160.000000 \n",
      "\n"
     ]
    },
    {
     "name": "stderr",
     "output_type": "stream",
     "text": [
      "/bin/fslval: line 91: /fsl/bin/fslhd: No such file or directory\n",
      "/bin/fslval: line 91: /fsl/bin/fslhd: No such file or directory\n",
      "/bin/fslval: line 91: /fsl/bin/fslhd: No such file or directory\n",
      "/bin/fslval: line 91: /fsl/bin/fslhd: No such file or directory\n",
      "/bin/fslval: line 91: /fsl/bin/fslhd: No such file or directory\n",
      "/bin/fslval: line 91: /fsl/bin/fslhd: No such file or directory\n",
      "/bin/bet: line 145: /bin/fslstats: No such file or directory\n"
     ]
    },
    {
     "name": "stdout",
     "output_type": "stream",
     "text": [
      "69\n",
      "Final FOV is: \n",
      "28.000000 170.000000 0.000000 256.000000 0.000000 160.000000 \n",
      "\n"
     ]
    },
    {
     "name": "stderr",
     "output_type": "stream",
     "text": [
      "/bin/fslval: line 91: /fsl/bin/fslhd: No such file or directory\n",
      "/bin/fslval: line 91: /fsl/bin/fslhd: No such file or directory\n",
      "/bin/fslval: line 91: /fsl/bin/fslhd: No such file or directory\n",
      "/bin/fslval: line 91: /fsl/bin/fslhd: No such file or directory\n",
      "/bin/fslval: line 91: /fsl/bin/fslhd: No such file or directory\n",
      "/bin/fslval: line 91: /fsl/bin/fslhd: No such file or directory\n",
      "/bin/bet: line 145: /bin/fslstats: No such file or directory\n"
     ]
    },
    {
     "name": "stdout",
     "output_type": "stream",
     "text": [
      "70\n",
      "Final FOV is: \n",
      "25.000000 170.000000 0.000000 256.000000 0.000000 160.000000 \n",
      "\n"
     ]
    },
    {
     "name": "stderr",
     "output_type": "stream",
     "text": [
      "/bin/fslval: line 91: /fsl/bin/fslhd: No such file or directory\n",
      "/bin/fslval: line 91: /fsl/bin/fslhd: No such file or directory\n",
      "/bin/fslval: line 91: /fsl/bin/fslhd: No such file or directory\n",
      "/bin/fslval: line 91: /fsl/bin/fslhd: No such file or directory\n",
      "/bin/fslval: line 91: /fsl/bin/fslhd: No such file or directory\n",
      "/bin/fslval: line 91: /fsl/bin/fslhd: No such file or directory\n",
      "/bin/bet: line 145: /bin/fslstats: No such file or directory\n"
     ]
    },
    {
     "name": "stdout",
     "output_type": "stream",
     "text": [
      "71\n",
      "Final FOV is: \n",
      "42.000000 167.000000 0.000000 256.000000 0.000000 166.000000 \n",
      "\n"
     ]
    },
    {
     "name": "stderr",
     "output_type": "stream",
     "text": [
      "/bin/fslval: line 91: /fsl/bin/fslhd: No such file or directory\n",
      "/bin/fslval: line 91: /fsl/bin/fslhd: No such file or directory\n",
      "/bin/fslval: line 91: /fsl/bin/fslhd: No such file or directory\n",
      "/bin/fslval: line 91: /fsl/bin/fslhd: No such file or directory\n",
      "/bin/fslval: line 91: /fsl/bin/fslhd: No such file or directory\n",
      "/bin/fslval: line 91: /fsl/bin/fslhd: No such file or directory\n",
      "/bin/bet: line 145: /bin/fslstats: No such file or directory\n"
     ]
    },
    {
     "name": "stdout",
     "output_type": "stream",
     "text": [
      "72\n",
      "Final FOV is: \n",
      "26.000000 167.000000 0.000000 256.000000 0.000000 166.000000 \n",
      "\n"
     ]
    },
    {
     "name": "stderr",
     "output_type": "stream",
     "text": [
      "/bin/fslval: line 91: /fsl/bin/fslhd: No such file or directory\n",
      "/bin/fslval: line 91: /fsl/bin/fslhd: No such file or directory\n",
      "/bin/fslval: line 91: /fsl/bin/fslhd: No such file or directory\n",
      "/bin/fslval: line 91: /fsl/bin/fslhd: No such file or directory\n",
      "/bin/fslval: line 91: /fsl/bin/fslhd: No such file or directory\n",
      "/bin/fslval: line 91: /fsl/bin/fslhd: No such file or directory\n",
      "/bin/bet: line 145: /bin/fslstats: No such file or directory\n"
     ]
    },
    {
     "name": "stdout",
     "output_type": "stream",
     "text": [
      "73\n",
      "Final FOV is: \n",
      "17.000000 167.000000 0.000000 256.000000 0.000000 166.000000 \n",
      "\n"
     ]
    },
    {
     "name": "stderr",
     "output_type": "stream",
     "text": [
      "/bin/fslval: line 91: /fsl/bin/fslhd: No such file or directory\n",
      "/bin/fslval: line 91: /fsl/bin/fslhd: No such file or directory\n",
      "/bin/fslval: line 91: /fsl/bin/fslhd: No such file or directory\n",
      "/bin/fslval: line 91: /fsl/bin/fslhd: No such file or directory\n",
      "/bin/fslval: line 91: /fsl/bin/fslhd: No such file or directory\n",
      "/bin/fslval: line 91: /fsl/bin/fslhd: No such file or directory\n",
      "/bin/bet: line 145: /bin/fslstats: No such file or directory\n"
     ]
    },
    {
     "name": "stdout",
     "output_type": "stream",
     "text": [
      "74\n",
      "Final FOV is: \n",
      "36.000000 170.000000 0.000000 256.000000 0.000000 160.000000 \n",
      "\n"
     ]
    },
    {
     "name": "stderr",
     "output_type": "stream",
     "text": [
      "/bin/fslval: line 91: /fsl/bin/fslhd: No such file or directory\n",
      "/bin/fslval: line 91: /fsl/bin/fslhd: No such file or directory\n",
      "/bin/fslval: line 91: /fsl/bin/fslhd: No such file or directory\n",
      "/bin/fslval: line 91: /fsl/bin/fslhd: No such file or directory\n",
      "/bin/fslval: line 91: /fsl/bin/fslhd: No such file or directory\n",
      "/bin/fslval: line 91: /fsl/bin/fslhd: No such file or directory\n",
      "/bin/bet: line 145: /bin/fslstats: No such file or directory\n"
     ]
    },
    {
     "name": "stdout",
     "output_type": "stream",
     "text": [
      "75\n",
      "Final FOV is: \n",
      "33.000000 171.000000 0.000000 256.000000 0.000000 160.000000 \n",
      "\n"
     ]
    },
    {
     "name": "stderr",
     "output_type": "stream",
     "text": [
      "/bin/fslval: line 91: /fsl/bin/fslhd: No such file or directory\n",
      "/bin/fslval: line 91: /fsl/bin/fslhd: No such file or directory\n",
      "/bin/fslval: line 91: /fsl/bin/fslhd: No such file or directory\n",
      "/bin/fslval: line 91: /fsl/bin/fslhd: No such file or directory\n",
      "/bin/fslval: line 91: /fsl/bin/fslhd: No such file or directory\n",
      "/bin/fslval: line 91: /fsl/bin/fslhd: No such file or directory\n",
      "/bin/bet: line 145: /bin/fslstats: No such file or directory\n"
     ]
    },
    {
     "name": "stdout",
     "output_type": "stream",
     "text": [
      "76\n",
      "Final FOV is: \n",
      "37.000000 171.000000 0.000000 256.000000 0.000000 160.000000 \n",
      "\n"
     ]
    },
    {
     "name": "stderr",
     "output_type": "stream",
     "text": [
      "/bin/fslval: line 91: /fsl/bin/fslhd: No such file or directory\n",
      "/bin/fslval: line 91: /fsl/bin/fslhd: No such file or directory\n",
      "/bin/fslval: line 91: /fsl/bin/fslhd: No such file or directory\n",
      "/bin/fslval: line 91: /fsl/bin/fslhd: No such file or directory\n",
      "/bin/fslval: line 91: /fsl/bin/fslhd: No such file or directory\n",
      "/bin/fslval: line 91: /fsl/bin/fslhd: No such file or directory\n",
      "/bin/bet: line 145: /bin/fslstats: No such file or directory\n"
     ]
    },
    {
     "name": "stdout",
     "output_type": "stream",
     "text": [
      "77\n",
      "Final FOV is: \n",
      "24.000000 170.000000 0.000000 256.000000 0.000000 160.000000 \n",
      "\n"
     ]
    },
    {
     "name": "stderr",
     "output_type": "stream",
     "text": [
      "/bin/fslval: line 91: /fsl/bin/fslhd: No such file or directory\n",
      "/bin/fslval: line 91: /fsl/bin/fslhd: No such file or directory\n",
      "/bin/fslval: line 91: /fsl/bin/fslhd: No such file or directory\n",
      "/bin/fslval: line 91: /fsl/bin/fslhd: No such file or directory\n",
      "/bin/fslval: line 91: /fsl/bin/fslhd: No such file or directory\n",
      "/bin/fslval: line 91: /fsl/bin/fslhd: No such file or directory\n",
      "/bin/bet: line 145: /bin/fslstats: No such file or directory\n"
     ]
    },
    {
     "name": "stdout",
     "output_type": "stream",
     "text": [
      "78\n",
      "Final FOV is: \n",
      "36.000000 170.000000 0.000000 256.000000 0.000000 160.000000 \n",
      "\n"
     ]
    },
    {
     "name": "stderr",
     "output_type": "stream",
     "text": [
      "/bin/fslval: line 91: /fsl/bin/fslhd: No such file or directory\n",
      "/bin/fslval: line 91: /fsl/bin/fslhd: No such file or directory\n",
      "/bin/fslval: line 91: /fsl/bin/fslhd: No such file or directory\n",
      "/bin/fslval: line 91: /fsl/bin/fslhd: No such file or directory\n",
      "/bin/fslval: line 91: /fsl/bin/fslhd: No such file or directory\n",
      "/bin/fslval: line 91: /fsl/bin/fslhd: No such file or directory\n",
      "/bin/bet: line 145: /bin/fslstats: No such file or directory\n"
     ]
    },
    {
     "name": "stdout",
     "output_type": "stream",
     "text": [
      "79\n",
      "Final FOV is: \n",
      "24.000000 170.000000 0.000000 256.000000 0.000000 160.000000 \n",
      "\n"
     ]
    },
    {
     "name": "stderr",
     "output_type": "stream",
     "text": [
      "/bin/fslval: line 91: /fsl/bin/fslhd: No such file or directory\n",
      "/bin/fslval: line 91: /fsl/bin/fslhd: No such file or directory\n",
      "/bin/fslval: line 91: /fsl/bin/fslhd: No such file or directory\n",
      "/bin/fslval: line 91: /fsl/bin/fslhd: No such file or directory\n",
      "/bin/fslval: line 91: /fsl/bin/fslhd: No such file or directory\n",
      "/bin/fslval: line 91: /fsl/bin/fslhd: No such file or directory\n",
      "/bin/bet: line 145: /bin/fslstats: No such file or directory\n"
     ]
    },
    {
     "name": "stdout",
     "output_type": "stream",
     "text": [
      "80\n",
      "Final FOV is: \n",
      "38.000000 170.000000 0.000000 256.000000 0.000000 160.000000 \n",
      "\n"
     ]
    },
    {
     "name": "stderr",
     "output_type": "stream",
     "text": [
      "/bin/fslval: line 91: /fsl/bin/fslhd: No such file or directory\n",
      "/bin/fslval: line 91: /fsl/bin/fslhd: No such file or directory\n",
      "/bin/fslval: line 91: /fsl/bin/fslhd: No such file or directory\n",
      "/bin/fslval: line 91: /fsl/bin/fslhd: No such file or directory\n",
      "/bin/fslval: line 91: /fsl/bin/fslhd: No such file or directory\n",
      "/bin/fslval: line 91: /fsl/bin/fslhd: No such file or directory\n",
      "/bin/bet: line 145: /bin/fslstats: No such file or directory\n"
     ]
    },
    {
     "name": "stdout",
     "output_type": "stream",
     "text": [
      "81\n",
      "Final FOV is: \n",
      "40.000000 170.000000 0.000000 256.000000 0.000000 160.000000 \n",
      "\n"
     ]
    },
    {
     "name": "stderr",
     "output_type": "stream",
     "text": [
      "/bin/fslval: line 91: /fsl/bin/fslhd: No such file or directory\n",
      "/bin/fslval: line 91: /fsl/bin/fslhd: No such file or directory\n",
      "/bin/fslval: line 91: /fsl/bin/fslhd: No such file or directory\n",
      "/bin/fslval: line 91: /fsl/bin/fslhd: No such file or directory\n",
      "/bin/fslval: line 91: /fsl/bin/fslhd: No such file or directory\n",
      "/bin/fslval: line 91: /fsl/bin/fslhd: No such file or directory\n",
      "/bin/bet: line 145: /bin/fslstats: No such file or directory\n"
     ]
    },
    {
     "name": "stdout",
     "output_type": "stream",
     "text": [
      "82\n",
      "Final FOV is: \n",
      "33.000000 170.000000 0.000000 256.000000 0.000000 160.000000 \n",
      "\n"
     ]
    },
    {
     "name": "stderr",
     "output_type": "stream",
     "text": [
      "/bin/fslval: line 91: /fsl/bin/fslhd: No such file or directory\n",
      "/bin/fslval: line 91: /fsl/bin/fslhd: No such file or directory\n",
      "/bin/fslval: line 91: /fsl/bin/fslhd: No such file or directory\n",
      "/bin/fslval: line 91: /fsl/bin/fslhd: No such file or directory\n",
      "/bin/fslval: line 91: /fsl/bin/fslhd: No such file or directory\n",
      "/bin/fslval: line 91: /fsl/bin/fslhd: No such file or directory\n",
      "/bin/bet: line 145: /bin/fslstats: No such file or directory\n"
     ]
    },
    {
     "name": "stdout",
     "output_type": "stream",
     "text": [
      "83\n",
      "Final FOV is: \n",
      "32.000000 170.000000 0.000000 256.000000 0.000000 160.000000 \n",
      "\n"
     ]
    },
    {
     "name": "stderr",
     "output_type": "stream",
     "text": [
      "/bin/fslval: line 91: /fsl/bin/fslhd: No such file or directory\n",
      "/bin/fslval: line 91: /fsl/bin/fslhd: No such file or directory\n",
      "/bin/fslval: line 91: /fsl/bin/fslhd: No such file or directory\n",
      "/bin/fslval: line 91: /fsl/bin/fslhd: No such file or directory\n",
      "/bin/fslval: line 91: /fsl/bin/fslhd: No such file or directory\n",
      "/bin/fslval: line 91: /fsl/bin/fslhd: No such file or directory\n",
      "/bin/bet: line 145: /bin/fslstats: No such file or directory\n"
     ]
    },
    {
     "name": "stdout",
     "output_type": "stream",
     "text": [
      "84\n",
      "Final FOV is: \n",
      "56.000000 169.000000 0.000000 256.000000 0.000000 160.000000 \n",
      "\n"
     ]
    },
    {
     "name": "stderr",
     "output_type": "stream",
     "text": [
      "/bin/fslval: line 91: /fsl/bin/fslhd: No such file or directory\n",
      "/bin/fslval: line 91: /fsl/bin/fslhd: No such file or directory\n",
      "/bin/fslval: line 91: /fsl/bin/fslhd: No such file or directory\n",
      "/bin/fslval: line 91: /fsl/bin/fslhd: No such file or directory\n",
      "/bin/fslval: line 91: /fsl/bin/fslhd: No such file or directory\n",
      "/bin/fslval: line 91: /fsl/bin/fslhd: No such file or directory\n",
      "/bin/bet: line 145: /bin/fslstats: No such file or directory\n"
     ]
    },
    {
     "name": "stdout",
     "output_type": "stream",
     "text": [
      "85\n",
      "Final FOV is: \n",
      "53.000000 169.000000 0.000000 256.000000 0.000000 160.000000 \n",
      "\n"
     ]
    },
    {
     "name": "stderr",
     "output_type": "stream",
     "text": [
      "/bin/fslval: line 91: /fsl/bin/fslhd: No such file or directory\n",
      "/bin/fslval: line 91: /fsl/bin/fslhd: No such file or directory\n",
      "/bin/fslval: line 91: /fsl/bin/fslhd: No such file or directory\n",
      "/bin/fslval: line 91: /fsl/bin/fslhd: No such file or directory\n",
      "/bin/fslval: line 91: /fsl/bin/fslhd: No such file or directory\n",
      "/bin/fslval: line 91: /fsl/bin/fslhd: No such file or directory\n",
      "/bin/bet: line 145: /bin/fslstats: No such file or directory\n"
     ]
    },
    {
     "name": "stdout",
     "output_type": "stream",
     "text": [
      "86\n",
      "Final FOV is: \n",
      "53.000000 169.000000 0.000000 256.000000 0.000000 160.000000 \n",
      "\n"
     ]
    },
    {
     "name": "stderr",
     "output_type": "stream",
     "text": [
      "/bin/fslval: line 91: /fsl/bin/fslhd: No such file or directory\n",
      "/bin/fslval: line 91: /fsl/bin/fslhd: No such file or directory\n",
      "/bin/fslval: line 91: /fsl/bin/fslhd: No such file or directory\n",
      "/bin/fslval: line 91: /fsl/bin/fslhd: No such file or directory\n",
      "/bin/fslval: line 91: /fsl/bin/fslhd: No such file or directory\n",
      "/bin/fslval: line 91: /fsl/bin/fslhd: No such file or directory\n",
      "/bin/bet: line 145: /bin/fslstats: No such file or directory\n"
     ]
    },
    {
     "name": "stdout",
     "output_type": "stream",
     "text": [
      "87\n",
      "Final FOV is: \n",
      "36.000000 169.000000 0.000000 256.000000 0.000000 160.000000 \n",
      "\n"
     ]
    },
    {
     "name": "stderr",
     "output_type": "stream",
     "text": [
      "/bin/fslval: line 91: /fsl/bin/fslhd: No such file or directory\n",
      "/bin/fslval: line 91: /fsl/bin/fslhd: No such file or directory\n",
      "/bin/fslval: line 91: /fsl/bin/fslhd: No such file or directory\n",
      "/bin/fslval: line 91: /fsl/bin/fslhd: No such file or directory\n",
      "/bin/fslval: line 91: /fsl/bin/fslhd: No such file or directory\n",
      "/bin/fslval: line 91: /fsl/bin/fslhd: No such file or directory\n",
      "/bin/bet: line 145: /bin/fslstats: No such file or directory\n"
     ]
    },
    {
     "name": "stdout",
     "output_type": "stream",
     "text": [
      "88\n",
      "Final FOV is: \n",
      "23.000000 169.000000 0.000000 256.000000 0.000000 160.000000 \n",
      "\n"
     ]
    },
    {
     "name": "stderr",
     "output_type": "stream",
     "text": [
      "/bin/fslval: line 91: /fsl/bin/fslhd: No such file or directory\n",
      "/bin/fslval: line 91: /fsl/bin/fslhd: No such file or directory\n",
      "/bin/fslval: line 91: /fsl/bin/fslhd: No such file or directory\n",
      "/bin/fslval: line 91: /fsl/bin/fslhd: No such file or directory\n",
      "/bin/fslval: line 91: /fsl/bin/fslhd: No such file or directory\n",
      "/bin/fslval: line 91: /fsl/bin/fslhd: No such file or directory\n",
      "/bin/bet: line 145: /bin/fslstats: No such file or directory\n"
     ]
    },
    {
     "name": "stdout",
     "output_type": "stream",
     "text": [
      "89\n",
      "Final FOV is: \n",
      "22.000000 169.000000 0.000000 256.000000 0.000000 160.000000 \n",
      "\n"
     ]
    },
    {
     "name": "stderr",
     "output_type": "stream",
     "text": [
      "/bin/fslval: line 91: /fsl/bin/fslhd: No such file or directory\n",
      "/bin/fslval: line 91: /fsl/bin/fslhd: No such file or directory\n",
      "/bin/fslval: line 91: /fsl/bin/fslhd: No such file or directory\n",
      "/bin/fslval: line 91: /fsl/bin/fslhd: No such file or directory\n",
      "/bin/fslval: line 91: /fsl/bin/fslhd: No such file or directory\n",
      "/bin/fslval: line 91: /fsl/bin/fslhd: No such file or directory\n",
      "/bin/bet: line 145: /bin/fslstats: No such file or directory\n"
     ]
    },
    {
     "name": "stdout",
     "output_type": "stream",
     "text": [
      "90\n",
      "Final FOV is: \n",
      "20.000000 169.000000 0.000000 256.000000 0.000000 160.000000 \n",
      "\n"
     ]
    },
    {
     "name": "stderr",
     "output_type": "stream",
     "text": [
      "/bin/fslval: line 91: /fsl/bin/fslhd: No such file or directory\n",
      "/bin/fslval: line 91: /fsl/bin/fslhd: No such file or directory\n",
      "/bin/fslval: line 91: /fsl/bin/fslhd: No such file or directory\n",
      "/bin/fslval: line 91: /fsl/bin/fslhd: No such file or directory\n",
      "/bin/fslval: line 91: /fsl/bin/fslhd: No such file or directory\n",
      "/bin/fslval: line 91: /fsl/bin/fslhd: No such file or directory\n",
      "/bin/bet: line 145: /bin/fslstats: No such file or directory\n"
     ]
    },
    {
     "name": "stdout",
     "output_type": "stream",
     "text": [
      "91\n",
      "Final FOV is: \n",
      "23.000000 169.000000 0.000000 256.000000 0.000000 170.000000 \n",
      "\n"
     ]
    },
    {
     "name": "stderr",
     "output_type": "stream",
     "text": [
      "/bin/fslval: line 91: /fsl/bin/fslhd: No such file or directory\n",
      "/bin/fslval: line 91: /fsl/bin/fslhd: No such file or directory\n",
      "/bin/fslval: line 91: /fsl/bin/fslhd: No such file or directory\n",
      "/bin/fslval: line 91: /fsl/bin/fslhd: No such file or directory\n",
      "/bin/fslval: line 91: /fsl/bin/fslhd: No such file or directory\n",
      "/bin/fslval: line 91: /fsl/bin/fslhd: No such file or directory\n",
      "/bin/bet: line 145: /bin/fslstats: No such file or directory\n"
     ]
    },
    {
     "name": "stdout",
     "output_type": "stream",
     "text": [
      "92\n",
      "Final FOV is: \n",
      "20.000000 169.000000 0.000000 256.000000 0.000000 170.000000 \n",
      "\n"
     ]
    },
    {
     "name": "stderr",
     "output_type": "stream",
     "text": [
      "/bin/fslval: line 91: /fsl/bin/fslhd: No such file or directory\n",
      "/bin/fslval: line 91: /fsl/bin/fslhd: No such file or directory\n",
      "/bin/fslval: line 91: /fsl/bin/fslhd: No such file or directory\n",
      "/bin/fslval: line 91: /fsl/bin/fslhd: No such file or directory\n",
      "/bin/fslval: line 91: /fsl/bin/fslhd: No such file or directory\n",
      "/bin/fslval: line 91: /fsl/bin/fslhd: No such file or directory\n",
      "/bin/bet: line 145: /bin/fslstats: No such file or directory\n"
     ]
    },
    {
     "name": "stdout",
     "output_type": "stream",
     "text": [
      "93\n",
      "Final FOV is: \n",
      "18.000000 169.000000 0.000000 256.000000 0.000000 170.000000 \n",
      "\n"
     ]
    },
    {
     "name": "stderr",
     "output_type": "stream",
     "text": [
      "/bin/fslval: line 91: /fsl/bin/fslhd: No such file or directory\n",
      "/bin/fslval: line 91: /fsl/bin/fslhd: No such file or directory\n",
      "/bin/fslval: line 91: /fsl/bin/fslhd: No such file or directory\n",
      "/bin/fslval: line 91: /fsl/bin/fslhd: No such file or directory\n",
      "/bin/fslval: line 91: /fsl/bin/fslhd: No such file or directory\n",
      "/bin/fslval: line 91: /fsl/bin/fslhd: No such file or directory\n",
      "/bin/bet: line 145: /bin/fslstats: No such file or directory\n"
     ]
    },
    {
     "name": "stdout",
     "output_type": "stream",
     "text": [
      "94\n",
      "Final FOV is: \n",
      "23.000000 170.000000 0.000000 256.000000 0.000000 170.000000 \n",
      "\n"
     ]
    },
    {
     "name": "stderr",
     "output_type": "stream",
     "text": [
      "/bin/fslval: line 91: /fsl/bin/fslhd: No such file or directory\n",
      "/bin/fslval: line 91: /fsl/bin/fslhd: No such file or directory\n",
      "/bin/fslval: line 91: /fsl/bin/fslhd: No such file or directory\n",
      "/bin/fslval: line 91: /fsl/bin/fslhd: No such file or directory\n",
      "/bin/fslval: line 91: /fsl/bin/fslhd: No such file or directory\n",
      "/bin/fslval: line 91: /fsl/bin/fslhd: No such file or directory\n",
      "/bin/bet: line 145: /bin/fslstats: No such file or directory\n"
     ]
    },
    {
     "name": "stdout",
     "output_type": "stream",
     "text": [
      "95\n",
      "Final FOV is: \n",
      "45.000000 170.000000 0.000000 256.000000 0.000000 160.000000 \n",
      "\n"
     ]
    },
    {
     "name": "stderr",
     "output_type": "stream",
     "text": [
      "/bin/fslval: line 91: /fsl/bin/fslhd: No such file or directory\n",
      "/bin/fslval: line 91: /fsl/bin/fslhd: No such file or directory\n",
      "/bin/fslval: line 91: /fsl/bin/fslhd: No such file or directory\n",
      "/bin/fslval: line 91: /fsl/bin/fslhd: No such file or directory\n",
      "/bin/fslval: line 91: /fsl/bin/fslhd: No such file or directory\n",
      "/bin/fslval: line 91: /fsl/bin/fslhd: No such file or directory\n",
      "/bin/bet: line 145: /bin/fslstats: No such file or directory\n"
     ]
    },
    {
     "name": "stdout",
     "output_type": "stream",
     "text": [
      "96\n",
      "Final FOV is: \n",
      "37.000000 171.000000 0.000000 256.000000 0.000000 160.000000 \n",
      "\n"
     ]
    },
    {
     "name": "stderr",
     "output_type": "stream",
     "text": [
      "/bin/fslval: line 91: /fsl/bin/fslhd: No such file or directory\n",
      "/bin/fslval: line 91: /fsl/bin/fslhd: No such file or directory\n",
      "/bin/fslval: line 91: /fsl/bin/fslhd: No such file or directory\n",
      "/bin/fslval: line 91: /fsl/bin/fslhd: No such file or directory\n",
      "/bin/fslval: line 91: /fsl/bin/fslhd: No such file or directory\n",
      "/bin/fslval: line 91: /fsl/bin/fslhd: No such file or directory\n",
      "/bin/bet: line 145: /bin/fslstats: No such file or directory\n"
     ]
    },
    {
     "name": "stdout",
     "output_type": "stream",
     "text": [
      "97\n",
      "Final FOV is: \n",
      "34.000000 171.000000 0.000000 256.000000 0.000000 160.000000 \n",
      "\n"
     ]
    },
    {
     "name": "stderr",
     "output_type": "stream",
     "text": [
      "/bin/fslval: line 91: /fsl/bin/fslhd: No such file or directory\n",
      "/bin/fslval: line 91: /fsl/bin/fslhd: No such file or directory\n",
      "/bin/fslval: line 91: /fsl/bin/fslhd: No such file or directory\n",
      "/bin/fslval: line 91: /fsl/bin/fslhd: No such file or directory\n",
      "/bin/fslval: line 91: /fsl/bin/fslhd: No such file or directory\n",
      "/bin/fslval: line 91: /fsl/bin/fslhd: No such file or directory\n",
      "/bin/bet: line 145: /bin/fslstats: No such file or directory\n"
     ]
    },
    {
     "name": "stdout",
     "output_type": "stream",
     "text": [
      "98\n",
      "Final FOV is: \n",
      "46.000000 170.000000 0.000000 256.000000 0.000000 160.000000 \n",
      "\n"
     ]
    },
    {
     "name": "stderr",
     "output_type": "stream",
     "text": [
      "/bin/fslval: line 91: /fsl/bin/fslhd: No such file or directory\n",
      "/bin/fslval: line 91: /fsl/bin/fslhd: No such file or directory\n",
      "/bin/fslval: line 91: /fsl/bin/fslhd: No such file or directory\n",
      "/bin/fslval: line 91: /fsl/bin/fslhd: No such file or directory\n",
      "/bin/fslval: line 91: /fsl/bin/fslhd: No such file or directory\n",
      "/bin/fslval: line 91: /fsl/bin/fslhd: No such file or directory\n",
      "/bin/bet: line 145: /bin/fslstats: No such file or directory\n"
     ]
    },
    {
     "name": "stdout",
     "output_type": "stream",
     "text": [
      "99\n",
      "Final FOV is: \n",
      "45.000000 170.000000 0.000000 256.000000 0.000000 160.000000 \n",
      "\n"
     ]
    },
    {
     "name": "stderr",
     "output_type": "stream",
     "text": [
      "/bin/fslval: line 91: /fsl/bin/fslhd: No such file or directory\n",
      "/bin/fslval: line 91: /fsl/bin/fslhd: No such file or directory\n",
      "/bin/fslval: line 91: /fsl/bin/fslhd: No such file or directory\n",
      "/bin/fslval: line 91: /fsl/bin/fslhd: No such file or directory\n",
      "/bin/fslval: line 91: /fsl/bin/fslhd: No such file or directory\n",
      "/bin/fslval: line 91: /fsl/bin/fslhd: No such file or directory\n",
      "/bin/bet: line 145: /bin/fslstats: No such file or directory\n"
     ]
    },
    {
     "name": "stdout",
     "output_type": "stream",
     "text": [
      "100\n",
      "Final FOV is: \n",
      "1.000000 169.000000 0.000000 256.000000 0.000000 170.000000 \n",
      "\n"
     ]
    },
    {
     "name": "stderr",
     "output_type": "stream",
     "text": [
      "/bin/fslval: line 91: /fsl/bin/fslhd: No such file or directory\n",
      "/bin/fslval: line 91: /fsl/bin/fslhd: No such file or directory\n",
      "/bin/fslval: line 91: /fsl/bin/fslhd: No such file or directory\n",
      "/bin/fslval: line 91: /fsl/bin/fslhd: No such file or directory\n",
      "/bin/fslval: line 91: /fsl/bin/fslhd: No such file or directory\n",
      "/bin/fslval: line 91: /fsl/bin/fslhd: No such file or directory\n",
      "/bin/bet: line 145: /bin/fslstats: No such file or directory\n"
     ]
    },
    {
     "name": "stdout",
     "output_type": "stream",
     "text": [
      "101\n",
      "Final FOV is: \n",
      "34.000000 170.000000 0.000000 256.000000 0.000000 170.000000 \n",
      "\n"
     ]
    },
    {
     "name": "stderr",
     "output_type": "stream",
     "text": [
      "/bin/fslval: line 91: /fsl/bin/fslhd: No such file or directory\n",
      "/bin/fslval: line 91: /fsl/bin/fslhd: No such file or directory\n",
      "/bin/fslval: line 91: /fsl/bin/fslhd: No such file or directory\n",
      "/bin/fslval: line 91: /fsl/bin/fslhd: No such file or directory\n",
      "/bin/fslval: line 91: /fsl/bin/fslhd: No such file or directory\n",
      "/bin/fslval: line 91: /fsl/bin/fslhd: No such file or directory\n",
      "/bin/bet: line 145: /bin/fslstats: No such file or directory\n"
     ]
    },
    {
     "name": "stdout",
     "output_type": "stream",
     "text": [
      "102\n",
      "Final FOV is: \n",
      "1.000000 169.000000 0.000000 256.000000 0.000000 170.000000 \n",
      "\n"
     ]
    },
    {
     "name": "stderr",
     "output_type": "stream",
     "text": [
      "/bin/fslval: line 91: /fsl/bin/fslhd: No such file or directory\n",
      "/bin/fslval: line 91: /fsl/bin/fslhd: No such file or directory\n",
      "/bin/fslval: line 91: /fsl/bin/fslhd: No such file or directory\n",
      "/bin/fslval: line 91: /fsl/bin/fslhd: No such file or directory\n",
      "/bin/fslval: line 91: /fsl/bin/fslhd: No such file or directory\n",
      "/bin/fslval: line 91: /fsl/bin/fslhd: No such file or directory\n",
      "/bin/bet: line 145: /bin/fslstats: No such file or directory\n"
     ]
    },
    {
     "name": "stdout",
     "output_type": "stream",
     "text": [
      "103\n",
      "Final FOV is: \n",
      "1.000000 169.000000 0.000000 256.000000 0.000000 170.000000 \n",
      "\n"
     ]
    },
    {
     "name": "stderr",
     "output_type": "stream",
     "text": [
      "/bin/fslval: line 91: /fsl/bin/fslhd: No such file or directory\n",
      "/bin/fslval: line 91: /fsl/bin/fslhd: No such file or directory\n",
      "/bin/fslval: line 91: /fsl/bin/fslhd: No such file or directory\n",
      "/bin/fslval: line 91: /fsl/bin/fslhd: No such file or directory\n",
      "/bin/fslval: line 91: /fsl/bin/fslhd: No such file or directory\n",
      "/bin/fslval: line 91: /fsl/bin/fslhd: No such file or directory\n",
      "/bin/bet: line 145: /bin/fslstats: No such file or directory\n"
     ]
    },
    {
     "name": "stdout",
     "output_type": "stream",
     "text": [
      "104\n",
      "Final FOV is: \n",
      "40.000000 169.000000 0.000000 256.000000 0.000000 170.000000 \n",
      "\n"
     ]
    },
    {
     "name": "stderr",
     "output_type": "stream",
     "text": [
      "/bin/fslval: line 91: /fsl/bin/fslhd: No such file or directory\n",
      "/bin/fslval: line 91: /fsl/bin/fslhd: No such file or directory\n",
      "/bin/fslval: line 91: /fsl/bin/fslhd: No such file or directory\n",
      "/bin/fslval: line 91: /fsl/bin/fslhd: No such file or directory\n",
      "/bin/fslval: line 91: /fsl/bin/fslhd: No such file or directory\n",
      "/bin/fslval: line 91: /fsl/bin/fslhd: No such file or directory\n",
      "/bin/bet: line 145: /bin/fslstats: No such file or directory\n"
     ]
    },
    {
     "name": "stdout",
     "output_type": "stream",
     "text": [
      "105\n",
      "Final FOV is: \n",
      "42.000000 169.000000 0.000000 256.000000 0.000000 170.000000 \n",
      "\n"
     ]
    },
    {
     "name": "stderr",
     "output_type": "stream",
     "text": [
      "/bin/fslval: line 91: /fsl/bin/fslhd: No such file or directory\n",
      "/bin/fslval: line 91: /fsl/bin/fslhd: No such file or directory\n",
      "/bin/fslval: line 91: /fsl/bin/fslhd: No such file or directory\n",
      "/bin/fslval: line 91: /fsl/bin/fslhd: No such file or directory\n",
      "/bin/fslval: line 91: /fsl/bin/fslhd: No such file or directory\n",
      "/bin/fslval: line 91: /fsl/bin/fslhd: No such file or directory\n",
      "/bin/bet: line 145: /bin/fslstats: No such file or directory\n"
     ]
    },
    {
     "name": "stdout",
     "output_type": "stream",
     "text": [
      "106\n",
      "Final FOV is: \n",
      "42.000000 168.000000 0.000000 256.000000 0.000000 170.000000 \n",
      "\n"
     ]
    },
    {
     "name": "stderr",
     "output_type": "stream",
     "text": [
      "/bin/fslval: line 91: /fsl/bin/fslhd: No such file or directory\n",
      "/bin/fslval: line 91: /fsl/bin/fslhd: No such file or directory\n",
      "/bin/fslval: line 91: /fsl/bin/fslhd: No such file or directory\n",
      "/bin/fslval: line 91: /fsl/bin/fslhd: No such file or directory\n",
      "/bin/fslval: line 91: /fsl/bin/fslhd: No such file or directory\n",
      "/bin/fslval: line 91: /fsl/bin/fslhd: No such file or directory\n",
      "/bin/bet: line 145: /bin/fslstats: No such file or directory\n"
     ]
    },
    {
     "name": "stdout",
     "output_type": "stream",
     "text": [
      "107\n",
      "Final FOV is: \n",
      "38.000000 168.000000 0.000000 256.000000 0.000000 170.000000 \n",
      "\n"
     ]
    },
    {
     "name": "stderr",
     "output_type": "stream",
     "text": [
      "/bin/fslval: line 91: /fsl/bin/fslhd: No such file or directory\n",
      "/bin/fslval: line 91: /fsl/bin/fslhd: No such file or directory\n",
      "/bin/fslval: line 91: /fsl/bin/fslhd: No such file or directory\n",
      "/bin/fslval: line 91: /fsl/bin/fslhd: No such file or directory\n",
      "/bin/fslval: line 91: /fsl/bin/fslhd: No such file or directory\n",
      "/bin/fslval: line 91: /fsl/bin/fslhd: No such file or directory\n",
      "/bin/bet: line 145: /bin/fslstats: No such file or directory\n"
     ]
    },
    {
     "name": "stdout",
     "output_type": "stream",
     "text": [
      "108\n",
      "Final FOV is: \n",
      "1.000000 169.000000 0.000000 256.000000 0.000000 170.000000 \n",
      "\n"
     ]
    },
    {
     "name": "stderr",
     "output_type": "stream",
     "text": [
      "/bin/fslval: line 91: /fsl/bin/fslhd: No such file or directory\n",
      "/bin/fslval: line 91: /fsl/bin/fslhd: No such file or directory\n",
      "/bin/fslval: line 91: /fsl/bin/fslhd: No such file or directory\n",
      "/bin/fslval: line 91: /fsl/bin/fslhd: No such file or directory\n",
      "/bin/fslval: line 91: /fsl/bin/fslhd: No such file or directory\n",
      "/bin/fslval: line 91: /fsl/bin/fslhd: No such file or directory\n",
      "/bin/bet: line 145: /bin/fslstats: No such file or directory\n"
     ]
    },
    {
     "name": "stdout",
     "output_type": "stream",
     "text": [
      "109\n",
      "Final FOV is: \n",
      "1.000000 169.000000 0.000000 256.000000 0.000000 170.000000 \n",
      "\n"
     ]
    },
    {
     "name": "stderr",
     "output_type": "stream",
     "text": [
      "/bin/fslval: line 91: /fsl/bin/fslhd: No such file or directory\n",
      "/bin/fslval: line 91: /fsl/bin/fslhd: No such file or directory\n",
      "/bin/fslval: line 91: /fsl/bin/fslhd: No such file or directory\n",
      "/bin/fslval: line 91: /fsl/bin/fslhd: No such file or directory\n",
      "/bin/fslval: line 91: /fsl/bin/fslhd: No such file or directory\n",
      "/bin/fslval: line 91: /fsl/bin/fslhd: No such file or directory\n",
      "/bin/bet: line 145: /bin/fslstats: No such file or directory\n"
     ]
    },
    {
     "name": "stdout",
     "output_type": "stream",
     "text": [
      "110\n",
      "Final FOV is: \n",
      "0.000000 256.000000 0.000000 169.000000 0.000000 170.000000 \n",
      "\n"
     ]
    },
    {
     "name": "stderr",
     "output_type": "stream",
     "text": [
      "/bin/fslval: line 91: /fsl/bin/fslhd: No such file or directory\n",
      "/bin/fslval: line 91: /fsl/bin/fslhd: No such file or directory\n",
      "/bin/fslval: line 91: /fsl/bin/fslhd: No such file or directory\n",
      "/bin/fslval: line 91: /fsl/bin/fslhd: No such file or directory\n",
      "/bin/fslval: line 91: /fsl/bin/fslhd: No such file or directory\n",
      "/bin/fslval: line 91: /fsl/bin/fslhd: No such file or directory\n",
      "/bin/bet: line 145: /bin/fslstats: No such file or directory\n"
     ]
    },
    {
     "name": "stdout",
     "output_type": "stream",
     "text": [
      "111\n",
      "Final FOV is: \n",
      "1.000000 169.000000 0.000000 256.000000 0.000000 170.000000 \n",
      "\n"
     ]
    },
    {
     "name": "stderr",
     "output_type": "stream",
     "text": [
      "/bin/fslval: line 91: /fsl/bin/fslhd: No such file or directory\n",
      "/bin/fslval: line 91: /fsl/bin/fslhd: No such file or directory\n",
      "/bin/fslval: line 91: /fsl/bin/fslhd: No such file or directory\n",
      "/bin/fslval: line 91: /fsl/bin/fslhd: No such file or directory\n",
      "/bin/fslval: line 91: /fsl/bin/fslhd: No such file or directory\n",
      "/bin/fslval: line 91: /fsl/bin/fslhd: No such file or directory\n",
      "/bin/bet: line 145: /bin/fslstats: No such file or directory\n"
     ]
    },
    {
     "name": "stdout",
     "output_type": "stream",
     "text": [
      "112\n",
      "Final FOV is: \n",
      "23.000000 169.000000 0.000000 256.000000 0.000000 170.000000 \n",
      "\n"
     ]
    },
    {
     "name": "stderr",
     "output_type": "stream",
     "text": [
      "/bin/fslval: line 91: /fsl/bin/fslhd: No such file or directory\n",
      "/bin/fslval: line 91: /fsl/bin/fslhd: No such file or directory\n",
      "/bin/fslval: line 91: /fsl/bin/fslhd: No such file or directory\n",
      "/bin/fslval: line 91: /fsl/bin/fslhd: No such file or directory\n",
      "/bin/fslval: line 91: /fsl/bin/fslhd: No such file or directory\n",
      "/bin/fslval: line 91: /fsl/bin/fslhd: No such file or directory\n",
      "/bin/bet: line 145: /bin/fslstats: No such file or directory\n"
     ]
    },
    {
     "name": "stdout",
     "output_type": "stream",
     "text": [
      "113\n",
      "Final FOV is: \n",
      "54.000000 165.000000 0.000000 256.000000 0.000000 166.000000 \n",
      "\n"
     ]
    },
    {
     "name": "stderr",
     "output_type": "stream",
     "text": [
      "/bin/fslval: line 91: /fsl/bin/fslhd: No such file or directory\n",
      "/bin/fslval: line 91: /fsl/bin/fslhd: No such file or directory\n",
      "/bin/fslval: line 91: /fsl/bin/fslhd: No such file or directory\n",
      "/bin/fslval: line 91: /fsl/bin/fslhd: No such file or directory\n",
      "/bin/fslval: line 91: /fsl/bin/fslhd: No such file or directory\n",
      "/bin/fslval: line 91: /fsl/bin/fslhd: No such file or directory\n",
      "/bin/bet: line 145: /bin/fslstats: No such file or directory\n"
     ]
    },
    {
     "name": "stdout",
     "output_type": "stream",
     "text": [
      "114\n",
      "Final FOV is: \n",
      "34.000000 165.000000 0.000000 256.000000 0.000000 166.000000 \n",
      "\n"
     ]
    },
    {
     "name": "stderr",
     "output_type": "stream",
     "text": [
      "/bin/fslval: line 91: /fsl/bin/fslhd: No such file or directory\n",
      "/bin/fslval: line 91: /fsl/bin/fslhd: No such file or directory\n",
      "/bin/fslval: line 91: /fsl/bin/fslhd: No such file or directory\n",
      "/bin/fslval: line 91: /fsl/bin/fslhd: No such file or directory\n",
      "/bin/fslval: line 91: /fsl/bin/fslhd: No such file or directory\n",
      "/bin/fslval: line 91: /fsl/bin/fslhd: No such file or directory\n",
      "/bin/bet: line 145: /bin/fslstats: No such file or directory\n"
     ]
    },
    {
     "name": "stdout",
     "output_type": "stream",
     "text": [
      "115\n",
      "Final FOV is: \n",
      "36.000000 165.000000 0.000000 256.000000 0.000000 166.000000 \n",
      "\n"
     ]
    },
    {
     "name": "stderr",
     "output_type": "stream",
     "text": [
      "/bin/fslval: line 91: /fsl/bin/fslhd: No such file or directory\n",
      "/bin/fslval: line 91: /fsl/bin/fslhd: No such file or directory\n",
      "/bin/fslval: line 91: /fsl/bin/fslhd: No such file or directory\n",
      "/bin/fslval: line 91: /fsl/bin/fslhd: No such file or directory\n",
      "/bin/fslval: line 91: /fsl/bin/fslhd: No such file or directory\n",
      "/bin/fslval: line 91: /fsl/bin/fslhd: No such file or directory\n",
      "/bin/bet: line 145: /bin/fslstats: No such file or directory\n"
     ]
    },
    {
     "name": "stdout",
     "output_type": "stream",
     "text": [
      "116\n",
      "Final FOV is: \n",
      "36.000000 165.000000 0.000000 256.000000 0.000000 166.000000 \n",
      "\n"
     ]
    },
    {
     "name": "stderr",
     "output_type": "stream",
     "text": [
      "/bin/fslval: line 91: /fsl/bin/fslhd: No such file or directory\n",
      "/bin/fslval: line 91: /fsl/bin/fslhd: No such file or directory\n",
      "/bin/fslval: line 91: /fsl/bin/fslhd: No such file or directory\n",
      "/bin/fslval: line 91: /fsl/bin/fslhd: No such file or directory\n",
      "/bin/fslval: line 91: /fsl/bin/fslhd: No such file or directory\n",
      "/bin/fslval: line 91: /fsl/bin/fslhd: No such file or directory\n",
      "/bin/bet: line 145: /bin/fslstats: No such file or directory\n"
     ]
    },
    {
     "name": "stdout",
     "output_type": "stream",
     "text": [
      "117\n",
      "Final FOV is: \n",
      "23.000000 169.000000 0.000000 256.000000 0.000000 160.000000 \n",
      "\n"
     ]
    },
    {
     "name": "stderr",
     "output_type": "stream",
     "text": [
      "/bin/fslval: line 91: /fsl/bin/fslhd: No such file or directory\n",
      "/bin/fslval: line 91: /fsl/bin/fslhd: No such file or directory\n",
      "/bin/fslval: line 91: /fsl/bin/fslhd: No such file or directory\n",
      "/bin/fslval: line 91: /fsl/bin/fslhd: No such file or directory\n",
      "/bin/fslval: line 91: /fsl/bin/fslhd: No such file or directory\n",
      "/bin/fslval: line 91: /fsl/bin/fslhd: No such file or directory\n",
      "/bin/bet: line 145: /bin/fslstats: No such file or directory\n"
     ]
    },
    {
     "name": "stdout",
     "output_type": "stream",
     "text": [
      "118\n",
      "Final FOV is: \n",
      "29.000000 169.000000 0.000000 256.000000 0.000000 160.000000 \n",
      "\n"
     ]
    },
    {
     "name": "stderr",
     "output_type": "stream",
     "text": [
      "/bin/fslval: line 91: /fsl/bin/fslhd: No such file or directory\n",
      "/bin/fslval: line 91: /fsl/bin/fslhd: No such file or directory\n",
      "/bin/fslval: line 91: /fsl/bin/fslhd: No such file or directory\n",
      "/bin/fslval: line 91: /fsl/bin/fslhd: No such file or directory\n",
      "/bin/fslval: line 91: /fsl/bin/fslhd: No such file or directory\n",
      "/bin/fslval: line 91: /fsl/bin/fslhd: No such file or directory\n",
      "/bin/bet: line 145: /bin/fslstats: No such file or directory\n"
     ]
    },
    {
     "name": "stdout",
     "output_type": "stream",
     "text": [
      "119\n",
      "Final FOV is: \n",
      "22.000000 169.000000 0.000000 256.000000 0.000000 160.000000 \n",
      "\n"
     ]
    },
    {
     "name": "stderr",
     "output_type": "stream",
     "text": [
      "/bin/fslval: line 91: /fsl/bin/fslhd: No such file or directory\n",
      "/bin/fslval: line 91: /fsl/bin/fslhd: No such file or directory\n",
      "/bin/fslval: line 91: /fsl/bin/fslhd: No such file or directory\n",
      "/bin/fslval: line 91: /fsl/bin/fslhd: No such file or directory\n",
      "/bin/fslval: line 91: /fsl/bin/fslhd: No such file or directory\n",
      "/bin/fslval: line 91: /fsl/bin/fslhd: No such file or directory\n",
      "/bin/bet: line 145: /bin/fslstats: No such file or directory\n"
     ]
    },
    {
     "name": "stdout",
     "output_type": "stream",
     "text": [
      "120\n",
      "Final FOV is: \n",
      "44.000000 169.000000 0.000000 256.000000 0.000000 160.000000 \n",
      "\n"
     ]
    },
    {
     "name": "stderr",
     "output_type": "stream",
     "text": [
      "/bin/fslval: line 91: /fsl/bin/fslhd: No such file or directory\n",
      "/bin/fslval: line 91: /fsl/bin/fslhd: No such file or directory\n",
      "/bin/fslval: line 91: /fsl/bin/fslhd: No such file or directory\n",
      "/bin/fslval: line 91: /fsl/bin/fslhd: No such file or directory\n",
      "/bin/fslval: line 91: /fsl/bin/fslhd: No such file or directory\n",
      "/bin/fslval: line 91: /fsl/bin/fslhd: No such file or directory\n",
      "/bin/bet: line 145: /bin/fslstats: No such file or directory\n"
     ]
    },
    {
     "name": "stdout",
     "output_type": "stream",
     "text": [
      "121\n",
      "Final FOV is: \n",
      "53.000000 170.000000 0.000000 256.000000 0.000000 160.000000 \n",
      "\n"
     ]
    },
    {
     "name": "stderr",
     "output_type": "stream",
     "text": [
      "/bin/fslval: line 91: /fsl/bin/fslhd: No such file or directory\n",
      "/bin/fslval: line 91: /fsl/bin/fslhd: No such file or directory\n",
      "/bin/fslval: line 91: /fsl/bin/fslhd: No such file or directory\n",
      "/bin/fslval: line 91: /fsl/bin/fslhd: No such file or directory\n",
      "/bin/fslval: line 91: /fsl/bin/fslhd: No such file or directory\n",
      "/bin/fslval: line 91: /fsl/bin/fslhd: No such file or directory\n",
      "/bin/bet: line 145: /bin/fslstats: No such file or directory\n"
     ]
    },
    {
     "name": "stdout",
     "output_type": "stream",
     "text": [
      "122\n",
      "Final FOV is: \n",
      "44.000000 170.000000 0.000000 256.000000 0.000000 160.000000 \n",
      "\n"
     ]
    },
    {
     "name": "stderr",
     "output_type": "stream",
     "text": [
      "/bin/fslval: line 91: /fsl/bin/fslhd: No such file or directory\n",
      "/bin/fslval: line 91: /fsl/bin/fslhd: No such file or directory\n",
      "/bin/fslval: line 91: /fsl/bin/fslhd: No such file or directory\n",
      "/bin/fslval: line 91: /fsl/bin/fslhd: No such file or directory\n",
      "/bin/fslval: line 91: /fsl/bin/fslhd: No such file or directory\n",
      "/bin/fslval: line 91: /fsl/bin/fslhd: No such file or directory\n",
      "/bin/bet: line 145: /bin/fslstats: No such file or directory\n"
     ]
    },
    {
     "name": "stdout",
     "output_type": "stream",
     "text": [
      "123\n",
      "Final FOV is: \n",
      "33.000000 170.000000 0.000000 256.000000 0.000000 160.000000 \n",
      "\n"
     ]
    },
    {
     "name": "stderr",
     "output_type": "stream",
     "text": [
      "/bin/fslval: line 91: /fsl/bin/fslhd: No such file or directory\n",
      "/bin/fslval: line 91: /fsl/bin/fslhd: No such file or directory\n",
      "/bin/fslval: line 91: /fsl/bin/fslhd: No such file or directory\n",
      "/bin/fslval: line 91: /fsl/bin/fslhd: No such file or directory\n",
      "/bin/fslval: line 91: /fsl/bin/fslhd: No such file or directory\n",
      "/bin/fslval: line 91: /fsl/bin/fslhd: No such file or directory\n",
      "/bin/bet: line 145: /bin/fslstats: No such file or directory\n"
     ]
    },
    {
     "name": "stdout",
     "output_type": "stream",
     "text": [
      "124\n",
      "Final FOV is: \n",
      "17.000000 170.000000 0.000000 256.000000 0.000000 160.000000 \n",
      "\n"
     ]
    },
    {
     "name": "stderr",
     "output_type": "stream",
     "text": [
      "/bin/fslval: line 91: /fsl/bin/fslhd: No such file or directory\n",
      "/bin/fslval: line 91: /fsl/bin/fslhd: No such file or directory\n",
      "/bin/fslval: line 91: /fsl/bin/fslhd: No such file or directory\n",
      "/bin/fslval: line 91: /fsl/bin/fslhd: No such file or directory\n",
      "/bin/fslval: line 91: /fsl/bin/fslhd: No such file or directory\n",
      "/bin/fslval: line 91: /fsl/bin/fslhd: No such file or directory\n",
      "/bin/bet: line 145: /bin/fslstats: No such file or directory\n"
     ]
    },
    {
     "name": "stdout",
     "output_type": "stream",
     "text": [
      "125\n",
      "Final FOV is: \n",
      "28.000000 169.000000 0.000000 256.000000 0.000000 170.000000 \n",
      "\n"
     ]
    },
    {
     "name": "stderr",
     "output_type": "stream",
     "text": [
      "/bin/fslval: line 91: /fsl/bin/fslhd: No such file or directory\n",
      "/bin/fslval: line 91: /fsl/bin/fslhd: No such file or directory\n",
      "/bin/fslval: line 91: /fsl/bin/fslhd: No such file or directory\n",
      "/bin/fslval: line 91: /fsl/bin/fslhd: No such file or directory\n",
      "/bin/fslval: line 91: /fsl/bin/fslhd: No such file or directory\n",
      "/bin/fslval: line 91: /fsl/bin/fslhd: No such file or directory\n",
      "/bin/bet: line 145: /bin/fslstats: No such file or directory\n"
     ]
    },
    {
     "name": "stdout",
     "output_type": "stream",
     "text": [
      "126\n",
      "Final FOV is: \n",
      "1.000000 169.000000 0.000000 256.000000 0.000000 170.000000 \n",
      "\n"
     ]
    },
    {
     "name": "stderr",
     "output_type": "stream",
     "text": [
      "/bin/fslval: line 91: /fsl/bin/fslhd: No such file or directory\n",
      "/bin/fslval: line 91: /fsl/bin/fslhd: No such file or directory\n",
      "/bin/fslval: line 91: /fsl/bin/fslhd: No such file or directory\n",
      "/bin/fslval: line 91: /fsl/bin/fslhd: No such file or directory\n",
      "/bin/fslval: line 91: /fsl/bin/fslhd: No such file or directory\n",
      "/bin/fslval: line 91: /fsl/bin/fslhd: No such file or directory\n",
      "/bin/bet: line 145: /bin/fslstats: No such file or directory\n"
     ]
    },
    {
     "name": "stdout",
     "output_type": "stream",
     "text": [
      "127\n",
      "Final FOV is: \n",
      "44.000000 169.000000 0.000000 256.000000 0.000000 170.000000 \n",
      "\n"
     ]
    },
    {
     "name": "stderr",
     "output_type": "stream",
     "text": [
      "/bin/fslval: line 91: /fsl/bin/fslhd: No such file or directory\n",
      "/bin/fslval: line 91: /fsl/bin/fslhd: No such file or directory\n",
      "/bin/fslval: line 91: /fsl/bin/fslhd: No such file or directory\n",
      "/bin/fslval: line 91: /fsl/bin/fslhd: No such file or directory\n",
      "/bin/fslval: line 91: /fsl/bin/fslhd: No such file or directory\n",
      "/bin/fslval: line 91: /fsl/bin/fslhd: No such file or directory\n",
      "/bin/bet: line 145: /bin/fslstats: No such file or directory\n"
     ]
    },
    {
     "name": "stdout",
     "output_type": "stream",
     "text": [
      "128\n",
      "Final FOV is: \n",
      "0.000000 256.000000 0.000000 169.000000 0.000000 170.000000 \n",
      "\n"
     ]
    },
    {
     "name": "stderr",
     "output_type": "stream",
     "text": [
      "/bin/fslval: line 91: /fsl/bin/fslhd: No such file or directory\n",
      "/bin/fslval: line 91: /fsl/bin/fslhd: No such file or directory\n",
      "/bin/fslval: line 91: /fsl/bin/fslhd: No such file or directory\n",
      "/bin/fslval: line 91: /fsl/bin/fslhd: No such file or directory\n",
      "/bin/fslval: line 91: /fsl/bin/fslhd: No such file or directory\n",
      "/bin/fslval: line 91: /fsl/bin/fslhd: No such file or directory\n",
      "/bin/bet: line 145: /bin/fslstats: No such file or directory\n"
     ]
    },
    {
     "name": "stdout",
     "output_type": "stream",
     "text": [
      "129\n",
      "Final FOV is: \n",
      "28.000000 169.000000 0.000000 256.000000 0.000000 170.000000 \n",
      "\n"
     ]
    },
    {
     "name": "stderr",
     "output_type": "stream",
     "text": [
      "/bin/fslval: line 91: /fsl/bin/fslhd: No such file or directory\n",
      "/bin/fslval: line 91: /fsl/bin/fslhd: No such file or directory\n",
      "/bin/fslval: line 91: /fsl/bin/fslhd: No such file or directory\n",
      "/bin/fslval: line 91: /fsl/bin/fslhd: No such file or directory\n",
      "/bin/fslval: line 91: /fsl/bin/fslhd: No such file or directory\n",
      "/bin/fslval: line 91: /fsl/bin/fslhd: No such file or directory\n",
      "/bin/bet: line 145: /bin/fslstats: No such file or directory\n"
     ]
    },
    {
     "name": "stdout",
     "output_type": "stream",
     "text": [
      "130\n",
      "Final FOV is: \n",
      "35.000000 169.000000 0.000000 256.000000 0.000000 170.000000 \n",
      "\n"
     ]
    },
    {
     "name": "stderr",
     "output_type": "stream",
     "text": [
      "/bin/fslval: line 91: /fsl/bin/fslhd: No such file or directory\n",
      "/bin/fslval: line 91: /fsl/bin/fslhd: No such file or directory\n",
      "/bin/fslval: line 91: /fsl/bin/fslhd: No such file or directory\n",
      "/bin/fslval: line 91: /fsl/bin/fslhd: No such file or directory\n",
      "/bin/fslval: line 91: /fsl/bin/fslhd: No such file or directory\n",
      "/bin/fslval: line 91: /fsl/bin/fslhd: No such file or directory\n",
      "/bin/bet: line 145: /bin/fslstats: No such file or directory\n"
     ]
    },
    {
     "name": "stdout",
     "output_type": "stream",
     "text": [
      "131\n",
      "Final FOV is: \n",
      "40.000000 170.000000 0.000000 256.000000 0.000000 170.000000 \n",
      "\n"
     ]
    },
    {
     "name": "stderr",
     "output_type": "stream",
     "text": [
      "/bin/fslval: line 91: /fsl/bin/fslhd: No such file or directory\n",
      "/bin/fslval: line 91: /fsl/bin/fslhd: No such file or directory\n",
      "/bin/fslval: line 91: /fsl/bin/fslhd: No such file or directory\n",
      "/bin/fslval: line 91: /fsl/bin/fslhd: No such file or directory\n",
      "/bin/fslval: line 91: /fsl/bin/fslhd: No such file or directory\n",
      "/bin/fslval: line 91: /fsl/bin/fslhd: No such file or directory\n",
      "/bin/bet: line 145: /bin/fslstats: No such file or directory\n"
     ]
    },
    {
     "name": "stdout",
     "output_type": "stream",
     "text": [
      "132\n",
      "Final FOV is: \n",
      "45.000000 169.000000 0.000000 256.000000 0.000000 170.000000 \n",
      "\n"
     ]
    },
    {
     "name": "stderr",
     "output_type": "stream",
     "text": [
      "/bin/fslval: line 91: /fsl/bin/fslhd: No such file or directory\n",
      "/bin/fslval: line 91: /fsl/bin/fslhd: No such file or directory\n",
      "/bin/fslval: line 91: /fsl/bin/fslhd: No such file or directory\n",
      "/bin/fslval: line 91: /fsl/bin/fslhd: No such file or directory\n",
      "/bin/fslval: line 91: /fsl/bin/fslhd: No such file or directory\n",
      "/bin/fslval: line 91: /fsl/bin/fslhd: No such file or directory\n",
      "/bin/bet: line 145: /bin/fslstats: No such file or directory\n"
     ]
    },
    {
     "name": "stdout",
     "output_type": "stream",
     "text": [
      "133\n",
      "Final FOV is: \n",
      "42.000000 169.000000 0.000000 256.000000 0.000000 170.000000 \n",
      "\n"
     ]
    },
    {
     "name": "stderr",
     "output_type": "stream",
     "text": [
      "/bin/fslval: line 91: /fsl/bin/fslhd: No such file or directory\n",
      "/bin/fslval: line 91: /fsl/bin/fslhd: No such file or directory\n",
      "/bin/fslval: line 91: /fsl/bin/fslhd: No such file or directory\n",
      "/bin/fslval: line 91: /fsl/bin/fslhd: No such file or directory\n",
      "/bin/fslval: line 91: /fsl/bin/fslhd: No such file or directory\n",
      "/bin/fslval: line 91: /fsl/bin/fslhd: No such file or directory\n",
      "/bin/bet: line 145: /bin/fslstats: No such file or directory\n"
     ]
    },
    {
     "name": "stdout",
     "output_type": "stream",
     "text": [
      "134\n",
      "Final FOV is: \n",
      "36.000000 170.000000 0.000000 256.000000 0.000000 160.000000 \n",
      "\n"
     ]
    },
    {
     "name": "stderr",
     "output_type": "stream",
     "text": [
      "/bin/fslval: line 91: /fsl/bin/fslhd: No such file or directory\n",
      "/bin/fslval: line 91: /fsl/bin/fslhd: No such file or directory\n",
      "/bin/fslval: line 91: /fsl/bin/fslhd: No such file or directory\n",
      "/bin/fslval: line 91: /fsl/bin/fslhd: No such file or directory\n",
      "/bin/fslval: line 91: /fsl/bin/fslhd: No such file or directory\n",
      "/bin/fslval: line 91: /fsl/bin/fslhd: No such file or directory\n",
      "/bin/bet: line 145: /bin/fslstats: No such file or directory\n"
     ]
    },
    {
     "name": "stdout",
     "output_type": "stream",
     "text": [
      "135\n",
      "Final FOV is: \n",
      "36.000000 170.000000 0.000000 256.000000 0.000000 160.000000 \n",
      "\n"
     ]
    },
    {
     "name": "stderr",
     "output_type": "stream",
     "text": [
      "/bin/fslval: line 91: /fsl/bin/fslhd: No such file or directory\n",
      "/bin/fslval: line 91: /fsl/bin/fslhd: No such file or directory\n",
      "/bin/fslval: line 91: /fsl/bin/fslhd: No such file or directory\n",
      "/bin/fslval: line 91: /fsl/bin/fslhd: No such file or directory\n",
      "/bin/fslval: line 91: /fsl/bin/fslhd: No such file or directory\n",
      "/bin/fslval: line 91: /fsl/bin/fslhd: No such file or directory\n",
      "/bin/bet: line 145: /bin/fslstats: No such file or directory\n"
     ]
    },
    {
     "name": "stdout",
     "output_type": "stream",
     "text": [
      "136\n",
      "Final FOV is: \n",
      "1.000000 170.000000 0.000000 256.000000 0.000000 160.000000 \n",
      "\n"
     ]
    },
    {
     "name": "stderr",
     "output_type": "stream",
     "text": [
      "/bin/fslval: line 91: /fsl/bin/fslhd: No such file or directory\n",
      "/bin/fslval: line 91: /fsl/bin/fslhd: No such file or directory\n",
      "/bin/fslval: line 91: /fsl/bin/fslhd: No such file or directory\n",
      "/bin/fslval: line 91: /fsl/bin/fslhd: No such file or directory\n",
      "/bin/fslval: line 91: /fsl/bin/fslhd: No such file or directory\n",
      "/bin/fslval: line 91: /fsl/bin/fslhd: No such file or directory\n",
      "/bin/bet: line 145: /bin/fslstats: No such file or directory\n"
     ]
    },
    {
     "name": "stdout",
     "output_type": "stream",
     "text": [
      "137\n",
      "Final FOV is: \n",
      "1.000000 170.000000 0.000000 256.000000 0.000000 160.000000 \n",
      "\n"
     ]
    },
    {
     "name": "stderr",
     "output_type": "stream",
     "text": [
      "/bin/fslval: line 91: /fsl/bin/fslhd: No such file or directory\n",
      "/bin/fslval: line 91: /fsl/bin/fslhd: No such file or directory\n",
      "/bin/fslval: line 91: /fsl/bin/fslhd: No such file or directory\n",
      "/bin/fslval: line 91: /fsl/bin/fslhd: No such file or directory\n",
      "/bin/fslval: line 91: /fsl/bin/fslhd: No such file or directory\n",
      "/bin/fslval: line 91: /fsl/bin/fslhd: No such file or directory\n",
      "/bin/bet: line 145: /bin/fslstats: No such file or directory\n"
     ]
    },
    {
     "name": "stdout",
     "output_type": "stream",
     "text": [
      "138\n",
      "Final FOV is: \n",
      "57.000000 167.000000 0.000000 256.000000 0.000000 166.000000 \n",
      "\n"
     ]
    },
    {
     "name": "stderr",
     "output_type": "stream",
     "text": [
      "/bin/fslval: line 91: /fsl/bin/fslhd: No such file or directory\n",
      "/bin/fslval: line 91: /fsl/bin/fslhd: No such file or directory\n",
      "/bin/fslval: line 91: /fsl/bin/fslhd: No such file or directory\n",
      "/bin/fslval: line 91: /fsl/bin/fslhd: No such file or directory\n",
      "/bin/fslval: line 91: /fsl/bin/fslhd: No such file or directory\n",
      "/bin/fslval: line 91: /fsl/bin/fslhd: No such file or directory\n",
      "/bin/bet: line 145: /bin/fslstats: No such file or directory\n"
     ]
    },
    {
     "name": "stdout",
     "output_type": "stream",
     "text": [
      "139\n",
      "Final FOV is: \n",
      "61.000000 165.000000 0.000000 256.000000 0.000000 166.000000 \n",
      "\n"
     ]
    },
    {
     "name": "stderr",
     "output_type": "stream",
     "text": [
      "/bin/fslval: line 91: /fsl/bin/fslhd: No such file or directory\n",
      "/bin/fslval: line 91: /fsl/bin/fslhd: No such file or directory\n",
      "/bin/fslval: line 91: /fsl/bin/fslhd: No such file or directory\n",
      "/bin/fslval: line 91: /fsl/bin/fslhd: No such file or directory\n",
      "/bin/fslval: line 91: /fsl/bin/fslhd: No such file or directory\n",
      "/bin/fslval: line 91: /fsl/bin/fslhd: No such file or directory\n",
      "/bin/bet: line 145: /bin/fslstats: No such file or directory\n"
     ]
    },
    {
     "name": "stdout",
     "output_type": "stream",
     "text": [
      "140\n",
      "Final FOV is: \n",
      "48.000000 167.000000 0.000000 256.000000 0.000000 166.000000 \n",
      "\n"
     ]
    },
    {
     "name": "stderr",
     "output_type": "stream",
     "text": [
      "/bin/fslval: line 91: /fsl/bin/fslhd: No such file or directory\n",
      "/bin/fslval: line 91: /fsl/bin/fslhd: No such file or directory\n",
      "/bin/fslval: line 91: /fsl/bin/fslhd: No such file or directory\n",
      "/bin/fslval: line 91: /fsl/bin/fslhd: No such file or directory\n",
      "/bin/fslval: line 91: /fsl/bin/fslhd: No such file or directory\n",
      "/bin/fslval: line 91: /fsl/bin/fslhd: No such file or directory\n",
      "/bin/bet: line 145: /bin/fslstats: No such file or directory\n"
     ]
    },
    {
     "name": "stdout",
     "output_type": "stream",
     "text": [
      "141\n",
      "Final FOV is: \n",
      "55.000000 165.000000 0.000000 256.000000 0.000000 166.000000 \n",
      "\n"
     ]
    },
    {
     "name": "stderr",
     "output_type": "stream",
     "text": [
      "/bin/fslval: line 91: /fsl/bin/fslhd: No such file or directory\n",
      "/bin/fslval: line 91: /fsl/bin/fslhd: No such file or directory\n",
      "/bin/fslval: line 91: /fsl/bin/fslhd: No such file or directory\n",
      "/bin/fslval: line 91: /fsl/bin/fslhd: No such file or directory\n",
      "/bin/fslval: line 91: /fsl/bin/fslhd: No such file or directory\n",
      "/bin/fslval: line 91: /fsl/bin/fslhd: No such file or directory\n",
      "/bin/bet: line 145: /bin/fslstats: No such file or directory\n"
     ]
    },
    {
     "name": "stdout",
     "output_type": "stream",
     "text": [
      "142\n",
      "Final FOV is: \n",
      "1.000000 168.000000 0.000000 256.000000 0.000000 170.000000 \n",
      "\n"
     ]
    },
    {
     "name": "stderr",
     "output_type": "stream",
     "text": [
      "/bin/fslval: line 91: /fsl/bin/fslhd: No such file or directory\n",
      "/bin/fslval: line 91: /fsl/bin/fslhd: No such file or directory\n",
      "/bin/fslval: line 91: /fsl/bin/fslhd: No such file or directory\n",
      "/bin/fslval: line 91: /fsl/bin/fslhd: No such file or directory\n",
      "/bin/fslval: line 91: /fsl/bin/fslhd: No such file or directory\n",
      "/bin/fslval: line 91: /fsl/bin/fslhd: No such file or directory\n",
      "/bin/bet: line 145: /bin/fslstats: No such file or directory\n"
     ]
    },
    {
     "name": "stdout",
     "output_type": "stream",
     "text": [
      "143\n",
      "Final FOV is: \n",
      "1.000000 168.000000 0.000000 256.000000 0.000000 170.000000 \n",
      "\n"
     ]
    },
    {
     "name": "stderr",
     "output_type": "stream",
     "text": [
      "/bin/fslval: line 91: /fsl/bin/fslhd: No such file or directory\n",
      "/bin/fslval: line 91: /fsl/bin/fslhd: No such file or directory\n",
      "/bin/fslval: line 91: /fsl/bin/fslhd: No such file or directory\n",
      "/bin/fslval: line 91: /fsl/bin/fslhd: No such file or directory\n",
      "/bin/fslval: line 91: /fsl/bin/fslhd: No such file or directory\n",
      "/bin/fslval: line 91: /fsl/bin/fslhd: No such file or directory\n",
      "/bin/bet: line 145: /bin/fslstats: No such file or directory\n"
     ]
    },
    {
     "name": "stdout",
     "output_type": "stream",
     "text": [
      "144\n",
      "Final FOV is: \n",
      "54.000000 169.000000 0.000000 256.000000 0.000000 170.000000 \n",
      "\n"
     ]
    },
    {
     "name": "stderr",
     "output_type": "stream",
     "text": [
      "/bin/fslval: line 91: /fsl/bin/fslhd: No such file or directory\n",
      "/bin/fslval: line 91: /fsl/bin/fslhd: No such file or directory\n",
      "/bin/fslval: line 91: /fsl/bin/fslhd: No such file or directory\n",
      "/bin/fslval: line 91: /fsl/bin/fslhd: No such file or directory\n",
      "/bin/fslval: line 91: /fsl/bin/fslhd: No such file or directory\n",
      "/bin/fslval: line 91: /fsl/bin/fslhd: No such file or directory\n",
      "/bin/bet: line 145: /bin/fslstats: No such file or directory\n"
     ]
    },
    {
     "name": "stdout",
     "output_type": "stream",
     "text": [
      "145\n",
      "Final FOV is: \n",
      "1.000000 168.000000 0.000000 256.000000 0.000000 170.000000 \n",
      "\n"
     ]
    },
    {
     "name": "stderr",
     "output_type": "stream",
     "text": [
      "/bin/fslval: line 91: /fsl/bin/fslhd: No such file or directory\n",
      "/bin/fslval: line 91: /fsl/bin/fslhd: No such file or directory\n",
      "/bin/fslval: line 91: /fsl/bin/fslhd: No such file or directory\n",
      "/bin/fslval: line 91: /fsl/bin/fslhd: No such file or directory\n",
      "/bin/fslval: line 91: /fsl/bin/fslhd: No such file or directory\n",
      "/bin/fslval: line 91: /fsl/bin/fslhd: No such file or directory\n",
      "/bin/bet: line 145: /bin/fslstats: No such file or directory\n"
     ]
    },
    {
     "name": "stdout",
     "output_type": "stream",
     "text": [
      "146\n",
      "Final FOV is: \n",
      "51.000000 167.000000 0.000000 256.000000 0.000000 166.000000 \n",
      "\n"
     ]
    },
    {
     "name": "stderr",
     "output_type": "stream",
     "text": [
      "/bin/fslval: line 91: /fsl/bin/fslhd: No such file or directory\n",
      "/bin/fslval: line 91: /fsl/bin/fslhd: No such file or directory\n",
      "/bin/fslval: line 91: /fsl/bin/fslhd: No such file or directory\n",
      "/bin/fslval: line 91: /fsl/bin/fslhd: No such file or directory\n",
      "/bin/fslval: line 91: /fsl/bin/fslhd: No such file or directory\n",
      "/bin/fslval: line 91: /fsl/bin/fslhd: No such file or directory\n",
      "/bin/bet: line 145: /bin/fslstats: No such file or directory\n"
     ]
    },
    {
     "name": "stdout",
     "output_type": "stream",
     "text": [
      "147\n",
      "Final FOV is: \n",
      "26.000000 167.000000 0.000000 256.000000 0.000000 166.000000 \n",
      "\n"
     ]
    },
    {
     "name": "stderr",
     "output_type": "stream",
     "text": [
      "/bin/fslval: line 91: /fsl/bin/fslhd: No such file or directory\n",
      "/bin/fslval: line 91: /fsl/bin/fslhd: No such file or directory\n",
      "/bin/fslval: line 91: /fsl/bin/fslhd: No such file or directory\n",
      "/bin/fslval: line 91: /fsl/bin/fslhd: No such file or directory\n",
      "/bin/fslval: line 91: /fsl/bin/fslhd: No such file or directory\n",
      "/bin/fslval: line 91: /fsl/bin/fslhd: No such file or directory\n",
      "/bin/bet: line 145: /bin/fslstats: No such file or directory\n"
     ]
    },
    {
     "name": "stdout",
     "output_type": "stream",
     "text": [
      "148\n",
      "Final FOV is: \n",
      "26.000000 167.000000 0.000000 256.000000 0.000000 166.000000 \n",
      "\n"
     ]
    },
    {
     "name": "stderr",
     "output_type": "stream",
     "text": [
      "/bin/fslval: line 91: /fsl/bin/fslhd: No such file or directory\n",
      "/bin/fslval: line 91: /fsl/bin/fslhd: No such file or directory\n",
      "/bin/fslval: line 91: /fsl/bin/fslhd: No such file or directory\n",
      "/bin/fslval: line 91: /fsl/bin/fslhd: No such file or directory\n",
      "/bin/fslval: line 91: /fsl/bin/fslhd: No such file or directory\n",
      "/bin/fslval: line 91: /fsl/bin/fslhd: No such file or directory\n",
      "/bin/bet: line 145: /bin/fslstats: No such file or directory\n"
     ]
    },
    {
     "name": "stdout",
     "output_type": "stream",
     "text": [
      "149\n",
      "Final FOV is: \n",
      "53.000000 169.000000 0.000000 256.000000 0.000000 160.000000 \n",
      "\n"
     ]
    },
    {
     "name": "stderr",
     "output_type": "stream",
     "text": [
      "/bin/fslval: line 91: /fsl/bin/fslhd: No such file or directory\n",
      "/bin/fslval: line 91: /fsl/bin/fslhd: No such file or directory\n",
      "/bin/fslval: line 91: /fsl/bin/fslhd: No such file or directory\n",
      "/bin/fslval: line 91: /fsl/bin/fslhd: No such file or directory\n",
      "/bin/fslval: line 91: /fsl/bin/fslhd: No such file or directory\n",
      "/bin/fslval: line 91: /fsl/bin/fslhd: No such file or directory\n",
      "/bin/bet: line 145: /bin/fslstats: No such file or directory\n"
     ]
    },
    {
     "name": "stdout",
     "output_type": "stream",
     "text": [
      "150\n",
      "Final FOV is: \n",
      "57.000000 169.000000 0.000000 256.000000 0.000000 160.000000 \n",
      "\n"
     ]
    },
    {
     "name": "stderr",
     "output_type": "stream",
     "text": [
      "/bin/fslval: line 91: /fsl/bin/fslhd: No such file or directory\n",
      "/bin/fslval: line 91: /fsl/bin/fslhd: No such file or directory\n",
      "/bin/fslval: line 91: /fsl/bin/fslhd: No such file or directory\n",
      "/bin/fslval: line 91: /fsl/bin/fslhd: No such file or directory\n",
      "/bin/fslval: line 91: /fsl/bin/fslhd: No such file or directory\n",
      "/bin/fslval: line 91: /fsl/bin/fslhd: No such file or directory\n",
      "/bin/bet: line 145: /bin/fslstats: No such file or directory\n"
     ]
    },
    {
     "name": "stdout",
     "output_type": "stream",
     "text": [
      "151\n",
      "Final FOV is: \n",
      "42.000000 169.000000 0.000000 256.000000 0.000000 160.000000 \n",
      "\n"
     ]
    },
    {
     "name": "stderr",
     "output_type": "stream",
     "text": [
      "/bin/fslval: line 91: /fsl/bin/fslhd: No such file or directory\n",
      "/bin/fslval: line 91: /fsl/bin/fslhd: No such file or directory\n",
      "/bin/fslval: line 91: /fsl/bin/fslhd: No such file or directory\n",
      "/bin/fslval: line 91: /fsl/bin/fslhd: No such file or directory\n",
      "/bin/fslval: line 91: /fsl/bin/fslhd: No such file or directory\n",
      "/bin/fslval: line 91: /fsl/bin/fslhd: No such file or directory\n",
      "/bin/bet: line 145: /bin/fslstats: No such file or directory\n"
     ]
    },
    {
     "name": "stdout",
     "output_type": "stream",
     "text": [
      "152\n",
      "Final FOV is: \n",
      "30.000000 169.000000 0.000000 256.000000 0.000000 160.000000 \n",
      "\n"
     ]
    },
    {
     "name": "stderr",
     "output_type": "stream",
     "text": [
      "/bin/fslval: line 91: /fsl/bin/fslhd: No such file or directory\n",
      "/bin/fslval: line 91: /fsl/bin/fslhd: No such file or directory\n",
      "/bin/fslval: line 91: /fsl/bin/fslhd: No such file or directory\n",
      "/bin/fslval: line 91: /fsl/bin/fslhd: No such file or directory\n",
      "/bin/fslval: line 91: /fsl/bin/fslhd: No such file or directory\n",
      "/bin/fslval: line 91: /fsl/bin/fslhd: No such file or directory\n",
      "/bin/bet: line 145: /bin/fslstats: No such file or directory\n"
     ]
    },
    {
     "name": "stdout",
     "output_type": "stream",
     "text": [
      "153\n",
      "Final FOV is: \n",
      "45.000000 169.000000 0.000000 256.000000 0.000000 170.000000 \n",
      "\n"
     ]
    },
    {
     "name": "stderr",
     "output_type": "stream",
     "text": [
      "/bin/fslval: line 91: /fsl/bin/fslhd: No such file or directory\n",
      "/bin/fslval: line 91: /fsl/bin/fslhd: No such file or directory\n",
      "/bin/fslval: line 91: /fsl/bin/fslhd: No such file or directory\n",
      "/bin/fslval: line 91: /fsl/bin/fslhd: No such file or directory\n",
      "/bin/fslval: line 91: /fsl/bin/fslhd: No such file or directory\n",
      "/bin/fslval: line 91: /fsl/bin/fslhd: No such file or directory\n",
      "/bin/bet: line 145: /bin/fslstats: No such file or directory\n"
     ]
    },
    {
     "name": "stdout",
     "output_type": "stream",
     "text": [
      "154\n",
      "Final FOV is: \n",
      "31.000000 169.000000 0.000000 256.000000 0.000000 170.000000 \n",
      "\n"
     ]
    },
    {
     "name": "stderr",
     "output_type": "stream",
     "text": [
      "/bin/fslval: line 91: /fsl/bin/fslhd: No such file or directory\n",
      "/bin/fslval: line 91: /fsl/bin/fslhd: No such file or directory\n",
      "/bin/fslval: line 91: /fsl/bin/fslhd: No such file or directory\n",
      "/bin/fslval: line 91: /fsl/bin/fslhd: No such file or directory\n",
      "/bin/fslval: line 91: /fsl/bin/fslhd: No such file or directory\n",
      "/bin/fslval: line 91: /fsl/bin/fslhd: No such file or directory\n",
      "/bin/bet: line 145: /bin/fslstats: No such file or directory\n"
     ]
    },
    {
     "name": "stdout",
     "output_type": "stream",
     "text": [
      "155\n",
      "Final FOV is: \n",
      "18.000000 169.000000 0.000000 256.000000 0.000000 170.000000 \n",
      "\n"
     ]
    },
    {
     "name": "stderr",
     "output_type": "stream",
     "text": [
      "/bin/fslval: line 91: /fsl/bin/fslhd: No such file or directory\n",
      "/bin/fslval: line 91: /fsl/bin/fslhd: No such file or directory\n",
      "/bin/fslval: line 91: /fsl/bin/fslhd: No such file or directory\n",
      "/bin/fslval: line 91: /fsl/bin/fslhd: No such file or directory\n",
      "/bin/fslval: line 91: /fsl/bin/fslhd: No such file or directory\n",
      "/bin/fslval: line 91: /fsl/bin/fslhd: No such file or directory\n",
      "/bin/bet: line 145: /bin/fslstats: No such file or directory\n"
     ]
    },
    {
     "name": "stdout",
     "output_type": "stream",
     "text": [
      "156\n",
      "Final FOV is: \n",
      "36.000000 169.000000 0.000000 256.000000 0.000000 170.000000 \n",
      "\n"
     ]
    },
    {
     "name": "stderr",
     "output_type": "stream",
     "text": [
      "/bin/fslval: line 91: /fsl/bin/fslhd: No such file or directory\n",
      "/bin/fslval: line 91: /fsl/bin/fslhd: No such file or directory\n",
      "/bin/fslval: line 91: /fsl/bin/fslhd: No such file or directory\n",
      "/bin/fslval: line 91: /fsl/bin/fslhd: No such file or directory\n",
      "/bin/fslval: line 91: /fsl/bin/fslhd: No such file or directory\n",
      "/bin/fslval: line 91: /fsl/bin/fslhd: No such file or directory\n",
      "/bin/bet: line 145: /bin/fslstats: No such file or directory\n"
     ]
    },
    {
     "name": "stdout",
     "output_type": "stream",
     "text": [
      "157\n",
      "Final FOV is: \n",
      "44.000000 168.000000 0.000000 256.000000 0.000000 170.000000 \n",
      "\n"
     ]
    },
    {
     "name": "stderr",
     "output_type": "stream",
     "text": [
      "/bin/fslval: line 91: /fsl/bin/fslhd: No such file or directory\n",
      "/bin/fslval: line 91: /fsl/bin/fslhd: No such file or directory\n",
      "/bin/fslval: line 91: /fsl/bin/fslhd: No such file or directory\n",
      "/bin/fslval: line 91: /fsl/bin/fslhd: No such file or directory\n",
      "/bin/fslval: line 91: /fsl/bin/fslhd: No such file or directory\n",
      "/bin/fslval: line 91: /fsl/bin/fslhd: No such file or directory\n",
      "/bin/bet: line 145: /bin/fslstats: No such file or directory\n"
     ]
    },
    {
     "name": "stdout",
     "output_type": "stream",
     "text": [
      "158\n",
      "Final FOV is: \n",
      "1.000000 168.000000 0.000000 256.000000 0.000000 170.000000 \n",
      "\n"
     ]
    },
    {
     "name": "stderr",
     "output_type": "stream",
     "text": [
      "/bin/fslval: line 91: /fsl/bin/fslhd: No such file or directory\n",
      "/bin/fslval: line 91: /fsl/bin/fslhd: No such file or directory\n",
      "/bin/fslval: line 91: /fsl/bin/fslhd: No such file or directory\n",
      "/bin/fslval: line 91: /fsl/bin/fslhd: No such file or directory\n",
      "/bin/fslval: line 91: /fsl/bin/fslhd: No such file or directory\n",
      "/bin/fslval: line 91: /fsl/bin/fslhd: No such file or directory\n",
      "/bin/bet: line 145: /bin/fslstats: No such file or directory\n"
     ]
    },
    {
     "name": "stdout",
     "output_type": "stream",
     "text": [
      "159\n",
      "Final FOV is: \n",
      "28.000000 168.000000 0.000000 256.000000 0.000000 170.000000 \n",
      "\n"
     ]
    },
    {
     "name": "stderr",
     "output_type": "stream",
     "text": [
      "/bin/fslval: line 91: /fsl/bin/fslhd: No such file or directory\n",
      "/bin/fslval: line 91: /fsl/bin/fslhd: No such file or directory\n",
      "/bin/fslval: line 91: /fsl/bin/fslhd: No such file or directory\n",
      "/bin/fslval: line 91: /fsl/bin/fslhd: No such file or directory\n",
      "/bin/fslval: line 91: /fsl/bin/fslhd: No such file or directory\n",
      "/bin/fslval: line 91: /fsl/bin/fslhd: No such file or directory\n",
      "/bin/bet: line 145: /bin/fslstats: No such file or directory\n"
     ]
    },
    {
     "name": "stdout",
     "output_type": "stream",
     "text": [
      "160\n",
      "Final FOV is: \n",
      "44.000000 168.000000 0.000000 256.000000 0.000000 170.000000 \n",
      "\n"
     ]
    },
    {
     "name": "stderr",
     "output_type": "stream",
     "text": [
      "/bin/fslval: line 91: /fsl/bin/fslhd: No such file or directory\n",
      "/bin/fslval: line 91: /fsl/bin/fslhd: No such file or directory\n",
      "/bin/fslval: line 91: /fsl/bin/fslhd: No such file or directory\n",
      "/bin/fslval: line 91: /fsl/bin/fslhd: No such file or directory\n",
      "/bin/fslval: line 91: /fsl/bin/fslhd: No such file or directory\n",
      "/bin/fslval: line 91: /fsl/bin/fslhd: No such file or directory\n",
      "/bin/bet: line 145: /bin/fslstats: No such file or directory\n"
     ]
    },
    {
     "name": "stdout",
     "output_type": "stream",
     "text": [
      "161\n",
      "Final FOV is: \n",
      "41.000000 169.000000 0.000000 256.000000 0.000000 170.000000 \n",
      "\n"
     ]
    },
    {
     "name": "stderr",
     "output_type": "stream",
     "text": [
      "/bin/fslval: line 91: /fsl/bin/fslhd: No such file or directory\n",
      "/bin/fslval: line 91: /fsl/bin/fslhd: No such file or directory\n",
      "/bin/fslval: line 91: /fsl/bin/fslhd: No such file or directory\n",
      "/bin/fslval: line 91: /fsl/bin/fslhd: No such file or directory\n",
      "/bin/fslval: line 91: /fsl/bin/fslhd: No such file or directory\n",
      "/bin/fslval: line 91: /fsl/bin/fslhd: No such file or directory\n",
      "/bin/bet: line 145: /bin/fslstats: No such file or directory\n"
     ]
    },
    {
     "name": "stdout",
     "output_type": "stream",
     "text": [
      "162\n",
      "Final FOV is: \n",
      "1.000000 169.000000 0.000000 256.000000 0.000000 170.000000 \n",
      "\n"
     ]
    },
    {
     "name": "stderr",
     "output_type": "stream",
     "text": [
      "/bin/fslval: line 91: /fsl/bin/fslhd: No such file or directory\n",
      "/bin/fslval: line 91: /fsl/bin/fslhd: No such file or directory\n",
      "/bin/fslval: line 91: /fsl/bin/fslhd: No such file or directory\n",
      "/bin/fslval: line 91: /fsl/bin/fslhd: No such file or directory\n",
      "/bin/fslval: line 91: /fsl/bin/fslhd: No such file or directory\n",
      "/bin/fslval: line 91: /fsl/bin/fslhd: No such file or directory\n",
      "/bin/bet: line 145: /bin/fslstats: No such file or directory\n"
     ]
    },
    {
     "name": "stdout",
     "output_type": "stream",
     "text": [
      "163\n",
      "Final FOV is: \n",
      "23.000000 169.000000 0.000000 256.000000 0.000000 170.000000 \n",
      "\n"
     ]
    },
    {
     "name": "stderr",
     "output_type": "stream",
     "text": [
      "/bin/fslval: line 91: /fsl/bin/fslhd: No such file or directory\n",
      "/bin/fslval: line 91: /fsl/bin/fslhd: No such file or directory\n",
      "/bin/fslval: line 91: /fsl/bin/fslhd: No such file or directory\n",
      "/bin/fslval: line 91: /fsl/bin/fslhd: No such file or directory\n",
      "/bin/fslval: line 91: /fsl/bin/fslhd: No such file or directory\n",
      "/bin/fslval: line 91: /fsl/bin/fslhd: No such file or directory\n",
      "/bin/bet: line 145: /bin/fslstats: No such file or directory\n"
     ]
    },
    {
     "name": "stdout",
     "output_type": "stream",
     "text": [
      "164\n",
      "Final FOV is: \n",
      "53.000000 170.000000 0.000000 256.000000 0.000000 160.000000 \n",
      "\n"
     ]
    },
    {
     "name": "stderr",
     "output_type": "stream",
     "text": [
      "/bin/fslval: line 91: /fsl/bin/fslhd: No such file or directory\n",
      "/bin/fslval: line 91: /fsl/bin/fslhd: No such file or directory\n",
      "/bin/fslval: line 91: /fsl/bin/fslhd: No such file or directory\n",
      "/bin/fslval: line 91: /fsl/bin/fslhd: No such file or directory\n",
      "/bin/fslval: line 91: /fsl/bin/fslhd: No such file or directory\n",
      "/bin/fslval: line 91: /fsl/bin/fslhd: No such file or directory\n",
      "/bin/bet: line 145: /bin/fslstats: No such file or directory\n"
     ]
    },
    {
     "name": "stdout",
     "output_type": "stream",
     "text": [
      "165\n",
      "Final FOV is: \n",
      "47.000000 169.000000 0.000000 256.000000 0.000000 160.000000 \n",
      "\n"
     ]
    },
    {
     "name": "stderr",
     "output_type": "stream",
     "text": [
      "/bin/fslval: line 91: /fsl/bin/fslhd: No such file or directory\n",
      "/bin/fslval: line 91: /fsl/bin/fslhd: No such file or directory\n",
      "/bin/fslval: line 91: /fsl/bin/fslhd: No such file or directory\n",
      "/bin/fslval: line 91: /fsl/bin/fslhd: No such file or directory\n",
      "/bin/fslval: line 91: /fsl/bin/fslhd: No such file or directory\n",
      "/bin/fslval: line 91: /fsl/bin/fslhd: No such file or directory\n",
      "/bin/bet: line 145: /bin/fslstats: No such file or directory\n"
     ]
    },
    {
     "name": "stdout",
     "output_type": "stream",
     "text": [
      "166\n",
      "Final FOV is: \n",
      "45.000000 170.000000 0.000000 256.000000 0.000000 160.000000 \n",
      "\n"
     ]
    },
    {
     "name": "stderr",
     "output_type": "stream",
     "text": [
      "/bin/fslval: line 91: /fsl/bin/fslhd: No such file or directory\n",
      "/bin/fslval: line 91: /fsl/bin/fslhd: No such file or directory\n",
      "/bin/fslval: line 91: /fsl/bin/fslhd: No such file or directory\n",
      "/bin/fslval: line 91: /fsl/bin/fslhd: No such file or directory\n",
      "/bin/fslval: line 91: /fsl/bin/fslhd: No such file or directory\n",
      "/bin/fslval: line 91: /fsl/bin/fslhd: No such file or directory\n",
      "/bin/bet: line 145: /bin/fslstats: No such file or directory\n"
     ]
    },
    {
     "name": "stdout",
     "output_type": "stream",
     "text": [
      "167\n",
      "Final FOV is: \n",
      "47.000000 169.000000 0.000000 256.000000 0.000000 160.000000 \n",
      "\n"
     ]
    },
    {
     "name": "stderr",
     "output_type": "stream",
     "text": [
      "/bin/fslval: line 91: /fsl/bin/fslhd: No such file or directory\n",
      "/bin/fslval: line 91: /fsl/bin/fslhd: No such file or directory\n",
      "/bin/fslval: line 91: /fsl/bin/fslhd: No such file or directory\n",
      "/bin/fslval: line 91: /fsl/bin/fslhd: No such file or directory\n",
      "/bin/fslval: line 91: /fsl/bin/fslhd: No such file or directory\n",
      "/bin/fslval: line 91: /fsl/bin/fslhd: No such file or directory\n",
      "/bin/bet: line 145: /bin/fslstats: No such file or directory\n"
     ]
    },
    {
     "name": "stdout",
     "output_type": "stream",
     "text": [
      "168\n",
      "Final FOV is: \n",
      "38.000000 167.000000 0.000000 256.000000 0.000000 166.000000 \n",
      "\n"
     ]
    },
    {
     "name": "stderr",
     "output_type": "stream",
     "text": [
      "/bin/fslval: line 91: /fsl/bin/fslhd: No such file or directory\n",
      "/bin/fslval: line 91: /fsl/bin/fslhd: No such file or directory\n",
      "/bin/fslval: line 91: /fsl/bin/fslhd: No such file or directory\n",
      "/bin/fslval: line 91: /fsl/bin/fslhd: No such file or directory\n",
      "/bin/fslval: line 91: /fsl/bin/fslhd: No such file or directory\n",
      "/bin/fslval: line 91: /fsl/bin/fslhd: No such file or directory\n",
      "/bin/bet: line 145: /bin/fslstats: No such file or directory\n"
     ]
    },
    {
     "name": "stdout",
     "output_type": "stream",
     "text": [
      "169\n",
      "Final FOV is: \n",
      "52.000000 167.000000 0.000000 256.000000 0.000000 166.000000 \n",
      "\n"
     ]
    },
    {
     "name": "stderr",
     "output_type": "stream",
     "text": [
      "/bin/fslval: line 91: /fsl/bin/fslhd: No such file or directory\n",
      "/bin/fslval: line 91: /fsl/bin/fslhd: No such file or directory\n",
      "/bin/fslval: line 91: /fsl/bin/fslhd: No such file or directory\n",
      "/bin/fslval: line 91: /fsl/bin/fslhd: No such file or directory\n",
      "/bin/fslval: line 91: /fsl/bin/fslhd: No such file or directory\n",
      "/bin/fslval: line 91: /fsl/bin/fslhd: No such file or directory\n",
      "/bin/bet: line 145: /bin/fslstats: No such file or directory\n"
     ]
    },
    {
     "name": "stdout",
     "output_type": "stream",
     "text": [
      "170\n",
      "Final FOV is: \n",
      "15.000000 167.000000 0.000000 256.000000 0.000000 166.000000 \n",
      "\n"
     ]
    },
    {
     "name": "stderr",
     "output_type": "stream",
     "text": [
      "/bin/fslval: line 91: /fsl/bin/fslhd: No such file or directory\n",
      "/bin/fslval: line 91: /fsl/bin/fslhd: No such file or directory\n",
      "/bin/fslval: line 91: /fsl/bin/fslhd: No such file or directory\n",
      "/bin/fslval: line 91: /fsl/bin/fslhd: No such file or directory\n",
      "/bin/fslval: line 91: /fsl/bin/fslhd: No such file or directory\n",
      "/bin/fslval: line 91: /fsl/bin/fslhd: No such file or directory\n",
      "/bin/bet: line 145: /bin/fslstats: No such file or directory\n"
     ]
    },
    {
     "name": "stdout",
     "output_type": "stream",
     "text": [
      "171\n",
      "Final FOV is: \n",
      "33.000000 167.000000 0.000000 256.000000 0.000000 166.000000 \n",
      "\n"
     ]
    },
    {
     "name": "stderr",
     "output_type": "stream",
     "text": [
      "/bin/fslval: line 91: /fsl/bin/fslhd: No such file or directory\n",
      "/bin/fslval: line 91: /fsl/bin/fslhd: No such file or directory\n",
      "/bin/fslval: line 91: /fsl/bin/fslhd: No such file or directory\n",
      "/bin/fslval: line 91: /fsl/bin/fslhd: No such file or directory\n",
      "/bin/fslval: line 91: /fsl/bin/fslhd: No such file or directory\n",
      "/bin/fslval: line 91: /fsl/bin/fslhd: No such file or directory\n",
      "/bin/bet: line 145: /bin/fslstats: No such file or directory\n"
     ]
    },
    {
     "name": "stdout",
     "output_type": "stream",
     "text": [
      "172\n",
      "Final FOV is: \n",
      "41.000000 170.000000 0.000000 256.000000 0.000000 160.000000 \n",
      "\n"
     ]
    },
    {
     "name": "stderr",
     "output_type": "stream",
     "text": [
      "/bin/fslval: line 91: /fsl/bin/fslhd: No such file or directory\n",
      "/bin/fslval: line 91: /fsl/bin/fslhd: No such file or directory\n",
      "/bin/fslval: line 91: /fsl/bin/fslhd: No such file or directory\n",
      "/bin/fslval: line 91: /fsl/bin/fslhd: No such file or directory\n",
      "/bin/fslval: line 91: /fsl/bin/fslhd: No such file or directory\n",
      "/bin/fslval: line 91: /fsl/bin/fslhd: No such file or directory\n",
      "/bin/bet: line 145: /bin/fslstats: No such file or directory\n"
     ]
    },
    {
     "name": "stdout",
     "output_type": "stream",
     "text": [
      "173\n",
      "Final FOV is: \n",
      "32.000000 171.000000 0.000000 256.000000 0.000000 160.000000 \n",
      "\n"
     ]
    },
    {
     "name": "stderr",
     "output_type": "stream",
     "text": [
      "/bin/fslval: line 91: /fsl/bin/fslhd: No such file or directory\n",
      "/bin/fslval: line 91: /fsl/bin/fslhd: No such file or directory\n",
      "/bin/fslval: line 91: /fsl/bin/fslhd: No such file or directory\n",
      "/bin/fslval: line 91: /fsl/bin/fslhd: No such file or directory\n",
      "/bin/fslval: line 91: /fsl/bin/fslhd: No such file or directory\n",
      "/bin/fslval: line 91: /fsl/bin/fslhd: No such file or directory\n",
      "/bin/bet: line 145: /bin/fslstats: No such file or directory\n"
     ]
    },
    {
     "name": "stdout",
     "output_type": "stream",
     "text": [
      "174\n",
      "Final FOV is: \n",
      "28.000000 170.000000 0.000000 256.000000 0.000000 160.000000 \n",
      "\n"
     ]
    },
    {
     "name": "stderr",
     "output_type": "stream",
     "text": [
      "/bin/fslval: line 91: /fsl/bin/fslhd: No such file or directory\n",
      "/bin/fslval: line 91: /fsl/bin/fslhd: No such file or directory\n",
      "/bin/fslval: line 91: /fsl/bin/fslhd: No such file or directory\n",
      "/bin/fslval: line 91: /fsl/bin/fslhd: No such file or directory\n",
      "/bin/fslval: line 91: /fsl/bin/fslhd: No such file or directory\n",
      "/bin/fslval: line 91: /fsl/bin/fslhd: No such file or directory\n",
      "/bin/bet: line 145: /bin/fslstats: No such file or directory\n"
     ]
    },
    {
     "name": "stdout",
     "output_type": "stream",
     "text": [
      "175\n",
      "Final FOV is: \n",
      "41.000000 170.000000 0.000000 256.000000 0.000000 160.000000 \n",
      "\n"
     ]
    },
    {
     "name": "stderr",
     "output_type": "stream",
     "text": [
      "/bin/fslval: line 91: /fsl/bin/fslhd: No such file or directory\n",
      "/bin/fslval: line 91: /fsl/bin/fslhd: No such file or directory\n",
      "/bin/fslval: line 91: /fsl/bin/fslhd: No such file or directory\n",
      "/bin/fslval: line 91: /fsl/bin/fslhd: No such file or directory\n",
      "/bin/fslval: line 91: /fsl/bin/fslhd: No such file or directory\n",
      "/bin/fslval: line 91: /fsl/bin/fslhd: No such file or directory\n",
      "/bin/bet: line 145: /bin/fslstats: No such file or directory\n"
     ]
    },
    {
     "name": "stdout",
     "output_type": "stream",
     "text": [
      "176\n",
      "Final FOV is: \n",
      "28.000000 170.000000 0.000000 256.000000 0.000000 160.000000 \n",
      "\n"
     ]
    },
    {
     "name": "stderr",
     "output_type": "stream",
     "text": [
      "/bin/fslval: line 91: /fsl/bin/fslhd: No such file or directory\n",
      "/bin/fslval: line 91: /fsl/bin/fslhd: No such file or directory\n",
      "/bin/fslval: line 91: /fsl/bin/fslhd: No such file or directory\n",
      "/bin/fslval: line 91: /fsl/bin/fslhd: No such file or directory\n",
      "/bin/fslval: line 91: /fsl/bin/fslhd: No such file or directory\n",
      "/bin/fslval: line 91: /fsl/bin/fslhd: No such file or directory\n",
      "/bin/bet: line 145: /bin/fslstats: No such file or directory\n"
     ]
    },
    {
     "name": "stdout",
     "output_type": "stream",
     "text": [
      "177\n",
      "Final FOV is: \n",
      "25.000000 169.000000 0.000000 256.000000 0.000000 170.000000 \n",
      "\n"
     ]
    },
    {
     "name": "stderr",
     "output_type": "stream",
     "text": [
      "/bin/fslval: line 91: /fsl/bin/fslhd: No such file or directory\n",
      "/bin/fslval: line 91: /fsl/bin/fslhd: No such file or directory\n",
      "/bin/fslval: line 91: /fsl/bin/fslhd: No such file or directory\n",
      "/bin/fslval: line 91: /fsl/bin/fslhd: No such file or directory\n",
      "/bin/fslval: line 91: /fsl/bin/fslhd: No such file or directory\n",
      "/bin/fslval: line 91: /fsl/bin/fslhd: No such file or directory\n",
      "/bin/bet: line 145: /bin/fslstats: No such file or directory\n"
     ]
    },
    {
     "name": "stdout",
     "output_type": "stream",
     "text": [
      "178\n",
      "Final FOV is: \n",
      "19.000000 169.000000 0.000000 256.000000 0.000000 170.000000 \n",
      "\n"
     ]
    },
    {
     "name": "stderr",
     "output_type": "stream",
     "text": [
      "/bin/fslval: line 91: /fsl/bin/fslhd: No such file or directory\n",
      "/bin/fslval: line 91: /fsl/bin/fslhd: No such file or directory\n",
      "/bin/fslval: line 91: /fsl/bin/fslhd: No such file or directory\n",
      "/bin/fslval: line 91: /fsl/bin/fslhd: No such file or directory\n",
      "/bin/fslval: line 91: /fsl/bin/fslhd: No such file or directory\n",
      "/bin/fslval: line 91: /fsl/bin/fslhd: No such file or directory\n",
      "/bin/bet: line 145: /bin/fslstats: No such file or directory\n"
     ]
    },
    {
     "name": "stdout",
     "output_type": "stream",
     "text": [
      "179\n",
      "Final FOV is: \n",
      "51.000000 169.000000 0.000000 256.000000 0.000000 170.000000 \n",
      "\n"
     ]
    },
    {
     "name": "stderr",
     "output_type": "stream",
     "text": [
      "/bin/fslval: line 91: /fsl/bin/fslhd: No such file or directory\n",
      "/bin/fslval: line 91: /fsl/bin/fslhd: No such file or directory\n",
      "/bin/fslval: line 91: /fsl/bin/fslhd: No such file or directory\n",
      "/bin/fslval: line 91: /fsl/bin/fslhd: No such file or directory\n",
      "/bin/fslval: line 91: /fsl/bin/fslhd: No such file or directory\n",
      "/bin/fslval: line 91: /fsl/bin/fslhd: No such file or directory\n",
      "/bin/bet: line 145: /bin/fslstats: No such file or directory\n"
     ]
    },
    {
     "name": "stdout",
     "output_type": "stream",
     "text": [
      "180\n",
      "Final FOV is: \n",
      "1.000000 169.000000 0.000000 256.000000 0.000000 170.000000 \n",
      "\n"
     ]
    },
    {
     "name": "stderr",
     "output_type": "stream",
     "text": [
      "/bin/fslval: line 91: /fsl/bin/fslhd: No such file or directory\n",
      "/bin/fslval: line 91: /fsl/bin/fslhd: No such file or directory\n",
      "/bin/fslval: line 91: /fsl/bin/fslhd: No such file or directory\n",
      "/bin/fslval: line 91: /fsl/bin/fslhd: No such file or directory\n",
      "/bin/fslval: line 91: /fsl/bin/fslhd: No such file or directory\n",
      "/bin/fslval: line 91: /fsl/bin/fslhd: No such file or directory\n",
      "/bin/bet: line 145: /bin/fslstats: No such file or directory\n"
     ]
    },
    {
     "name": "stdout",
     "output_type": "stream",
     "text": [
      "181\n",
      "Final FOV is: \n",
      "25.000000 169.000000 0.000000 256.000000 0.000000 170.000000 \n",
      "\n"
     ]
    },
    {
     "name": "stderr",
     "output_type": "stream",
     "text": [
      "/bin/fslval: line 91: /fsl/bin/fslhd: No such file or directory\n",
      "/bin/fslval: line 91: /fsl/bin/fslhd: No such file or directory\n",
      "/bin/fslval: line 91: /fsl/bin/fslhd: No such file or directory\n",
      "/bin/fslval: line 91: /fsl/bin/fslhd: No such file or directory\n",
      "/bin/fslval: line 91: /fsl/bin/fslhd: No such file or directory\n",
      "/bin/fslval: line 91: /fsl/bin/fslhd: No such file or directory\n",
      "/bin/bet: line 145: /bin/fslstats: No such file or directory\n"
     ]
    },
    {
     "name": "stdout",
     "output_type": "stream",
     "text": [
      "182\n",
      "Final FOV is: \n",
      "19.000000 169.000000 0.000000 256.000000 0.000000 170.000000 \n",
      "\n"
     ]
    },
    {
     "name": "stderr",
     "output_type": "stream",
     "text": [
      "/bin/fslval: line 91: /fsl/bin/fslhd: No such file or directory\n",
      "/bin/fslval: line 91: /fsl/bin/fslhd: No such file or directory\n",
      "/bin/fslval: line 91: /fsl/bin/fslhd: No such file or directory\n",
      "/bin/fslval: line 91: /fsl/bin/fslhd: No such file or directory\n",
      "/bin/fslval: line 91: /fsl/bin/fslhd: No such file or directory\n",
      "/bin/fslval: line 91: /fsl/bin/fslhd: No such file or directory\n",
      "/bin/bet: line 145: /bin/fslstats: No such file or directory\n"
     ]
    },
    {
     "name": "stdout",
     "output_type": "stream",
     "text": [
      "183\n",
      "Final FOV is: \n",
      "38.000000 170.000000 0.000000 256.000000 0.000000 160.000000 \n",
      "\n"
     ]
    },
    {
     "name": "stderr",
     "output_type": "stream",
     "text": [
      "/bin/fslval: line 91: /fsl/bin/fslhd: No such file or directory\n",
      "/bin/fslval: line 91: /fsl/bin/fslhd: No such file or directory\n",
      "/bin/fslval: line 91: /fsl/bin/fslhd: No such file or directory\n",
      "/bin/fslval: line 91: /fsl/bin/fslhd: No such file or directory\n",
      "/bin/fslval: line 91: /fsl/bin/fslhd: No such file or directory\n",
      "/bin/fslval: line 91: /fsl/bin/fslhd: No such file or directory\n",
      "/bin/bet: line 145: /bin/fslstats: No such file or directory\n"
     ]
    },
    {
     "name": "stdout",
     "output_type": "stream",
     "text": [
      "184\n",
      "Final FOV is: \n",
      "27.000000 170.000000 0.000000 256.000000 0.000000 160.000000 \n",
      "\n"
     ]
    },
    {
     "name": "stderr",
     "output_type": "stream",
     "text": [
      "/bin/fslval: line 91: /fsl/bin/fslhd: No such file or directory\n",
      "/bin/fslval: line 91: /fsl/bin/fslhd: No such file or directory\n",
      "/bin/fslval: line 91: /fsl/bin/fslhd: No such file or directory\n",
      "/bin/fslval: line 91: /fsl/bin/fslhd: No such file or directory\n",
      "/bin/fslval: line 91: /fsl/bin/fslhd: No such file or directory\n",
      "/bin/fslval: line 91: /fsl/bin/fslhd: No such file or directory\n",
      "/bin/bet: line 145: /bin/fslstats: No such file or directory\n"
     ]
    },
    {
     "name": "stdout",
     "output_type": "stream",
     "text": [
      "185\n",
      "Final FOV is: \n",
      "46.000000 170.000000 0.000000 256.000000 0.000000 160.000000 \n",
      "\n"
     ]
    },
    {
     "name": "stderr",
     "output_type": "stream",
     "text": [
      "/bin/fslval: line 91: /fsl/bin/fslhd: No such file or directory\n",
      "/bin/fslval: line 91: /fsl/bin/fslhd: No such file or directory\n",
      "/bin/fslval: line 91: /fsl/bin/fslhd: No such file or directory\n",
      "/bin/fslval: line 91: /fsl/bin/fslhd: No such file or directory\n",
      "/bin/fslval: line 91: /fsl/bin/fslhd: No such file or directory\n",
      "/bin/fslval: line 91: /fsl/bin/fslhd: No such file or directory\n",
      "/bin/bet: line 145: /bin/fslstats: No such file or directory\n"
     ]
    },
    {
     "name": "stdout",
     "output_type": "stream",
     "text": [
      "186\n",
      "Final FOV is: \n",
      "46.000000 170.000000 0.000000 256.000000 0.000000 160.000000 \n",
      "\n"
     ]
    },
    {
     "name": "stderr",
     "output_type": "stream",
     "text": [
      "/bin/fslval: line 91: /fsl/bin/fslhd: No such file or directory\n",
      "/bin/fslval: line 91: /fsl/bin/fslhd: No such file or directory\n",
      "/bin/fslval: line 91: /fsl/bin/fslhd: No such file or directory\n",
      "/bin/fslval: line 91: /fsl/bin/fslhd: No such file or directory\n",
      "/bin/fslval: line 91: /fsl/bin/fslhd: No such file or directory\n",
      "/bin/fslval: line 91: /fsl/bin/fslhd: No such file or directory\n",
      "/bin/bet: line 145: /bin/fslstats: No such file or directory\n"
     ]
    },
    {
     "name": "stdout",
     "output_type": "stream",
     "text": [
      "187\n",
      "Final FOV is: \n",
      "38.000000 170.000000 0.000000 256.000000 0.000000 160.000000 \n",
      "\n"
     ]
    },
    {
     "name": "stderr",
     "output_type": "stream",
     "text": [
      "/bin/fslval: line 91: /fsl/bin/fslhd: No such file or directory\n",
      "/bin/fslval: line 91: /fsl/bin/fslhd: No such file or directory\n",
      "/bin/fslval: line 91: /fsl/bin/fslhd: No such file or directory\n",
      "/bin/fslval: line 91: /fsl/bin/fslhd: No such file or directory\n",
      "/bin/fslval: line 91: /fsl/bin/fslhd: No such file or directory\n",
      "/bin/fslval: line 91: /fsl/bin/fslhd: No such file or directory\n",
      "/bin/bet: line 145: /bin/fslstats: No such file or directory\n"
     ]
    },
    {
     "name": "stdout",
     "output_type": "stream",
     "text": [
      "188\n",
      "Final FOV is: \n",
      "46.000000 170.000000 0.000000 256.000000 0.000000 160.000000 \n",
      "\n"
     ]
    },
    {
     "name": "stderr",
     "output_type": "stream",
     "text": [
      "/bin/fslval: line 91: /fsl/bin/fslhd: No such file or directory\n",
      "/bin/fslval: line 91: /fsl/bin/fslhd: No such file or directory\n",
      "/bin/fslval: line 91: /fsl/bin/fslhd: No such file or directory\n",
      "/bin/fslval: line 91: /fsl/bin/fslhd: No such file or directory\n",
      "/bin/fslval: line 91: /fsl/bin/fslhd: No such file or directory\n",
      "/bin/fslval: line 91: /fsl/bin/fslhd: No such file or directory\n",
      "/bin/bet: line 145: /bin/fslstats: No such file or directory\n"
     ]
    },
    {
     "name": "stdout",
     "output_type": "stream",
     "text": [
      "189\n",
      "Final FOV is: \n",
      "27.000000 169.000000 0.000000 256.000000 0.000000 170.000000 \n",
      "\n"
     ]
    },
    {
     "name": "stderr",
     "output_type": "stream",
     "text": [
      "/bin/fslval: line 91: /fsl/bin/fslhd: No such file or directory\n",
      "/bin/fslval: line 91: /fsl/bin/fslhd: No such file or directory\n",
      "/bin/fslval: line 91: /fsl/bin/fslhd: No such file or directory\n",
      "/bin/fslval: line 91: /fsl/bin/fslhd: No such file or directory\n",
      "/bin/fslval: line 91: /fsl/bin/fslhd: No such file or directory\n",
      "/bin/fslval: line 91: /fsl/bin/fslhd: No such file or directory\n",
      "/bin/bet: line 145: /bin/fslstats: No such file or directory\n"
     ]
    },
    {
     "name": "stdout",
     "output_type": "stream",
     "text": [
      "190\n",
      "Final FOV is: \n",
      "27.000000 169.000000 0.000000 256.000000 0.000000 170.000000 \n",
      "\n"
     ]
    },
    {
     "name": "stderr",
     "output_type": "stream",
     "text": [
      "/bin/fslval: line 91: /fsl/bin/fslhd: No such file or directory\n",
      "/bin/fslval: line 91: /fsl/bin/fslhd: No such file or directory\n",
      "/bin/fslval: line 91: /fsl/bin/fslhd: No such file or directory\n",
      "/bin/fslval: line 91: /fsl/bin/fslhd: No such file or directory\n",
      "/bin/fslval: line 91: /fsl/bin/fslhd: No such file or directory\n",
      "/bin/fslval: line 91: /fsl/bin/fslhd: No such file or directory\n",
      "/bin/bet: line 145: /bin/fslstats: No such file or directory\n"
     ]
    },
    {
     "name": "stdout",
     "output_type": "stream",
     "text": [
      "191\n",
      "Final FOV is: \n",
      "11.000000 169.000000 0.000000 256.000000 0.000000 170.000000 \n",
      "\n"
     ]
    },
    {
     "name": "stderr",
     "output_type": "stream",
     "text": [
      "/bin/fslval: line 91: /fsl/bin/fslhd: No such file or directory\n",
      "/bin/fslval: line 91: /fsl/bin/fslhd: No such file or directory\n",
      "/bin/fslval: line 91: /fsl/bin/fslhd: No such file or directory\n",
      "/bin/fslval: line 91: /fsl/bin/fslhd: No such file or directory\n",
      "/bin/fslval: line 91: /fsl/bin/fslhd: No such file or directory\n",
      "/bin/fslval: line 91: /fsl/bin/fslhd: No such file or directory\n",
      "/bin/bet: line 145: /bin/fslstats: No such file or directory\n"
     ]
    },
    {
     "name": "stdout",
     "output_type": "stream",
     "text": [
      "192\n",
      "Final FOV is: \n",
      "0.000000 256.000000 0.000000 169.000000 0.000000 170.000000 \n",
      "\n"
     ]
    },
    {
     "name": "stderr",
     "output_type": "stream",
     "text": [
      "/bin/fslval: line 91: /fsl/bin/fslhd: No such file or directory\n",
      "/bin/fslval: line 91: /fsl/bin/fslhd: No such file or directory\n",
      "/bin/fslval: line 91: /fsl/bin/fslhd: No such file or directory\n",
      "/bin/fslval: line 91: /fsl/bin/fslhd: No such file or directory\n",
      "/bin/fslval: line 91: /fsl/bin/fslhd: No such file or directory\n",
      "/bin/fslval: line 91: /fsl/bin/fslhd: No such file or directory\n",
      "/bin/bet: line 145: /bin/fslstats: No such file or directory\n"
     ]
    },
    {
     "name": "stdout",
     "output_type": "stream",
     "text": [
      "193\n",
      "Final FOV is: \n",
      "30.000000 169.000000 0.000000 256.000000 0.000000 170.000000 \n",
      "\n"
     ]
    },
    {
     "name": "stderr",
     "output_type": "stream",
     "text": [
      "/bin/fslval: line 91: /fsl/bin/fslhd: No such file or directory\n",
      "/bin/fslval: line 91: /fsl/bin/fslhd: No such file or directory\n",
      "/bin/fslval: line 91: /fsl/bin/fslhd: No such file or directory\n",
      "/bin/fslval: line 91: /fsl/bin/fslhd: No such file or directory\n",
      "/bin/fslval: line 91: /fsl/bin/fslhd: No such file or directory\n",
      "/bin/fslval: line 91: /fsl/bin/fslhd: No such file or directory\n",
      "/bin/bet: line 145: /bin/fslstats: No such file or directory\n"
     ]
    },
    {
     "name": "stdout",
     "output_type": "stream",
     "text": [
      "194\n",
      "Final FOV is: \n",
      "50.000000 165.000000 0.000000 256.000000 0.000000 166.000000 \n",
      "\n"
     ]
    },
    {
     "name": "stderr",
     "output_type": "stream",
     "text": [
      "/bin/fslval: line 91: /fsl/bin/fslhd: No such file or directory\n",
      "/bin/fslval: line 91: /fsl/bin/fslhd: No such file or directory\n",
      "/bin/fslval: line 91: /fsl/bin/fslhd: No such file or directory\n",
      "/bin/fslval: line 91: /fsl/bin/fslhd: No such file or directory\n",
      "/bin/fslval: line 91: /fsl/bin/fslhd: No such file or directory\n",
      "/bin/fslval: line 91: /fsl/bin/fslhd: No such file or directory\n",
      "/bin/bet: line 145: /bin/fslstats: No such file or directory\n"
     ]
    },
    {
     "name": "stdout",
     "output_type": "stream",
     "text": [
      "195\n",
      "Final FOV is: \n",
      "50.000000 165.000000 0.000000 256.000000 0.000000 166.000000 \n",
      "\n"
     ]
    },
    {
     "name": "stderr",
     "output_type": "stream",
     "text": [
      "/bin/fslval: line 91: /fsl/bin/fslhd: No such file or directory\n",
      "/bin/fslval: line 91: /fsl/bin/fslhd: No such file or directory\n",
      "/bin/fslval: line 91: /fsl/bin/fslhd: No such file or directory\n",
      "/bin/fslval: line 91: /fsl/bin/fslhd: No such file or directory\n",
      "/bin/fslval: line 91: /fsl/bin/fslhd: No such file or directory\n",
      "/bin/fslval: line 91: /fsl/bin/fslhd: No such file or directory\n",
      "/bin/bet: line 145: /bin/fslstats: No such file or directory\n"
     ]
    },
    {
     "name": "stdout",
     "output_type": "stream",
     "text": [
      "196\n",
      "Final FOV is: \n",
      "59.000000 165.000000 0.000000 256.000000 0.000000 166.000000 \n",
      "\n"
     ]
    },
    {
     "name": "stderr",
     "output_type": "stream",
     "text": [
      "/bin/fslval: line 91: /fsl/bin/fslhd: No such file or directory\n",
      "/bin/fslval: line 91: /fsl/bin/fslhd: No such file or directory\n",
      "/bin/fslval: line 91: /fsl/bin/fslhd: No such file or directory\n",
      "/bin/fslval: line 91: /fsl/bin/fslhd: No such file or directory\n",
      "/bin/fslval: line 91: /fsl/bin/fslhd: No such file or directory\n",
      "/bin/fslval: line 91: /fsl/bin/fslhd: No such file or directory\n",
      "/bin/bet: line 145: /bin/fslstats: No such file or directory\n"
     ]
    },
    {
     "name": "stdout",
     "output_type": "stream",
     "text": [
      "197\n",
      "Final FOV is: \n",
      "27.000000 165.000000 0.000000 256.000000 0.000000 166.000000 \n",
      "\n"
     ]
    },
    {
     "name": "stderr",
     "output_type": "stream",
     "text": [
      "/bin/fslval: line 91: /fsl/bin/fslhd: No such file or directory\n",
      "/bin/fslval: line 91: /fsl/bin/fslhd: No such file or directory\n",
      "/bin/fslval: line 91: /fsl/bin/fslhd: No such file or directory\n",
      "/bin/fslval: line 91: /fsl/bin/fslhd: No such file or directory\n",
      "/bin/fslval: line 91: /fsl/bin/fslhd: No such file or directory\n",
      "/bin/fslval: line 91: /fsl/bin/fslhd: No such file or directory\n",
      "/bin/bet: line 145: /bin/fslstats: No such file or directory\n"
     ]
    },
    {
     "name": "stdout",
     "output_type": "stream",
     "text": [
      "198\n",
      "Final FOV is: \n",
      "42.000000 165.000000 0.000000 256.000000 0.000000 166.000000 \n",
      "\n"
     ]
    },
    {
     "name": "stderr",
     "output_type": "stream",
     "text": [
      "/bin/fslval: line 91: /fsl/bin/fslhd: No such file or directory\n",
      "/bin/fslval: line 91: /fsl/bin/fslhd: No such file or directory\n",
      "/bin/fslval: line 91: /fsl/bin/fslhd: No such file or directory\n",
      "/bin/fslval: line 91: /fsl/bin/fslhd: No such file or directory\n",
      "/bin/fslval: line 91: /fsl/bin/fslhd: No such file or directory\n",
      "/bin/fslval: line 91: /fsl/bin/fslhd: No such file or directory\n",
      "/bin/bet: line 145: /bin/fslstats: No such file or directory\n"
     ]
    },
    {
     "name": "stdout",
     "output_type": "stream",
     "text": [
      "199\n",
      "Final FOV is: \n",
      "1.000000 165.000000 0.000000 256.000000 0.000000 166.000000 \n",
      "\n"
     ]
    },
    {
     "name": "stderr",
     "output_type": "stream",
     "text": [
      "/bin/fslval: line 91: /fsl/bin/fslhd: No such file or directory\n",
      "/bin/fslval: line 91: /fsl/bin/fslhd: No such file or directory\n",
      "/bin/fslval: line 91: /fsl/bin/fslhd: No such file or directory\n",
      "/bin/fslval: line 91: /fsl/bin/fslhd: No such file or directory\n",
      "/bin/fslval: line 91: /fsl/bin/fslhd: No such file or directory\n",
      "/bin/fslval: line 91: /fsl/bin/fslhd: No such file or directory\n",
      "/bin/bet: line 145: /bin/fslstats: No such file or directory\n"
     ]
    },
    {
     "name": "stdout",
     "output_type": "stream",
     "text": [
      "200\n",
      "Final FOV is: \n",
      "38.000000 165.000000 0.000000 256.000000 0.000000 166.000000 \n",
      "\n"
     ]
    },
    {
     "name": "stderr",
     "output_type": "stream",
     "text": [
      "/bin/fslval: line 91: /fsl/bin/fslhd: No such file or directory\n",
      "/bin/fslval: line 91: /fsl/bin/fslhd: No such file or directory\n",
      "/bin/fslval: line 91: /fsl/bin/fslhd: No such file or directory\n",
      "/bin/fslval: line 91: /fsl/bin/fslhd: No such file or directory\n",
      "/bin/fslval: line 91: /fsl/bin/fslhd: No such file or directory\n",
      "/bin/fslval: line 91: /fsl/bin/fslhd: No such file or directory\n",
      "/bin/bet: line 145: /bin/fslstats: No such file or directory\n"
     ]
    },
    {
     "name": "stdout",
     "output_type": "stream",
     "text": [
      "201\n",
      "Final FOV is: \n",
      "20.000000 165.000000 0.000000 256.000000 0.000000 166.000000 \n",
      "\n"
     ]
    },
    {
     "name": "stderr",
     "output_type": "stream",
     "text": [
      "/bin/fslval: line 91: /fsl/bin/fslhd: No such file or directory\n",
      "/bin/fslval: line 91: /fsl/bin/fslhd: No such file or directory\n",
      "/bin/fslval: line 91: /fsl/bin/fslhd: No such file or directory\n",
      "/bin/fslval: line 91: /fsl/bin/fslhd: No such file or directory\n",
      "/bin/fslval: line 91: /fsl/bin/fslhd: No such file or directory\n",
      "/bin/fslval: line 91: /fsl/bin/fslhd: No such file or directory\n",
      "/bin/bet: line 145: /bin/fslstats: No such file or directory\n"
     ]
    },
    {
     "name": "stdout",
     "output_type": "stream",
     "text": [
      "202\n",
      "Final FOV is: \n",
      "21.000000 165.000000 0.000000 256.000000 0.000000 166.000000 \n",
      "\n"
     ]
    },
    {
     "name": "stderr",
     "output_type": "stream",
     "text": [
      "/bin/fslval: line 91: /fsl/bin/fslhd: No such file or directory\n",
      "/bin/fslval: line 91: /fsl/bin/fslhd: No such file or directory\n",
      "/bin/fslval: line 91: /fsl/bin/fslhd: No such file or directory\n",
      "/bin/fslval: line 91: /fsl/bin/fslhd: No such file or directory\n",
      "/bin/fslval: line 91: /fsl/bin/fslhd: No such file or directory\n",
      "/bin/fslval: line 91: /fsl/bin/fslhd: No such file or directory\n",
      "/bin/bet: line 145: /bin/fslstats: No such file or directory\n"
     ]
    },
    {
     "name": "stdout",
     "output_type": "stream",
     "text": [
      "203\n",
      "Final FOV is: \n",
      "19.000000 165.000000 0.000000 256.000000 0.000000 166.000000 \n",
      "\n"
     ]
    },
    {
     "name": "stderr",
     "output_type": "stream",
     "text": [
      "/bin/fslval: line 91: /fsl/bin/fslhd: No such file or directory\n",
      "/bin/fslval: line 91: /fsl/bin/fslhd: No such file or directory\n",
      "/bin/fslval: line 91: /fsl/bin/fslhd: No such file or directory\n",
      "/bin/fslval: line 91: /fsl/bin/fslhd: No such file or directory\n",
      "/bin/fslval: line 91: /fsl/bin/fslhd: No such file or directory\n",
      "/bin/fslval: line 91: /fsl/bin/fslhd: No such file or directory\n",
      "/bin/bet: line 145: /bin/fslstats: No such file or directory\n"
     ]
    },
    {
     "name": "stdout",
     "output_type": "stream",
     "text": [
      "204\n",
      "Final FOV is: \n",
      "26.000000 169.000000 0.000000 256.000000 0.000000 170.000000 \n",
      "\n"
     ]
    },
    {
     "name": "stderr",
     "output_type": "stream",
     "text": [
      "/bin/fslval: line 91: /fsl/bin/fslhd: No such file or directory\n",
      "/bin/fslval: line 91: /fsl/bin/fslhd: No such file or directory\n",
      "/bin/fslval: line 91: /fsl/bin/fslhd: No such file or directory\n",
      "/bin/fslval: line 91: /fsl/bin/fslhd: No such file or directory\n",
      "/bin/fslval: line 91: /fsl/bin/fslhd: No such file or directory\n",
      "/bin/fslval: line 91: /fsl/bin/fslhd: No such file or directory\n",
      "/bin/bet: line 145: /bin/fslstats: No such file or directory\n"
     ]
    },
    {
     "name": "stdout",
     "output_type": "stream",
     "text": [
      "205\n",
      "Final FOV is: \n",
      "26.000000 169.000000 0.000000 256.000000 0.000000 170.000000 \n",
      "\n"
     ]
    },
    {
     "name": "stderr",
     "output_type": "stream",
     "text": [
      "/bin/fslval: line 91: /fsl/bin/fslhd: No such file or directory\n",
      "/bin/fslval: line 91: /fsl/bin/fslhd: No such file or directory\n",
      "/bin/fslval: line 91: /fsl/bin/fslhd: No such file or directory\n",
      "/bin/fslval: line 91: /fsl/bin/fslhd: No such file or directory\n",
      "/bin/fslval: line 91: /fsl/bin/fslhd: No such file or directory\n",
      "/bin/fslval: line 91: /fsl/bin/fslhd: No such file or directory\n",
      "/bin/bet: line 145: /bin/fslstats: No such file or directory\n"
     ]
    },
    {
     "name": "stdout",
     "output_type": "stream",
     "text": [
      "206\n",
      "Final FOV is: \n",
      "0.000000 256.000000 19.000000 169.000000 0.000000 170.000000 \n",
      "\n"
     ]
    },
    {
     "name": "stderr",
     "output_type": "stream",
     "text": [
      "/bin/fslval: line 91: /fsl/bin/fslhd: No such file or directory\n",
      "/bin/fslval: line 91: /fsl/bin/fslhd: No such file or directory\n",
      "/bin/fslval: line 91: /fsl/bin/fslhd: No such file or directory\n",
      "/bin/fslval: line 91: /fsl/bin/fslhd: No such file or directory\n",
      "/bin/fslval: line 91: /fsl/bin/fslhd: No such file or directory\n",
      "/bin/fslval: line 91: /fsl/bin/fslhd: No such file or directory\n",
      "/bin/bet: line 145: /bin/fslstats: No such file or directory\n"
     ]
    },
    {
     "name": "stdout",
     "output_type": "stream",
     "text": [
      "207\n",
      "Final FOV is: \n",
      "46.000000 169.000000 0.000000 256.000000 0.000000 170.000000 \n",
      "\n"
     ]
    },
    {
     "name": "stderr",
     "output_type": "stream",
     "text": [
      "/bin/fslval: line 91: /fsl/bin/fslhd: No such file or directory\n",
      "/bin/fslval: line 91: /fsl/bin/fslhd: No such file or directory\n",
      "/bin/fslval: line 91: /fsl/bin/fslhd: No such file or directory\n",
      "/bin/fslval: line 91: /fsl/bin/fslhd: No such file or directory\n",
      "/bin/fslval: line 91: /fsl/bin/fslhd: No such file or directory\n",
      "/bin/fslval: line 91: /fsl/bin/fslhd: No such file or directory\n",
      "/bin/bet: line 145: /bin/fslstats: No such file or directory\n"
     ]
    },
    {
     "name": "stdout",
     "output_type": "stream",
     "text": [
      "208\n",
      "Final FOV is: \n",
      "21.000000 169.000000 0.000000 256.000000 0.000000 170.000000 \n",
      "\n"
     ]
    },
    {
     "name": "stderr",
     "output_type": "stream",
     "text": [
      "/bin/fslval: line 91: /fsl/bin/fslhd: No such file or directory\n",
      "/bin/fslval: line 91: /fsl/bin/fslhd: No such file or directory\n",
      "/bin/fslval: line 91: /fsl/bin/fslhd: No such file or directory\n",
      "/bin/fslval: line 91: /fsl/bin/fslhd: No such file or directory\n",
      "/bin/fslval: line 91: /fsl/bin/fslhd: No such file or directory\n",
      "/bin/fslval: line 91: /fsl/bin/fslhd: No such file or directory\n",
      "/bin/bet: line 145: /bin/fslstats: No such file or directory\n"
     ]
    },
    {
     "name": "stdout",
     "output_type": "stream",
     "text": [
      "209\n",
      "Final FOV is: \n",
      "1.000000 167.000000 0.000000 256.000000 0.000000 170.000000 \n",
      "\n"
     ]
    },
    {
     "name": "stderr",
     "output_type": "stream",
     "text": [
      "/bin/fslval: line 91: /fsl/bin/fslhd: No such file or directory\n",
      "/bin/fslval: line 91: /fsl/bin/fslhd: No such file or directory\n",
      "/bin/fslval: line 91: /fsl/bin/fslhd: No such file or directory\n",
      "/bin/fslval: line 91: /fsl/bin/fslhd: No such file or directory\n",
      "/bin/fslval: line 91: /fsl/bin/fslhd: No such file or directory\n",
      "/bin/fslval: line 91: /fsl/bin/fslhd: No such file or directory\n",
      "/bin/bet: line 145: /bin/fslstats: No such file or directory\n"
     ]
    },
    {
     "name": "stdout",
     "output_type": "stream",
     "text": [
      "210\n",
      "Final FOV is: \n",
      "1.000000 167.000000 0.000000 256.000000 0.000000 170.000000 \n",
      "\n"
     ]
    },
    {
     "name": "stderr",
     "output_type": "stream",
     "text": [
      "/bin/fslval: line 91: /fsl/bin/fslhd: No such file or directory\n",
      "/bin/fslval: line 91: /fsl/bin/fslhd: No such file or directory\n",
      "/bin/fslval: line 91: /fsl/bin/fslhd: No such file or directory\n",
      "/bin/fslval: line 91: /fsl/bin/fslhd: No such file or directory\n",
      "/bin/fslval: line 91: /fsl/bin/fslhd: No such file or directory\n",
      "/bin/fslval: line 91: /fsl/bin/fslhd: No such file or directory\n",
      "/bin/bet: line 145: /bin/fslstats: No such file or directory\n"
     ]
    },
    {
     "name": "stdout",
     "output_type": "stream",
     "text": [
      "211\n",
      "Final FOV is: \n",
      "1.000000 168.000000 0.000000 256.000000 0.000000 170.000000 \n",
      "\n"
     ]
    },
    {
     "name": "stderr",
     "output_type": "stream",
     "text": [
      "/bin/fslval: line 91: /fsl/bin/fslhd: No such file or directory\n",
      "/bin/fslval: line 91: /fsl/bin/fslhd: No such file or directory\n",
      "/bin/fslval: line 91: /fsl/bin/fslhd: No such file or directory\n",
      "/bin/fslval: line 91: /fsl/bin/fslhd: No such file or directory\n",
      "/bin/fslval: line 91: /fsl/bin/fslhd: No such file or directory\n",
      "/bin/fslval: line 91: /fsl/bin/fslhd: No such file or directory\n",
      "/bin/bet: line 145: /bin/fslstats: No such file or directory\n"
     ]
    },
    {
     "name": "stdout",
     "output_type": "stream",
     "text": [
      "212\n",
      "Final FOV is: \n",
      "1.000000 170.000000 0.000000 256.000000 0.000000 170.000000 \n",
      "\n"
     ]
    },
    {
     "name": "stderr",
     "output_type": "stream",
     "text": [
      "/bin/fslval: line 91: /fsl/bin/fslhd: No such file or directory\n",
      "/bin/fslval: line 91: /fsl/bin/fslhd: No such file or directory\n",
      "/bin/fslval: line 91: /fsl/bin/fslhd: No such file or directory\n",
      "/bin/fslval: line 91: /fsl/bin/fslhd: No such file or directory\n",
      "/bin/fslval: line 91: /fsl/bin/fslhd: No such file or directory\n",
      "/bin/fslval: line 91: /fsl/bin/fslhd: No such file or directory\n",
      "/bin/bet: line 145: /bin/fslstats: No such file or directory\n"
     ]
    },
    {
     "name": "stdout",
     "output_type": "stream",
     "text": [
      "213\n",
      "Final FOV is: \n",
      "1.000000 169.000000 0.000000 256.000000 0.000000 170.000000 \n",
      "\n"
     ]
    },
    {
     "name": "stderr",
     "output_type": "stream",
     "text": [
      "/bin/fslval: line 91: /fsl/bin/fslhd: No such file or directory\n",
      "/bin/fslval: line 91: /fsl/bin/fslhd: No such file or directory\n",
      "/bin/fslval: line 91: /fsl/bin/fslhd: No such file or directory\n",
      "/bin/fslval: line 91: /fsl/bin/fslhd: No such file or directory\n",
      "/bin/fslval: line 91: /fsl/bin/fslhd: No such file or directory\n",
      "/bin/fslval: line 91: /fsl/bin/fslhd: No such file or directory\n",
      "/bin/bet: line 145: /bin/fslstats: No such file or directory\n"
     ]
    },
    {
     "name": "stdout",
     "output_type": "stream",
     "text": [
      "214\n",
      "Final FOV is: \n",
      "48.000000 169.000000 0.000000 256.000000 0.000000 170.000000 \n",
      "\n"
     ]
    },
    {
     "name": "stderr",
     "output_type": "stream",
     "text": [
      "/bin/fslval: line 91: /fsl/bin/fslhd: No such file or directory\n",
      "/bin/fslval: line 91: /fsl/bin/fslhd: No such file or directory\n",
      "/bin/fslval: line 91: /fsl/bin/fslhd: No such file or directory\n",
      "/bin/fslval: line 91: /fsl/bin/fslhd: No such file or directory\n",
      "/bin/fslval: line 91: /fsl/bin/fslhd: No such file or directory\n",
      "/bin/fslval: line 91: /fsl/bin/fslhd: No such file or directory\n",
      "/bin/bet: line 145: /bin/fslstats: No such file or directory\n"
     ]
    },
    {
     "name": "stdout",
     "output_type": "stream",
     "text": [
      "215\n",
      "Final FOV is: \n",
      "1.000000 169.000000 0.000000 256.000000 0.000000 170.000000 \n",
      "\n"
     ]
    },
    {
     "name": "stderr",
     "output_type": "stream",
     "text": [
      "/bin/fslval: line 91: /fsl/bin/fslhd: No such file or directory\n",
      "/bin/fslval: line 91: /fsl/bin/fslhd: No such file or directory\n",
      "/bin/fslval: line 91: /fsl/bin/fslhd: No such file or directory\n",
      "/bin/fslval: line 91: /fsl/bin/fslhd: No such file or directory\n",
      "/bin/fslval: line 91: /fsl/bin/fslhd: No such file or directory\n",
      "/bin/fslval: line 91: /fsl/bin/fslhd: No such file or directory\n",
      "/bin/bet: line 145: /bin/fslstats: No such file or directory\n"
     ]
    },
    {
     "name": "stdout",
     "output_type": "stream",
     "text": [
      "216\n",
      "Final FOV is: \n",
      "31.000000 169.000000 0.000000 256.000000 0.000000 170.000000 \n",
      "\n"
     ]
    },
    {
     "name": "stderr",
     "output_type": "stream",
     "text": [
      "/bin/fslval: line 91: /fsl/bin/fslhd: No such file or directory\n",
      "/bin/fslval: line 91: /fsl/bin/fslhd: No such file or directory\n",
      "/bin/fslval: line 91: /fsl/bin/fslhd: No such file or directory\n",
      "/bin/fslval: line 91: /fsl/bin/fslhd: No such file or directory\n",
      "/bin/fslval: line 91: /fsl/bin/fslhd: No such file or directory\n",
      "/bin/fslval: line 91: /fsl/bin/fslhd: No such file or directory\n",
      "/bin/bet: line 145: /bin/fslstats: No such file or directory\n"
     ]
    },
    {
     "name": "stdout",
     "output_type": "stream",
     "text": [
      "217\n",
      "Final FOV is: \n",
      "35.000000 170.000000 0.000000 256.000000 0.000000 160.000000 \n",
      "\n"
     ]
    },
    {
     "name": "stderr",
     "output_type": "stream",
     "text": [
      "/bin/fslval: line 91: /fsl/bin/fslhd: No such file or directory\n",
      "/bin/fslval: line 91: /fsl/bin/fslhd: No such file or directory\n",
      "/bin/fslval: line 91: /fsl/bin/fslhd: No such file or directory\n",
      "/bin/fslval: line 91: /fsl/bin/fslhd: No such file or directory\n",
      "/bin/fslval: line 91: /fsl/bin/fslhd: No such file or directory\n",
      "/bin/fslval: line 91: /fsl/bin/fslhd: No such file or directory\n",
      "/bin/bet: line 145: /bin/fslstats: No such file or directory\n"
     ]
    },
    {
     "name": "stdout",
     "output_type": "stream",
     "text": [
      "218\n",
      "Final FOV is: \n",
      "42.000000 170.000000 0.000000 256.000000 0.000000 160.000000 \n",
      "\n"
     ]
    },
    {
     "name": "stderr",
     "output_type": "stream",
     "text": [
      "/bin/fslval: line 91: /fsl/bin/fslhd: No such file or directory\n",
      "/bin/fslval: line 91: /fsl/bin/fslhd: No such file or directory\n",
      "/bin/fslval: line 91: /fsl/bin/fslhd: No such file or directory\n",
      "/bin/fslval: line 91: /fsl/bin/fslhd: No such file or directory\n",
      "/bin/fslval: line 91: /fsl/bin/fslhd: No such file or directory\n",
      "/bin/fslval: line 91: /fsl/bin/fslhd: No such file or directory\n",
      "/bin/bet: line 145: /bin/fslstats: No such file or directory\n"
     ]
    },
    {
     "name": "stdout",
     "output_type": "stream",
     "text": [
      "219\n",
      "Final FOV is: \n",
      "37.000000 170.000000 0.000000 256.000000 0.000000 160.000000 \n",
      "\n"
     ]
    },
    {
     "name": "stderr",
     "output_type": "stream",
     "text": [
      "/bin/fslval: line 91: /fsl/bin/fslhd: No such file or directory\n",
      "/bin/fslval: line 91: /fsl/bin/fslhd: No such file or directory\n",
      "/bin/fslval: line 91: /fsl/bin/fslhd: No such file or directory\n",
      "/bin/fslval: line 91: /fsl/bin/fslhd: No such file or directory\n",
      "/bin/fslval: line 91: /fsl/bin/fslhd: No such file or directory\n",
      "/bin/fslval: line 91: /fsl/bin/fslhd: No such file or directory\n",
      "/bin/bet: line 145: /bin/fslstats: No such file or directory\n"
     ]
    },
    {
     "name": "stdout",
     "output_type": "stream",
     "text": [
      "220\n",
      "Final FOV is: \n",
      "28.000000 171.000000 0.000000 256.000000 0.000000 160.000000 \n",
      "\n"
     ]
    },
    {
     "name": "stderr",
     "output_type": "stream",
     "text": [
      "/bin/fslval: line 91: /fsl/bin/fslhd: No such file or directory\n",
      "/bin/fslval: line 91: /fsl/bin/fslhd: No such file or directory\n",
      "/bin/fslval: line 91: /fsl/bin/fslhd: No such file or directory\n",
      "/bin/fslval: line 91: /fsl/bin/fslhd: No such file or directory\n",
      "/bin/fslval: line 91: /fsl/bin/fslhd: No such file or directory\n",
      "/bin/fslval: line 91: /fsl/bin/fslhd: No such file or directory\n",
      "/bin/bet: line 145: /bin/fslstats: No such file or directory\n"
     ]
    },
    {
     "name": "stdout",
     "output_type": "stream",
     "text": [
      "221\n",
      "Final FOV is: \n",
      "35.000000 170.000000 0.000000 256.000000 0.000000 160.000000 \n",
      "\n"
     ]
    },
    {
     "name": "stderr",
     "output_type": "stream",
     "text": [
      "/bin/fslval: line 91: /fsl/bin/fslhd: No such file or directory\n",
      "/bin/fslval: line 91: /fsl/bin/fslhd: No such file or directory\n",
      "/bin/fslval: line 91: /fsl/bin/fslhd: No such file or directory\n",
      "/bin/fslval: line 91: /fsl/bin/fslhd: No such file or directory\n",
      "/bin/fslval: line 91: /fsl/bin/fslhd: No such file or directory\n",
      "/bin/fslval: line 91: /fsl/bin/fslhd: No such file or directory\n",
      "/bin/bet: line 145: /bin/fslstats: No such file or directory\n"
     ]
    },
    {
     "name": "stdout",
     "output_type": "stream",
     "text": [
      "222\n",
      "Final FOV is: \n",
      "19.000000 170.000000 0.000000 256.000000 0.000000 160.000000 \n",
      "\n"
     ]
    },
    {
     "name": "stderr",
     "output_type": "stream",
     "text": [
      "/bin/fslval: line 91: /fsl/bin/fslhd: No such file or directory\n",
      "/bin/fslval: line 91: /fsl/bin/fslhd: No such file or directory\n",
      "/bin/fslval: line 91: /fsl/bin/fslhd: No such file or directory\n",
      "/bin/fslval: line 91: /fsl/bin/fslhd: No such file or directory\n",
      "/bin/fslval: line 91: /fsl/bin/fslhd: No such file or directory\n",
      "/bin/fslval: line 91: /fsl/bin/fslhd: No such file or directory\n",
      "/bin/bet: line 145: /bin/fslstats: No such file or directory\n"
     ]
    },
    {
     "name": "stdout",
     "output_type": "stream",
     "text": [
      "223\n",
      "Final FOV is: \n",
      "44.000000 170.000000 0.000000 256.000000 0.000000 160.000000 \n",
      "\n"
     ]
    },
    {
     "name": "stderr",
     "output_type": "stream",
     "text": [
      "/bin/fslval: line 91: /fsl/bin/fslhd: No such file or directory\n",
      "/bin/fslval: line 91: /fsl/bin/fslhd: No such file or directory\n",
      "/bin/fslval: line 91: /fsl/bin/fslhd: No such file or directory\n",
      "/bin/fslval: line 91: /fsl/bin/fslhd: No such file or directory\n",
      "/bin/fslval: line 91: /fsl/bin/fslhd: No such file or directory\n",
      "/bin/fslval: line 91: /fsl/bin/fslhd: No such file or directory\n",
      "/bin/bet: line 145: /bin/fslstats: No such file or directory\n"
     ]
    },
    {
     "name": "stdout",
     "output_type": "stream",
     "text": [
      "224\n",
      "Final FOV is: \n",
      "19.000000 170.000000 0.000000 256.000000 0.000000 160.000000 \n",
      "\n"
     ]
    },
    {
     "name": "stderr",
     "output_type": "stream",
     "text": [
      "/bin/fslval: line 91: /fsl/bin/fslhd: No such file or directory\n",
      "/bin/fslval: line 91: /fsl/bin/fslhd: No such file or directory\n",
      "/bin/fslval: line 91: /fsl/bin/fslhd: No such file or directory\n",
      "/bin/fslval: line 91: /fsl/bin/fslhd: No such file or directory\n",
      "/bin/fslval: line 91: /fsl/bin/fslhd: No such file or directory\n",
      "/bin/fslval: line 91: /fsl/bin/fslhd: No such file or directory\n",
      "/bin/bet: line 145: /bin/fslstats: No such file or directory\n"
     ]
    },
    {
     "name": "stdout",
     "output_type": "stream",
     "text": [
      "225\n",
      "Final FOV is: \n",
      "24.000000 170.000000 0.000000 256.000000 0.000000 160.000000 \n",
      "\n"
     ]
    },
    {
     "name": "stderr",
     "output_type": "stream",
     "text": [
      "/bin/fslval: line 91: /fsl/bin/fslhd: No such file or directory\n",
      "/bin/fslval: line 91: /fsl/bin/fslhd: No such file or directory\n",
      "/bin/fslval: line 91: /fsl/bin/fslhd: No such file or directory\n",
      "/bin/fslval: line 91: /fsl/bin/fslhd: No such file or directory\n",
      "/bin/fslval: line 91: /fsl/bin/fslhd: No such file or directory\n",
      "/bin/fslval: line 91: /fsl/bin/fslhd: No such file or directory\n",
      "/bin/bet: line 145: /bin/fslstats: No such file or directory\n"
     ]
    },
    {
     "name": "stdout",
     "output_type": "stream",
     "text": [
      "226\n",
      "Final FOV is: \n",
      "19.000000 170.000000 0.000000 256.000000 0.000000 160.000000 \n",
      "\n"
     ]
    },
    {
     "name": "stderr",
     "output_type": "stream",
     "text": [
      "/bin/fslval: line 91: /fsl/bin/fslhd: No such file or directory\n",
      "/bin/fslval: line 91: /fsl/bin/fslhd: No such file or directory\n",
      "/bin/fslval: line 91: /fsl/bin/fslhd: No such file or directory\n",
      "/bin/fslval: line 91: /fsl/bin/fslhd: No such file or directory\n",
      "/bin/fslval: line 91: /fsl/bin/fslhd: No such file or directory\n",
      "/bin/fslval: line 91: /fsl/bin/fslhd: No such file or directory\n",
      "/bin/bet: line 145: /bin/fslstats: No such file or directory\n"
     ]
    },
    {
     "name": "stdout",
     "output_type": "stream",
     "text": [
      "227\n",
      "Final FOV is: \n",
      "44.000000 170.000000 0.000000 256.000000 0.000000 160.000000 \n",
      "\n"
     ]
    },
    {
     "name": "stderr",
     "output_type": "stream",
     "text": [
      "/bin/fslval: line 91: /fsl/bin/fslhd: No such file or directory\n",
      "/bin/fslval: line 91: /fsl/bin/fslhd: No such file or directory\n",
      "/bin/fslval: line 91: /fsl/bin/fslhd: No such file or directory\n",
      "/bin/fslval: line 91: /fsl/bin/fslhd: No such file or directory\n",
      "/bin/fslval: line 91: /fsl/bin/fslhd: No such file or directory\n",
      "/bin/fslval: line 91: /fsl/bin/fslhd: No such file or directory\n",
      "/bin/bet: line 145: /bin/fslstats: No such file or directory\n"
     ]
    },
    {
     "name": "stdout",
     "output_type": "stream",
     "text": [
      "228\n",
      "Final FOV is: \n",
      "19.000000 170.000000 0.000000 256.000000 0.000000 160.000000 \n",
      "\n"
     ]
    },
    {
     "name": "stderr",
     "output_type": "stream",
     "text": [
      "/bin/fslval: line 91: /fsl/bin/fslhd: No such file or directory\n",
      "/bin/fslval: line 91: /fsl/bin/fslhd: No such file or directory\n",
      "/bin/fslval: line 91: /fsl/bin/fslhd: No such file or directory\n",
      "/bin/fslval: line 91: /fsl/bin/fslhd: No such file or directory\n",
      "/bin/fslval: line 91: /fsl/bin/fslhd: No such file or directory\n",
      "/bin/fslval: line 91: /fsl/bin/fslhd: No such file or directory\n",
      "/bin/bet: line 145: /bin/fslstats: No such file or directory\n"
     ]
    },
    {
     "name": "stdout",
     "output_type": "stream",
     "text": [
      "229\n",
      "Final FOV is: \n",
      "43.000000 171.000000 0.000000 256.000000 0.000000 160.000000 \n",
      "\n"
     ]
    },
    {
     "name": "stderr",
     "output_type": "stream",
     "text": [
      "/bin/fslval: line 91: /fsl/bin/fslhd: No such file or directory\n",
      "/bin/fslval: line 91: /fsl/bin/fslhd: No such file or directory\n",
      "/bin/fslval: line 91: /fsl/bin/fslhd: No such file or directory\n",
      "/bin/fslval: line 91: /fsl/bin/fslhd: No such file or directory\n",
      "/bin/fslval: line 91: /fsl/bin/fslhd: No such file or directory\n",
      "/bin/fslval: line 91: /fsl/bin/fslhd: No such file or directory\n",
      "/bin/bet: line 145: /bin/fslstats: No such file or directory\n"
     ]
    },
    {
     "name": "stdout",
     "output_type": "stream",
     "text": [
      "230\n",
      "Final FOV is: \n",
      "55.000000 171.000000 0.000000 256.000000 0.000000 160.000000 \n",
      "\n"
     ]
    },
    {
     "name": "stderr",
     "output_type": "stream",
     "text": [
      "/bin/fslval: line 91: /fsl/bin/fslhd: No such file or directory\n",
      "/bin/fslval: line 91: /fsl/bin/fslhd: No such file or directory\n",
      "/bin/fslval: line 91: /fsl/bin/fslhd: No such file or directory\n",
      "/bin/fslval: line 91: /fsl/bin/fslhd: No such file or directory\n",
      "/bin/fslval: line 91: /fsl/bin/fslhd: No such file or directory\n",
      "/bin/fslval: line 91: /fsl/bin/fslhd: No such file or directory\n",
      "/bin/bet: line 145: /bin/fslstats: No such file or directory\n"
     ]
    },
    {
     "name": "stdout",
     "output_type": "stream",
     "text": [
      "231\n",
      "Final FOV is: \n",
      "35.000000 170.000000 0.000000 256.000000 0.000000 160.000000 \n",
      "\n"
     ]
    },
    {
     "name": "stderr",
     "output_type": "stream",
     "text": [
      "/bin/fslval: line 91: /fsl/bin/fslhd: No such file or directory\n",
      "/bin/fslval: line 91: /fsl/bin/fslhd: No such file or directory\n",
      "/bin/fslval: line 91: /fsl/bin/fslhd: No such file or directory\n",
      "/bin/fslval: line 91: /fsl/bin/fslhd: No such file or directory\n",
      "/bin/fslval: line 91: /fsl/bin/fslhd: No such file or directory\n",
      "/bin/fslval: line 91: /fsl/bin/fslhd: No such file or directory\n",
      "/bin/bet: line 145: /bin/fslstats: No such file or directory\n"
     ]
    },
    {
     "name": "stdout",
     "output_type": "stream",
     "text": [
      "232\n",
      "Final FOV is: \n",
      "44.000000 171.000000 0.000000 256.000000 0.000000 160.000000 \n",
      "\n"
     ]
    },
    {
     "name": "stderr",
     "output_type": "stream",
     "text": [
      "/bin/fslval: line 91: /fsl/bin/fslhd: No such file or directory\n",
      "/bin/fslval: line 91: /fsl/bin/fslhd: No such file or directory\n",
      "/bin/fslval: line 91: /fsl/bin/fslhd: No such file or directory\n",
      "/bin/fslval: line 91: /fsl/bin/fslhd: No such file or directory\n",
      "/bin/fslval: line 91: /fsl/bin/fslhd: No such file or directory\n",
      "/bin/fslval: line 91: /fsl/bin/fslhd: No such file or directory\n",
      "/bin/bet: line 145: /bin/fslstats: No such file or directory\n"
     ]
    },
    {
     "name": "stdout",
     "output_type": "stream",
     "text": [
      "233\n",
      "Final FOV is: \n",
      "44.000000 171.000000 0.000000 256.000000 0.000000 160.000000 \n",
      "\n"
     ]
    },
    {
     "name": "stderr",
     "output_type": "stream",
     "text": [
      "/bin/fslval: line 91: /fsl/bin/fslhd: No such file or directory\n",
      "/bin/fslval: line 91: /fsl/bin/fslhd: No such file or directory\n",
      "/bin/fslval: line 91: /fsl/bin/fslhd: No such file or directory\n",
      "/bin/fslval: line 91: /fsl/bin/fslhd: No such file or directory\n",
      "/bin/fslval: line 91: /fsl/bin/fslhd: No such file or directory\n",
      "/bin/fslval: line 91: /fsl/bin/fslhd: No such file or directory\n",
      "/bin/bet: line 145: /bin/fslstats: No such file or directory\n"
     ]
    },
    {
     "name": "stdout",
     "output_type": "stream",
     "text": [
      "234\n",
      "Final FOV is: \n",
      "59.000000 170.000000 0.000000 256.000000 0.000000 160.000000 \n",
      "\n"
     ]
    },
    {
     "name": "stderr",
     "output_type": "stream",
     "text": [
      "/bin/fslval: line 91: /fsl/bin/fslhd: No such file or directory\n",
      "/bin/fslval: line 91: /fsl/bin/fslhd: No such file or directory\n",
      "/bin/fslval: line 91: /fsl/bin/fslhd: No such file or directory\n",
      "/bin/fslval: line 91: /fsl/bin/fslhd: No such file or directory\n",
      "/bin/fslval: line 91: /fsl/bin/fslhd: No such file or directory\n",
      "/bin/fslval: line 91: /fsl/bin/fslhd: No such file or directory\n",
      "/bin/bet: line 145: /bin/fslstats: No such file or directory\n"
     ]
    },
    {
     "name": "stdout",
     "output_type": "stream",
     "text": [
      "235\n",
      "Final FOV is: \n",
      "57.000000 171.000000 0.000000 256.000000 0.000000 160.000000 \n",
      "\n"
     ]
    },
    {
     "name": "stderr",
     "output_type": "stream",
     "text": [
      "/bin/fslval: line 91: /fsl/bin/fslhd: No such file or directory\n",
      "/bin/fslval: line 91: /fsl/bin/fslhd: No such file or directory\n",
      "/bin/fslval: line 91: /fsl/bin/fslhd: No such file or directory\n",
      "/bin/fslval: line 91: /fsl/bin/fslhd: No such file or directory\n",
      "/bin/fslval: line 91: /fsl/bin/fslhd: No such file or directory\n",
      "/bin/fslval: line 91: /fsl/bin/fslhd: No such file or directory\n",
      "/bin/bet: line 145: /bin/fslstats: No such file or directory\n"
     ]
    },
    {
     "name": "stdout",
     "output_type": "stream",
     "text": [
      "236\n",
      "Final FOV is: \n",
      "64.000000 170.000000 0.000000 256.000000 0.000000 160.000000 \n",
      "\n"
     ]
    },
    {
     "name": "stderr",
     "output_type": "stream",
     "text": [
      "/bin/fslval: line 91: /fsl/bin/fslhd: No such file or directory\n",
      "/bin/fslval: line 91: /fsl/bin/fslhd: No such file or directory\n",
      "/bin/fslval: line 91: /fsl/bin/fslhd: No such file or directory\n",
      "/bin/fslval: line 91: /fsl/bin/fslhd: No such file or directory\n",
      "/bin/fslval: line 91: /fsl/bin/fslhd: No such file or directory\n",
      "/bin/fslval: line 91: /fsl/bin/fslhd: No such file or directory\n",
      "/bin/bet: line 145: /bin/fslstats: No such file or directory\n"
     ]
    },
    {
     "name": "stdout",
     "output_type": "stream",
     "text": [
      "237\n",
      "Final FOV is: \n",
      "35.000000 170.000000 0.000000 256.000000 0.000000 160.000000 \n",
      "\n"
     ]
    },
    {
     "name": "stderr",
     "output_type": "stream",
     "text": [
      "/bin/fslval: line 91: /fsl/bin/fslhd: No such file or directory\n",
      "/bin/fslval: line 91: /fsl/bin/fslhd: No such file or directory\n",
      "/bin/fslval: line 91: /fsl/bin/fslhd: No such file or directory\n",
      "/bin/fslval: line 91: /fsl/bin/fslhd: No such file or directory\n",
      "/bin/fslval: line 91: /fsl/bin/fslhd: No such file or directory\n",
      "/bin/fslval: line 91: /fsl/bin/fslhd: No such file or directory\n",
      "/bin/bet: line 145: /bin/fslstats: No such file or directory\n"
     ]
    },
    {
     "name": "stdout",
     "output_type": "stream",
     "text": [
      "238\n",
      "Final FOV is: \n",
      "59.000000 170.000000 0.000000 256.000000 0.000000 160.000000 \n",
      "\n"
     ]
    },
    {
     "name": "stderr",
     "output_type": "stream",
     "text": [
      "/bin/fslval: line 91: /fsl/bin/fslhd: No such file or directory\n",
      "/bin/fslval: line 91: /fsl/bin/fslhd: No such file or directory\n",
      "/bin/fslval: line 91: /fsl/bin/fslhd: No such file or directory\n",
      "/bin/fslval: line 91: /fsl/bin/fslhd: No such file or directory\n",
      "/bin/fslval: line 91: /fsl/bin/fslhd: No such file or directory\n",
      "/bin/fslval: line 91: /fsl/bin/fslhd: No such file or directory\n",
      "/bin/bet: line 145: /bin/fslstats: No such file or directory\n"
     ]
    },
    {
     "name": "stdout",
     "output_type": "stream",
     "text": [
      "239\n",
      "Final FOV is: \n",
      "64.000000 170.000000 0.000000 256.000000 0.000000 160.000000 \n",
      "\n"
     ]
    },
    {
     "name": "stderr",
     "output_type": "stream",
     "text": [
      "/bin/fslval: line 91: /fsl/bin/fslhd: No such file or directory\n",
      "/bin/fslval: line 91: /fsl/bin/fslhd: No such file or directory\n",
      "/bin/fslval: line 91: /fsl/bin/fslhd: No such file or directory\n",
      "/bin/fslval: line 91: /fsl/bin/fslhd: No such file or directory\n",
      "/bin/fslval: line 91: /fsl/bin/fslhd: No such file or directory\n",
      "/bin/fslval: line 91: /fsl/bin/fslhd: No such file or directory\n",
      "/bin/bet: line 145: /bin/fslstats: No such file or directory\n"
     ]
    },
    {
     "name": "stdout",
     "output_type": "stream",
     "text": [
      "240\n",
      "Final FOV is: \n",
      "35.000000 170.000000 0.000000 256.000000 0.000000 160.000000 \n",
      "\n"
     ]
    },
    {
     "name": "stderr",
     "output_type": "stream",
     "text": [
      "/bin/fslval: line 91: /fsl/bin/fslhd: No such file or directory\n",
      "/bin/fslval: line 91: /fsl/bin/fslhd: No such file or directory\n",
      "/bin/fslval: line 91: /fsl/bin/fslhd: No such file or directory\n",
      "/bin/fslval: line 91: /fsl/bin/fslhd: No such file or directory\n",
      "/bin/fslval: line 91: /fsl/bin/fslhd: No such file or directory\n",
      "/bin/fslval: line 91: /fsl/bin/fslhd: No such file or directory\n",
      "/bin/bet: line 145: /bin/fslstats: No such file or directory\n"
     ]
    },
    {
     "name": "stdout",
     "output_type": "stream",
     "text": [
      "241\n",
      "Final FOV is: \n",
      "34.000000 170.000000 0.000000 256.000000 0.000000 160.000000 \n",
      "\n"
     ]
    },
    {
     "name": "stderr",
     "output_type": "stream",
     "text": [
      "/bin/fslval: line 91: /fsl/bin/fslhd: No such file or directory\n",
      "/bin/fslval: line 91: /fsl/bin/fslhd: No such file or directory\n",
      "/bin/fslval: line 91: /fsl/bin/fslhd: No such file or directory\n",
      "/bin/fslval: line 91: /fsl/bin/fslhd: No such file or directory\n",
      "/bin/fslval: line 91: /fsl/bin/fslhd: No such file or directory\n",
      "/bin/fslval: line 91: /fsl/bin/fslhd: No such file or directory\n",
      "/bin/bet: line 145: /bin/fslstats: No such file or directory\n"
     ]
    },
    {
     "name": "stdout",
     "output_type": "stream",
     "text": [
      "242\n",
      "Final FOV is: \n",
      "39.000000 170.000000 0.000000 256.000000 0.000000 160.000000 \n",
      "\n"
     ]
    },
    {
     "name": "stderr",
     "output_type": "stream",
     "text": [
      "/bin/fslval: line 91: /fsl/bin/fslhd: No such file or directory\n",
      "/bin/fslval: line 91: /fsl/bin/fslhd: No such file or directory\n",
      "/bin/fslval: line 91: /fsl/bin/fslhd: No such file or directory\n",
      "/bin/fslval: line 91: /fsl/bin/fslhd: No such file or directory\n",
      "/bin/fslval: line 91: /fsl/bin/fslhd: No such file or directory\n",
      "/bin/fslval: line 91: /fsl/bin/fslhd: No such file or directory\n",
      "/bin/bet: line 145: /bin/fslstats: No such file or directory\n"
     ]
    },
    {
     "name": "stdout",
     "output_type": "stream",
     "text": [
      "243\n",
      "Final FOV is: \n",
      "36.000000 170.000000 0.000000 256.000000 0.000000 160.000000 \n",
      "\n"
     ]
    },
    {
     "name": "stderr",
     "output_type": "stream",
     "text": [
      "/bin/fslval: line 91: /fsl/bin/fslhd: No such file or directory\n",
      "/bin/fslval: line 91: /fsl/bin/fslhd: No such file or directory\n",
      "/bin/fslval: line 91: /fsl/bin/fslhd: No such file or directory\n",
      "/bin/fslval: line 91: /fsl/bin/fslhd: No such file or directory\n",
      "/bin/fslval: line 91: /fsl/bin/fslhd: No such file or directory\n",
      "/bin/fslval: line 91: /fsl/bin/fslhd: No such file or directory\n",
      "/bin/bet: line 145: /bin/fslstats: No such file or directory\n"
     ]
    },
    {
     "name": "stdout",
     "output_type": "stream",
     "text": [
      "244\n",
      "Final FOV is: \n",
      "38.000000 170.000000 0.000000 256.000000 0.000000 160.000000 \n",
      "\n"
     ]
    },
    {
     "name": "stderr",
     "output_type": "stream",
     "text": [
      "/bin/fslval: line 91: /fsl/bin/fslhd: No such file or directory\n",
      "/bin/fslval: line 91: /fsl/bin/fslhd: No such file or directory\n",
      "/bin/fslval: line 91: /fsl/bin/fslhd: No such file or directory\n",
      "/bin/fslval: line 91: /fsl/bin/fslhd: No such file or directory\n",
      "/bin/fslval: line 91: /fsl/bin/fslhd: No such file or directory\n",
      "/bin/fslval: line 91: /fsl/bin/fslhd: No such file or directory\n",
      "/bin/bet: line 145: /bin/fslstats: No such file or directory\n"
     ]
    },
    {
     "name": "stdout",
     "output_type": "stream",
     "text": [
      "245\n",
      "Final FOV is: \n",
      "53.000000 170.000000 0.000000 256.000000 0.000000 160.000000 \n",
      "\n"
     ]
    },
    {
     "name": "stderr",
     "output_type": "stream",
     "text": [
      "/bin/fslval: line 91: /fsl/bin/fslhd: No such file or directory\n",
      "/bin/fslval: line 91: /fsl/bin/fslhd: No such file or directory\n",
      "/bin/fslval: line 91: /fsl/bin/fslhd: No such file or directory\n",
      "/bin/fslval: line 91: /fsl/bin/fslhd: No such file or directory\n",
      "/bin/fslval: line 91: /fsl/bin/fslhd: No such file or directory\n",
      "/bin/fslval: line 91: /fsl/bin/fslhd: No such file or directory\n",
      "/bin/bet: line 145: /bin/fslstats: No such file or directory\n"
     ]
    },
    {
     "name": "stdout",
     "output_type": "stream",
     "text": [
      "246\n",
      "Final FOV is: \n",
      "56.000000 171.000000 0.000000 256.000000 0.000000 160.000000 \n",
      "\n"
     ]
    },
    {
     "name": "stderr",
     "output_type": "stream",
     "text": [
      "/bin/fslval: line 91: /fsl/bin/fslhd: No such file or directory\n",
      "/bin/fslval: line 91: /fsl/bin/fslhd: No such file or directory\n",
      "/bin/fslval: line 91: /fsl/bin/fslhd: No such file or directory\n",
      "/bin/fslval: line 91: /fsl/bin/fslhd: No such file or directory\n",
      "/bin/fslval: line 91: /fsl/bin/fslhd: No such file or directory\n",
      "/bin/fslval: line 91: /fsl/bin/fslhd: No such file or directory\n",
      "/bin/bet: line 145: /bin/fslstats: No such file or directory\n"
     ]
    },
    {
     "name": "stdout",
     "output_type": "stream",
     "text": [
      "247\n",
      "Final FOV is: \n",
      "44.000000 171.000000 0.000000 256.000000 0.000000 160.000000 \n",
      "\n"
     ]
    },
    {
     "name": "stderr",
     "output_type": "stream",
     "text": [
      "/bin/fslval: line 91: /fsl/bin/fslhd: No such file or directory\n",
      "/bin/fslval: line 91: /fsl/bin/fslhd: No such file or directory\n",
      "/bin/fslval: line 91: /fsl/bin/fslhd: No such file or directory\n",
      "/bin/fslval: line 91: /fsl/bin/fslhd: No such file or directory\n",
      "/bin/fslval: line 91: /fsl/bin/fslhd: No such file or directory\n",
      "/bin/fslval: line 91: /fsl/bin/fslhd: No such file or directory\n",
      "/bin/bet: line 145: /bin/fslstats: No such file or directory\n"
     ]
    },
    {
     "name": "stdout",
     "output_type": "stream",
     "text": [
      "248\n",
      "Final FOV is: \n",
      "43.000000 170.000000 0.000000 256.000000 0.000000 160.000000 \n",
      "\n"
     ]
    },
    {
     "name": "stderr",
     "output_type": "stream",
     "text": [
      "/bin/fslval: line 91: /fsl/bin/fslhd: No such file or directory\n",
      "/bin/fslval: line 91: /fsl/bin/fslhd: No such file or directory\n",
      "/bin/fslval: line 91: /fsl/bin/fslhd: No such file or directory\n",
      "/bin/fslval: line 91: /fsl/bin/fslhd: No such file or directory\n",
      "/bin/fslval: line 91: /fsl/bin/fslhd: No such file or directory\n",
      "/bin/fslval: line 91: /fsl/bin/fslhd: No such file or directory\n",
      "/bin/bet: line 145: /bin/fslstats: No such file or directory\n"
     ]
    },
    {
     "name": "stdout",
     "output_type": "stream",
     "text": [
      "249\n",
      "Final FOV is: \n",
      "53.000000 170.000000 0.000000 256.000000 0.000000 160.000000 \n",
      "\n"
     ]
    },
    {
     "name": "stderr",
     "output_type": "stream",
     "text": [
      "/bin/fslval: line 91: /fsl/bin/fslhd: No such file or directory\n",
      "/bin/fslval: line 91: /fsl/bin/fslhd: No such file or directory\n",
      "/bin/fslval: line 91: /fsl/bin/fslhd: No such file or directory\n",
      "/bin/fslval: line 91: /fsl/bin/fslhd: No such file or directory\n",
      "/bin/fslval: line 91: /fsl/bin/fslhd: No such file or directory\n",
      "/bin/fslval: line 91: /fsl/bin/fslhd: No such file or directory\n",
      "/bin/bet: line 145: /bin/fslstats: No such file or directory\n"
     ]
    },
    {
     "name": "stdout",
     "output_type": "stream",
     "text": [
      "250\n",
      "Final FOV is: \n",
      "43.000000 170.000000 0.000000 256.000000 0.000000 160.000000 \n",
      "\n"
     ]
    },
    {
     "name": "stderr",
     "output_type": "stream",
     "text": [
      "/bin/fslval: line 91: /fsl/bin/fslhd: No such file or directory\n",
      "/bin/fslval: line 91: /fsl/bin/fslhd: No such file or directory\n",
      "/bin/fslval: line 91: /fsl/bin/fslhd: No such file or directory\n",
      "/bin/fslval: line 91: /fsl/bin/fslhd: No such file or directory\n",
      "/bin/fslval: line 91: /fsl/bin/fslhd: No such file or directory\n",
      "/bin/fslval: line 91: /fsl/bin/fslhd: No such file or directory\n",
      "/bin/bet: line 145: /bin/fslstats: No such file or directory\n"
     ]
    },
    {
     "name": "stdout",
     "output_type": "stream",
     "text": [
      "251\n",
      "Final FOV is: \n",
      "63.000000 170.000000 0.000000 256.000000 0.000000 160.000000 \n",
      "\n"
     ]
    },
    {
     "name": "stderr",
     "output_type": "stream",
     "text": [
      "/bin/fslval: line 91: /fsl/bin/fslhd: No such file or directory\n",
      "/bin/fslval: line 91: /fsl/bin/fslhd: No such file or directory\n",
      "/bin/fslval: line 91: /fsl/bin/fslhd: No such file or directory\n",
      "/bin/fslval: line 91: /fsl/bin/fslhd: No such file or directory\n",
      "/bin/fslval: line 91: /fsl/bin/fslhd: No such file or directory\n",
      "/bin/fslval: line 91: /fsl/bin/fslhd: No such file or directory\n",
      "/bin/bet: line 145: /bin/fslstats: No such file or directory\n"
     ]
    },
    {
     "name": "stdout",
     "output_type": "stream",
     "text": [
      "252\n",
      "Final FOV is: \n",
      "26.000000 170.000000 0.000000 256.000000 0.000000 160.000000 \n",
      "\n"
     ]
    },
    {
     "name": "stderr",
     "output_type": "stream",
     "text": [
      "/bin/fslval: line 91: /fsl/bin/fslhd: No such file or directory\n",
      "/bin/fslval: line 91: /fsl/bin/fslhd: No such file or directory\n",
      "/bin/fslval: line 91: /fsl/bin/fslhd: No such file or directory\n",
      "/bin/fslval: line 91: /fsl/bin/fslhd: No such file or directory\n",
      "/bin/fslval: line 91: /fsl/bin/fslhd: No such file or directory\n",
      "/bin/fslval: line 91: /fsl/bin/fslhd: No such file or directory\n",
      "/bin/bet: line 145: /bin/fslstats: No such file or directory\n"
     ]
    },
    {
     "name": "stdout",
     "output_type": "stream",
     "text": [
      "253\n",
      "Final FOV is: \n",
      "26.000000 170.000000 0.000000 256.000000 0.000000 160.000000 \n",
      "\n"
     ]
    },
    {
     "name": "stderr",
     "output_type": "stream",
     "text": [
      "/bin/fslval: line 91: /fsl/bin/fslhd: No such file or directory\n",
      "/bin/fslval: line 91: /fsl/bin/fslhd: No such file or directory\n",
      "/bin/fslval: line 91: /fsl/bin/fslhd: No such file or directory\n",
      "/bin/fslval: line 91: /fsl/bin/fslhd: No such file or directory\n",
      "/bin/fslval: line 91: /fsl/bin/fslhd: No such file or directory\n",
      "/bin/fslval: line 91: /fsl/bin/fslhd: No such file or directory\n",
      "/bin/bet: line 145: /bin/fslstats: No such file or directory\n"
     ]
    },
    {
     "name": "stdout",
     "output_type": "stream",
     "text": [
      "254\n",
      "Final FOV is: \n",
      "41.000000 170.000000 0.000000 256.000000 0.000000 160.000000 \n",
      "\n"
     ]
    },
    {
     "name": "stderr",
     "output_type": "stream",
     "text": [
      "/bin/fslval: line 91: /fsl/bin/fslhd: No such file or directory\n",
      "/bin/fslval: line 91: /fsl/bin/fslhd: No such file or directory\n",
      "/bin/fslval: line 91: /fsl/bin/fslhd: No such file or directory\n",
      "/bin/fslval: line 91: /fsl/bin/fslhd: No such file or directory\n",
      "/bin/fslval: line 91: /fsl/bin/fslhd: No such file or directory\n",
      "/bin/fslval: line 91: /fsl/bin/fslhd: No such file or directory\n",
      "/bin/bet: line 145: /bin/fslstats: No such file or directory\n"
     ]
    },
    {
     "name": "stdout",
     "output_type": "stream",
     "text": [
      "255\n",
      "Final FOV is: \n",
      "18.000000 167.000000 0.000000 256.000000 0.000000 170.000000 \n",
      "\n"
     ]
    },
    {
     "name": "stderr",
     "output_type": "stream",
     "text": [
      "/bin/fslval: line 91: /fsl/bin/fslhd: No such file or directory\n",
      "/bin/fslval: line 91: /fsl/bin/fslhd: No such file or directory\n",
      "/bin/fslval: line 91: /fsl/bin/fslhd: No such file or directory\n",
      "/bin/fslval: line 91: /fsl/bin/fslhd: No such file or directory\n",
      "/bin/fslval: line 91: /fsl/bin/fslhd: No such file or directory\n",
      "/bin/fslval: line 91: /fsl/bin/fslhd: No such file or directory\n",
      "/bin/bet: line 145: /bin/fslstats: No such file or directory\n"
     ]
    },
    {
     "name": "stdout",
     "output_type": "stream",
     "text": [
      "256\n",
      "Final FOV is: \n",
      "4.000000 167.000000 0.000000 256.000000 0.000000 170.000000 \n",
      "\n"
     ]
    },
    {
     "name": "stderr",
     "output_type": "stream",
     "text": [
      "/bin/fslval: line 91: /fsl/bin/fslhd: No such file or directory\n",
      "/bin/fslval: line 91: /fsl/bin/fslhd: No such file or directory\n",
      "/bin/fslval: line 91: /fsl/bin/fslhd: No such file or directory\n",
      "/bin/fslval: line 91: /fsl/bin/fslhd: No such file or directory\n",
      "/bin/fslval: line 91: /fsl/bin/fslhd: No such file or directory\n",
      "/bin/fslval: line 91: /fsl/bin/fslhd: No such file or directory\n",
      "/bin/bet: line 145: /bin/fslstats: No such file or directory\n"
     ]
    },
    {
     "name": "stdout",
     "output_type": "stream",
     "text": [
      "257\n",
      "Final FOV is: \n",
      "1.000000 167.000000 0.000000 256.000000 0.000000 170.000000 \n",
      "\n"
     ]
    },
    {
     "name": "stderr",
     "output_type": "stream",
     "text": [
      "/bin/fslval: line 91: /fsl/bin/fslhd: No such file or directory\n",
      "/bin/fslval: line 91: /fsl/bin/fslhd: No such file or directory\n",
      "/bin/fslval: line 91: /fsl/bin/fslhd: No such file or directory\n",
      "/bin/fslval: line 91: /fsl/bin/fslhd: No such file or directory\n",
      "/bin/fslval: line 91: /fsl/bin/fslhd: No such file or directory\n",
      "/bin/fslval: line 91: /fsl/bin/fslhd: No such file or directory\n",
      "/bin/bet: line 145: /bin/fslstats: No such file or directory\n"
     ]
    },
    {
     "name": "stdout",
     "output_type": "stream",
     "text": [
      "258\n",
      "Final FOV is: \n",
      "1.000000 170.000000 0.000000 256.000000 0.000000 170.000000 \n",
      "\n"
     ]
    },
    {
     "name": "stderr",
     "output_type": "stream",
     "text": [
      "/bin/fslval: line 91: /fsl/bin/fslhd: No such file or directory\n",
      "/bin/fslval: line 91: /fsl/bin/fslhd: No such file or directory\n",
      "/bin/fslval: line 91: /fsl/bin/fslhd: No such file or directory\n",
      "/bin/fslval: line 91: /fsl/bin/fslhd: No such file or directory\n",
      "/bin/fslval: line 91: /fsl/bin/fslhd: No such file or directory\n",
      "/bin/fslval: line 91: /fsl/bin/fslhd: No such file or directory\n",
      "/bin/bet: line 145: /bin/fslstats: No such file or directory\n"
     ]
    },
    {
     "name": "stdout",
     "output_type": "stream",
     "text": [
      "259\n",
      "Final FOV is: \n",
      "29.000000 170.000000 0.000000 256.000000 0.000000 160.000000 \n",
      "\n"
     ]
    },
    {
     "name": "stderr",
     "output_type": "stream",
     "text": [
      "/bin/fslval: line 91: /fsl/bin/fslhd: No such file or directory\n",
      "/bin/fslval: line 91: /fsl/bin/fslhd: No such file or directory\n",
      "/bin/fslval: line 91: /fsl/bin/fslhd: No such file or directory\n",
      "/bin/fslval: line 91: /fsl/bin/fslhd: No such file or directory\n",
      "/bin/fslval: line 91: /fsl/bin/fslhd: No such file or directory\n",
      "/bin/fslval: line 91: /fsl/bin/fslhd: No such file or directory\n",
      "/bin/bet: line 145: /bin/fslstats: No such file or directory\n"
     ]
    },
    {
     "name": "stdout",
     "output_type": "stream",
     "text": [
      "260\n",
      "Final FOV is: \n",
      "26.000000 170.000000 0.000000 256.000000 0.000000 160.000000 \n",
      "\n"
     ]
    },
    {
     "name": "stderr",
     "output_type": "stream",
     "text": [
      "/bin/fslval: line 91: /fsl/bin/fslhd: No such file or directory\n",
      "/bin/fslval: line 91: /fsl/bin/fslhd: No such file or directory\n",
      "/bin/fslval: line 91: /fsl/bin/fslhd: No such file or directory\n",
      "/bin/fslval: line 91: /fsl/bin/fslhd: No such file or directory\n",
      "/bin/fslval: line 91: /fsl/bin/fslhd: No such file or directory\n",
      "/bin/fslval: line 91: /fsl/bin/fslhd: No such file or directory\n",
      "/bin/bet: line 145: /bin/fslstats: No such file or directory\n"
     ]
    },
    {
     "name": "stdout",
     "output_type": "stream",
     "text": [
      "261\n",
      "Final FOV is: \n",
      "39.000000 170.000000 0.000000 256.000000 0.000000 160.000000 \n",
      "\n"
     ]
    },
    {
     "name": "stderr",
     "output_type": "stream",
     "text": [
      "/bin/fslval: line 91: /fsl/bin/fslhd: No such file or directory\n",
      "/bin/fslval: line 91: /fsl/bin/fslhd: No such file or directory\n",
      "/bin/fslval: line 91: /fsl/bin/fslhd: No such file or directory\n",
      "/bin/fslval: line 91: /fsl/bin/fslhd: No such file or directory\n",
      "/bin/fslval: line 91: /fsl/bin/fslhd: No such file or directory\n",
      "/bin/fslval: line 91: /fsl/bin/fslhd: No such file or directory\n",
      "/bin/bet: line 145: /bin/fslstats: No such file or directory\n"
     ]
    },
    {
     "name": "stdout",
     "output_type": "stream",
     "text": [
      "262\n",
      "Final FOV is: \n",
      "42.000000 170.000000 0.000000 256.000000 0.000000 160.000000 \n",
      "\n"
     ]
    },
    {
     "name": "stderr",
     "output_type": "stream",
     "text": [
      "/bin/fslval: line 91: /fsl/bin/fslhd: No such file or directory\n",
      "/bin/fslval: line 91: /fsl/bin/fslhd: No such file or directory\n",
      "/bin/fslval: line 91: /fsl/bin/fslhd: No such file or directory\n",
      "/bin/fslval: line 91: /fsl/bin/fslhd: No such file or directory\n",
      "/bin/fslval: line 91: /fsl/bin/fslhd: No such file or directory\n",
      "/bin/fslval: line 91: /fsl/bin/fslhd: No such file or directory\n",
      "/bin/bet: line 145: /bin/fslstats: No such file or directory\n"
     ]
    },
    {
     "name": "stdout",
     "output_type": "stream",
     "text": [
      "263\n",
      "Final FOV is: \n",
      "37.000000 170.000000 0.000000 256.000000 0.000000 160.000000 \n",
      "\n"
     ]
    },
    {
     "name": "stderr",
     "output_type": "stream",
     "text": [
      "/bin/fslval: line 91: /fsl/bin/fslhd: No such file or directory\n",
      "/bin/fslval: line 91: /fsl/bin/fslhd: No such file or directory\n",
      "/bin/fslval: line 91: /fsl/bin/fslhd: No such file or directory\n",
      "/bin/fslval: line 91: /fsl/bin/fslhd: No such file or directory\n",
      "/bin/fslval: line 91: /fsl/bin/fslhd: No such file or directory\n",
      "/bin/fslval: line 91: /fsl/bin/fslhd: No such file or directory\n",
      "/bin/bet: line 145: /bin/fslstats: No such file or directory\n"
     ]
    },
    {
     "name": "stdout",
     "output_type": "stream",
     "text": [
      "264\n",
      "Final FOV is: \n",
      "27.000000 170.000000 0.000000 256.000000 0.000000 160.000000 \n",
      "\n"
     ]
    },
    {
     "name": "stderr",
     "output_type": "stream",
     "text": [
      "/bin/fslval: line 91: /fsl/bin/fslhd: No such file or directory\n",
      "/bin/fslval: line 91: /fsl/bin/fslhd: No such file or directory\n",
      "/bin/fslval: line 91: /fsl/bin/fslhd: No such file or directory\n",
      "/bin/fslval: line 91: /fsl/bin/fslhd: No such file or directory\n",
      "/bin/fslval: line 91: /fsl/bin/fslhd: No such file or directory\n",
      "/bin/fslval: line 91: /fsl/bin/fslhd: No such file or directory\n",
      "/bin/bet: line 145: /bin/fslstats: No such file or directory\n"
     ]
    },
    {
     "name": "stdout",
     "output_type": "stream",
     "text": [
      "265\n",
      "Final FOV is: \n",
      "53.000000 170.000000 0.000000 256.000000 0.000000 160.000000 \n",
      "\n"
     ]
    },
    {
     "name": "stderr",
     "output_type": "stream",
     "text": [
      "/bin/fslval: line 91: /fsl/bin/fslhd: No such file or directory\n",
      "/bin/fslval: line 91: /fsl/bin/fslhd: No such file or directory\n",
      "/bin/fslval: line 91: /fsl/bin/fslhd: No such file or directory\n",
      "/bin/fslval: line 91: /fsl/bin/fslhd: No such file or directory\n",
      "/bin/fslval: line 91: /fsl/bin/fslhd: No such file or directory\n",
      "/bin/fslval: line 91: /fsl/bin/fslhd: No such file or directory\n",
      "/bin/bet: line 145: /bin/fslstats: No such file or directory\n"
     ]
    },
    {
     "name": "stdout",
     "output_type": "stream",
     "text": [
      "266\n",
      "Final FOV is: \n",
      "62.000000 170.000000 0.000000 256.000000 0.000000 160.000000 \n",
      "\n"
     ]
    },
    {
     "name": "stderr",
     "output_type": "stream",
     "text": [
      "/bin/fslval: line 91: /fsl/bin/fslhd: No such file or directory\n",
      "/bin/fslval: line 91: /fsl/bin/fslhd: No such file or directory\n",
      "/bin/fslval: line 91: /fsl/bin/fslhd: No such file or directory\n",
      "/bin/fslval: line 91: /fsl/bin/fslhd: No such file or directory\n",
      "/bin/fslval: line 91: /fsl/bin/fslhd: No such file or directory\n",
      "/bin/fslval: line 91: /fsl/bin/fslhd: No such file or directory\n",
      "/bin/bet: line 145: /bin/fslstats: No such file or directory\n"
     ]
    },
    {
     "name": "stdout",
     "output_type": "stream",
     "text": [
      "267\n",
      "Final FOV is: \n",
      "1.000000 169.000000 0.000000 256.000000 0.000000 160.000000 \n",
      "\n"
     ]
    },
    {
     "name": "stderr",
     "output_type": "stream",
     "text": [
      "/bin/fslval: line 91: /fsl/bin/fslhd: No such file or directory\n",
      "/bin/fslval: line 91: /fsl/bin/fslhd: No such file or directory\n",
      "/bin/fslval: line 91: /fsl/bin/fslhd: No such file or directory\n",
      "/bin/fslval: line 91: /fsl/bin/fslhd: No such file or directory\n",
      "/bin/fslval: line 91: /fsl/bin/fslhd: No such file or directory\n",
      "/bin/fslval: line 91: /fsl/bin/fslhd: No such file or directory\n",
      "/bin/bet: line 145: /bin/fslstats: No such file or directory\n"
     ]
    },
    {
     "name": "stdout",
     "output_type": "stream",
     "text": [
      "268\n",
      "Final FOV is: \n",
      "70.000000 169.000000 0.000000 256.000000 0.000000 160.000000 \n",
      "\n"
     ]
    },
    {
     "name": "stderr",
     "output_type": "stream",
     "text": [
      "/bin/fslval: line 91: /fsl/bin/fslhd: No such file or directory\n",
      "/bin/fslval: line 91: /fsl/bin/fslhd: No such file or directory\n",
      "/bin/fslval: line 91: /fsl/bin/fslhd: No such file or directory\n",
      "/bin/fslval: line 91: /fsl/bin/fslhd: No such file or directory\n",
      "/bin/fslval: line 91: /fsl/bin/fslhd: No such file or directory\n",
      "/bin/fslval: line 91: /fsl/bin/fslhd: No such file or directory\n",
      "/bin/bet: line 145: /bin/fslstats: No such file or directory\n"
     ]
    },
    {
     "name": "stdout",
     "output_type": "stream",
     "text": [
      "269\n",
      "Final FOV is: \n",
      "51.000000 169.000000 0.000000 256.000000 0.000000 160.000000 \n",
      "\n"
     ]
    },
    {
     "name": "stderr",
     "output_type": "stream",
     "text": [
      "/bin/fslval: line 91: /fsl/bin/fslhd: No such file or directory\n",
      "/bin/fslval: line 91: /fsl/bin/fslhd: No such file or directory\n",
      "/bin/fslval: line 91: /fsl/bin/fslhd: No such file or directory\n",
      "/bin/fslval: line 91: /fsl/bin/fslhd: No such file or directory\n",
      "/bin/fslval: line 91: /fsl/bin/fslhd: No such file or directory\n",
      "/bin/fslval: line 91: /fsl/bin/fslhd: No such file or directory\n",
      "/bin/bet: line 145: /bin/fslstats: No such file or directory\n"
     ]
    },
    {
     "name": "stdout",
     "output_type": "stream",
     "text": [
      "270\n"
     ]
    }
   ],
   "source": [
    "import os\n",
    "import SimpleITK as sitk\n",
    "import numpy as np\n",
    "import matplotlib.pyplot as plt\n",
    "\n",
    "rootdir = '/home/marlon/escola/faculdade/6/padroes/ADNI'\n",
    "\n",
    "data = []\n",
    "labels = []\n",
    "\n",
    "count = 0\n",
    "for subdir, dirs, files in os.walk(rootdir):\n",
    "    relative_path = subdir[len(rootdir):]\n",
    "    if (len(relative_path) == 0):\n",
    "        continue\n",
    "    patient = relative_path.rsplit('/')[1]\n",
    "\n",
    "    if patient in patient_groups:\n",
    "        group = patient_groups[patient]\n",
    "        # print(group)\n",
    "        for file in files:\n",
    "            try:\n",
    "                file_path = os.path.join(subdir, file)\n",
    "                skull_stripped_file = os.path.join(SKULL_STRIPPED_DB, file)\n",
    "                skull_strip_nii(file_path, skull_stripped_file)\n",
    "\n",
    "                sitk_image = sitk.ReadImage(skull_stripped_file)\n",
    "                sitk_image = resample_img(sitk_image)\n",
    "                img = sitk.GetArrayFromImage(sitk_image)\n",
    "                img = (img - np.min(img)) / (np.max(img) - np.min(img)) # Normalizar entre 0 e 1\n",
    "                images = slices_matrix_2D(img)\n",
    "\n",
    "                # print(os.path.join(subdir, file))\n",
    "                # print(images.shape)\n",
    "                # for image in images:\n",
    "                #     plt.imshow(image, cmap='gray')\n",
    "                #     plt.show()\n",
    "\n",
    "                data.extend(images)\n",
    "                labels.extend([group] * len(images))\n",
    "\n",
    "                # print(np.array(data).shape)\n",
    "                # print(np.array(labels).shape)\n",
    "                # print(np.array(data))\n",
    "            except Exception as e:\n",
    "                print(f'Error on {file}: {e}')\n",
    "\n",
    "            count+=1\n",
    "            print(count)\n",
    "\n",
    "with open('data.npy', 'wb') as f:\n",
    "    np.save(f, np.array(data))\n",
    "\n",
    "with open('labels.npy', 'wb') as f:\n",
    "    np.save(f, np.array(labels))\n"
   ]
  },
  {
   "cell_type": "code",
   "execution_count": 7,
   "metadata": {},
   "outputs": [],
   "source": [
    "# IMAGE = '/home/marlon/escola/faculdade/6/padroes/ADNI/002_S_0413/MPR____N3__Scaled/2006-05-19_16_17_47.0/I40657/ADNI_002_S_0413_MR_MPR____N3__Scaled_Br_20070216232854688_S14782_I40657.nii'\n",
    "# IMAGE2 = '/home/marlon/escola/faculdade/6/padroes/ADNI/002_S_0413/MPR____N3__Scaled/2006-05-19_16_17_47.0/I40657/teste.nii.gz'\n",
    "\n",
    "# # load in sitk format (SimpleITK)\n",
    "# sitk_image = sitk.ReadImage(IMAGE)\n",
    "# sitk_image2 = sitk.ReadImage(IMAGE2)\n",
    "# # transform into a numpy array\n",
    "# img = sitk.GetArrayFromImage(sitk_image)\n",
    "# img2 = sitk.GetArrayFromImage(sitk_image2)\n",
    "\n",
    "# plt.imshow(img[:,:,70], cmap='gray')\n",
    "# plt.show()\n",
    "\n",
    "# plt.imshow(img2[:,:,70], cmap='gray')\n",
    "# plt.show()"
   ]
  },
  {
   "cell_type": "code",
   "execution_count": 8,
   "metadata": {},
   "outputs": [],
   "source": [
    "data = np.array(data)\n",
    "labels = np.array(labels)\n",
    "\n",
    "# for img_ex in data[labels == 'AD']:\n",
    "#     plt.imshow(img_ex, cmap='gray')\n",
    "#     plt.show()"
   ]
  }
 ],
 "metadata": {
  "kernelspec": {
   "display_name": "Python 3.10.7 64-bit",
   "language": "python",
   "name": "python3"
  },
  "language_info": {
   "codemirror_mode": {
    "name": "ipython",
    "version": 3
   },
   "file_extension": ".py",
   "mimetype": "text/x-python",
   "name": "python",
   "nbconvert_exporter": "python",
   "pygments_lexer": "ipython3",
   "version": "3.10.7"
  },
  "orig_nbformat": 4,
  "vscode": {
   "interpreter": {
    "hash": "e7370f93d1d0cde622a1f8e1c04877d8463912d04d973331ad4851f04de6915a"
   }
  }
 },
 "nbformat": 4,
 "nbformat_minor": 2
}
